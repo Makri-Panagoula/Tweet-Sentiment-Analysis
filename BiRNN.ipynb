{
 "cells": [
  {
   "cell_type": "markdown",
   "id": "50b0bcc4",
   "metadata": {
    "papermill": {
     "duration": 0.009149,
     "end_time": "2024-04-07T08:44:19.472603",
     "exception": false,
     "start_time": "2024-04-07T08:44:19.463454",
     "status": "completed"
    },
    "tags": []
   },
   "source": [
    "# **Import Libraries & Install Packages & Initialize Structures for Preprocessing:**"
   ]
  },
  {
   "cell_type": "code",
   "execution_count": 1,
   "id": "5b97d466",
   "metadata": {
    "execution": {
     "iopub.execute_input": "2024-04-07T08:44:19.491179Z",
     "iopub.status.busy": "2024-04-07T08:44:19.490905Z",
     "iopub.status.idle": "2024-04-07T08:47:17.796310Z",
     "shell.execute_reply": "2024-04-07T08:47:17.795431Z"
    },
    "papermill": {
     "duration": 178.333397,
     "end_time": "2024-04-07T08:47:17.814699",
     "exception": false,
     "start_time": "2024-04-07T08:44:19.481302",
     "status": "completed"
    },
    "tags": []
   },
   "outputs": [
    {
     "name": "stdout",
     "output_type": "stream",
     "text": [
      "Collecting demoji\r\n",
      "  Obtaining dependency information for demoji from https://files.pythonhosted.org/packages/03/66/9dc4b6d57f3a74ad8cf79f0cc4e965165871bfb3f612db77ccd4e0200b38/demoji-1.1.0-py3-none-any.whl.metadata\r\n",
      "  Downloading demoji-1.1.0-py3-none-any.whl.metadata (9.2 kB)\r\n",
      "Downloading demoji-1.1.0-py3-none-any.whl (42 kB)\r\n",
      "\u001b[2K   \u001b[90m━━━━━━━━━━━━━━━━━━━━━━━━━━━━━━━━━━━━━━━━\u001b[0m \u001b[32m42.9/42.9 kB\u001b[0m \u001b[31m4.3 MB/s\u001b[0m eta \u001b[36m0:00:00\u001b[0m\r\n",
      "\u001b[?25hInstalling collected packages: demoji\r\n",
      "Successfully installed demoji-1.1.0\r\n",
      "Requirement already satisfied: emoji in /opt/conda/lib/python3.10/site-packages (2.9.0)\r\n",
      "Collecting emot\r\n",
      "  Obtaining dependency information for emot from https://files.pythonhosted.org/packages/28/b3/3a0f1f66c448fc66aba69a73d6405a104fd973142594ee8bc5a5122e949c/emot-3.1-py3-none-any.whl.metadata\r\n",
      "  Downloading emot-3.1-py3-none-any.whl.metadata (396 bytes)\r\n",
      "Downloading emot-3.1-py3-none-any.whl (61 kB)\r\n",
      "\u001b[2K   \u001b[90m━━━━━━━━━━━━━━━━━━━━━━━━━━━━━━━━━━━━━━━━\u001b[0m \u001b[32m61.5/61.5 kB\u001b[0m \u001b[31m3.9 MB/s\u001b[0m eta \u001b[36m0:00:00\u001b[0m\r\n",
      "\u001b[?25hInstalling collected packages: emot\r\n",
      "Successfully installed emot-3.1\r\n",
      "Collecting googletrans==4.0.0-rc1\r\n",
      "  Downloading googletrans-4.0.0rc1.tar.gz (20 kB)\r\n",
      "  Preparing metadata (setup.py) ... \u001b[?25l-\b \b\\\b \b|\b \bdone\r\n",
      "\u001b[?25hCollecting httpx==0.13.3 (from googletrans==4.0.0-rc1)\r\n",
      "  Obtaining dependency information for httpx==0.13.3 from https://files.pythonhosted.org/packages/54/b4/698b284c6aed4d7c2b4fe3ba5df1fcf6093612423797e76fbb24890dd22f/httpx-0.13.3-py3-none-any.whl.metadata\r\n",
      "  Downloading httpx-0.13.3-py3-none-any.whl.metadata (25 kB)\r\n",
      "Requirement already satisfied: certifi in /opt/conda/lib/python3.10/site-packages (from httpx==0.13.3->googletrans==4.0.0-rc1) (2023.11.17)\r\n",
      "Collecting hstspreload (from httpx==0.13.3->googletrans==4.0.0-rc1)\r\n",
      "  Obtaining dependency information for hstspreload from https://files.pythonhosted.org/packages/05/f3/f0c098cce4f5dd11316f1f9cf63fd760320a6c1918741870360039ef6c08/hstspreload-2024.4.1-py3-none-any.whl.metadata\r\n",
      "  Downloading hstspreload-2024.4.1-py3-none-any.whl.metadata (2.1 kB)\r\n",
      "Requirement already satisfied: sniffio in /opt/conda/lib/python3.10/site-packages (from httpx==0.13.3->googletrans==4.0.0-rc1) (1.3.0)\r\n",
      "Collecting chardet==3.* (from httpx==0.13.3->googletrans==4.0.0-rc1)\r\n",
      "  Obtaining dependency information for chardet==3.* from https://files.pythonhosted.org/packages/bc/a9/01ffebfb562e4274b6487b4bb1ddec7ca55ec7510b22e4c51f14098443b8/chardet-3.0.4-py2.py3-none-any.whl.metadata\r\n",
      "  Downloading chardet-3.0.4-py2.py3-none-any.whl.metadata (3.2 kB)\r\n",
      "Collecting idna==2.* (from httpx==0.13.3->googletrans==4.0.0-rc1)\r\n",
      "  Obtaining dependency information for idna==2.* from https://files.pythonhosted.org/packages/a2/38/928ddce2273eaa564f6f50de919327bf3a00f091b5baba8dfa9460f3a8a8/idna-2.10-py2.py3-none-any.whl.metadata\r\n",
      "  Downloading idna-2.10-py2.py3-none-any.whl.metadata (9.1 kB)\r\n",
      "Collecting rfc3986<2,>=1.3 (from httpx==0.13.3->googletrans==4.0.0-rc1)\r\n",
      "  Obtaining dependency information for rfc3986<2,>=1.3 from https://files.pythonhosted.org/packages/c4/e5/63ca2c4edf4e00657584608bee1001302bbf8c5f569340b78304f2f446cb/rfc3986-1.5.0-py2.py3-none-any.whl.metadata\r\n",
      "  Downloading rfc3986-1.5.0-py2.py3-none-any.whl.metadata (6.5 kB)\r\n",
      "Collecting httpcore==0.9.* (from httpx==0.13.3->googletrans==4.0.0-rc1)\r\n",
      "  Obtaining dependency information for httpcore==0.9.* from https://files.pythonhosted.org/packages/dd/d5/e4ff9318693ac6101a2095e580908b591838c6f33df8d3ee8dd953ba96a8/httpcore-0.9.1-py3-none-any.whl.metadata\r\n",
      "  Downloading httpcore-0.9.1-py3-none-any.whl.metadata (4.6 kB)\r\n",
      "Collecting h11<0.10,>=0.8 (from httpcore==0.9.*->httpx==0.13.3->googletrans==4.0.0-rc1)\r\n",
      "  Obtaining dependency information for h11<0.10,>=0.8 from https://files.pythonhosted.org/packages/5a/fd/3dad730b0f95e78aeeb742f96fa7bbecbdd56a58e405d3da440d5bfb90c6/h11-0.9.0-py2.py3-none-any.whl.metadata\r\n",
      "  Downloading h11-0.9.0-py2.py3-none-any.whl.metadata (8.1 kB)\r\n",
      "Collecting h2==3.* (from httpcore==0.9.*->httpx==0.13.3->googletrans==4.0.0-rc1)\r\n",
      "  Obtaining dependency information for h2==3.* from https://files.pythonhosted.org/packages/25/de/da019bcc539eeab02f6d45836f23858ac467f584bfec7a526ef200242afe/h2-3.2.0-py2.py3-none-any.whl.metadata\r\n",
      "  Downloading h2-3.2.0-py2.py3-none-any.whl.metadata (32 kB)\r\n",
      "Collecting hyperframe<6,>=5.2.0 (from h2==3.*->httpcore==0.9.*->httpx==0.13.3->googletrans==4.0.0-rc1)\r\n",
      "  Obtaining dependency information for hyperframe<6,>=5.2.0 from https://files.pythonhosted.org/packages/19/0c/bf88182bcb5dce3094e2f3e4fe20db28a9928cb7bd5b08024030e4b140db/hyperframe-5.2.0-py2.py3-none-any.whl.metadata\r\n",
      "  Downloading hyperframe-5.2.0-py2.py3-none-any.whl.metadata (7.2 kB)\r\n",
      "Collecting hpack<4,>=3.0 (from h2==3.*->httpcore==0.9.*->httpx==0.13.3->googletrans==4.0.0-rc1)\r\n",
      "  Obtaining dependency information for hpack<4,>=3.0 from https://files.pythonhosted.org/packages/8a/cc/e53517f4a1e13f74776ca93271caef378dadec14d71c61c949d759d3db69/hpack-3.0.0-py2.py3-none-any.whl.metadata\r\n",
      "  Downloading hpack-3.0.0-py2.py3-none-any.whl.metadata (7.0 kB)\r\n",
      "Downloading httpx-0.13.3-py3-none-any.whl (55 kB)\r\n",
      "\u001b[2K   \u001b[90m━━━━━━━━━━━━━━━━━━━━━━━━━━━━━━━━━━━━━━━━\u001b[0m \u001b[32m55.1/55.1 kB\u001b[0m \u001b[31m6.5 MB/s\u001b[0m eta \u001b[36m0:00:00\u001b[0m\r\n",
      "\u001b[?25hDownloading chardet-3.0.4-py2.py3-none-any.whl (133 kB)\r\n",
      "\u001b[2K   \u001b[90m━━━━━━━━━━━━━━━━━━━━━━━━━━━━━━━━━━━━━━━━\u001b[0m \u001b[32m133.4/133.4 kB\u001b[0m \u001b[31m14.2 MB/s\u001b[0m eta \u001b[36m0:00:00\u001b[0m\r\n",
      "\u001b[?25hDownloading httpcore-0.9.1-py3-none-any.whl (42 kB)\r\n",
      "\u001b[2K   \u001b[90m━━━━━━━━━━━━━━━━━━━━━━━━━━━━━━━━━━━━━━━━\u001b[0m \u001b[32m42.6/42.6 kB\u001b[0m \u001b[31m4.7 MB/s\u001b[0m eta \u001b[36m0:00:00\u001b[0m\r\n",
      "\u001b[?25hDownloading idna-2.10-py2.py3-none-any.whl (58 kB)\r\n",
      "\u001b[2K   \u001b[90m━━━━━━━━━━━━━━━━━━━━━━━━━━━━━━━━━━━━━━━━\u001b[0m \u001b[32m58.8/58.8 kB\u001b[0m \u001b[31m6.6 MB/s\u001b[0m eta \u001b[36m0:00:00\u001b[0m\r\n",
      "\u001b[?25hDownloading h2-3.2.0-py2.py3-none-any.whl (65 kB)\r\n",
      "\u001b[2K   \u001b[90m━━━━━━━━━━━━━━━━━━━━━━━━━━━━━━━━━━━━━━━━\u001b[0m \u001b[32m65.0/65.0 kB\u001b[0m \u001b[31m7.0 MB/s\u001b[0m eta \u001b[36m0:00:00\u001b[0m\r\n",
      "\u001b[?25hDownloading rfc3986-1.5.0-py2.py3-none-any.whl (31 kB)\r\n",
      "Downloading hstspreload-2024.4.1-py3-none-any.whl (1.1 MB)\r\n",
      "\u001b[2K   \u001b[90m━━━━━━━━━━━━━━━━━━━━━━━━━━━━━━━━━━━━━━━━\u001b[0m \u001b[32m1.1/1.1 MB\u001b[0m \u001b[31m63.6 MB/s\u001b[0m eta \u001b[36m0:00:00\u001b[0m\r\n",
      "\u001b[?25hDownloading h11-0.9.0-py2.py3-none-any.whl (53 kB)\r\n",
      "\u001b[2K   \u001b[90m━━━━━━━━━━━━━━━━━━━━━━━━━━━━━━━━━━━━━━━━\u001b[0m \u001b[32m53.6/53.6 kB\u001b[0m \u001b[31m6.0 MB/s\u001b[0m eta \u001b[36m0:00:00\u001b[0m\r\n",
      "\u001b[?25hDownloading hpack-3.0.0-py2.py3-none-any.whl (38 kB)\r\n",
      "Downloading hyperframe-5.2.0-py2.py3-none-any.whl (12 kB)\r\n",
      "Building wheels for collected packages: googletrans\r\n",
      "  Building wheel for googletrans (setup.py) ... \u001b[?25l-\b \b\\\b \b|\b \b/\b \bdone\r\n",
      "\u001b[?25h  Created wheel for googletrans: filename=googletrans-4.0.0rc1-py3-none-any.whl size=17396 sha256=8ced382d6cd90fa71933f40cac48fcbfead6060364173b034e1a8e5e35f3a0e2\r\n",
      "  Stored in directory: /root/.cache/pip/wheels/c0/59/9f/7372f0cf70160fe61b528532e1a7c8498c4becd6bcffb022de\r\n",
      "Successfully built googletrans\r\n",
      "Installing collected packages: rfc3986, hyperframe, hpack, h11, chardet, idna, hstspreload, h2, httpcore, httpx, googletrans\r\n",
      "  Attempting uninstall: h11\r\n",
      "    Found existing installation: h11 0.14.0\r\n",
      "    Uninstalling h11-0.14.0:\r\n",
      "      Successfully uninstalled h11-0.14.0\r\n",
      "  Attempting uninstall: idna\r\n",
      "    Found existing installation: idna 3.4\r\n",
      "    Uninstalling idna-3.4:\r\n",
      "      Successfully uninstalled idna-3.4\r\n",
      "\u001b[31mERROR: pip's dependency resolver does not currently take into account all the packages that are installed. This behaviour is the source of the following dependency conflicts.\r\n",
      "jupyterlab 4.0.5 requires jupyter-lsp>=2.0.0, but you have jupyter-lsp 1.5.1 which is incompatible.\r\n",
      "jupyterlab-lsp 5.0.1 requires jupyter-lsp>=2.0.0, but you have jupyter-lsp 1.5.1 which is incompatible.\r\n",
      "jupyterlab-lsp 5.0.1 requires jupyterlab<5.0.0a0,>=4.0.6, but you have jupyterlab 4.0.5 which is incompatible.\r\n",
      "tensorflowjs 4.14.0 requires packaging~=23.1, but you have packaging 21.3 which is incompatible.\r\n",
      "ydata-profiling 4.5.1 requires numpy<1.24,>=1.16.0, but you have numpy 1.24.3 which is incompatible.\u001b[0m\u001b[31m\r\n",
      "\u001b[0mSuccessfully installed chardet-3.0.4 googletrans-4.0.0rc1 h11-0.9.0 h2-3.2.0 hpack-3.0.0 hstspreload-2024.4.1 httpcore-0.9.1 httpx-0.13.3 hyperframe-5.2.0 idna-2.10 rfc3986-1.5.0\r\n",
      "Requirement already satisfied: Unidecode in /opt/conda/lib/python3.10/site-packages (1.3.7)\r\n",
      "Collecting greek-stemmer-pos\r\n",
      "  Obtaining dependency information for greek-stemmer-pos from https://files.pythonhosted.org/packages/af/4a/8e52f9cf2a5810e370e5aee8f67f1f5da714c64921625810d8e4b9ca02ed/greek_stemmer_pos-1.1.2-py3-none-any.whl.metadata\r\n",
      "  Downloading greek_stemmer_pos-1.1.2-py3-none-any.whl.metadata (5.7 kB)\r\n",
      "Requirement already satisfied: pytest in /opt/conda/lib/python3.10/site-packages (from greek-stemmer-pos) (7.4.3)\r\n",
      "Collecting pytest-cov (from greek-stemmer-pos)\r\n",
      "  Obtaining dependency information for pytest-cov from https://files.pythonhosted.org/packages/78/3a/af5b4fa5961d9a1e6237b530eb87dd04aea6eb83da09d2a4073d81b54ccf/pytest_cov-5.0.0-py3-none-any.whl.metadata\r\n",
      "  Downloading pytest_cov-5.0.0-py3-none-any.whl.metadata (27 kB)\r\n",
      "Requirement already satisfied: iniconfig in /opt/conda/lib/python3.10/site-packages (from pytest->greek-stemmer-pos) (2.0.0)\r\n",
      "Requirement already satisfied: packaging in /opt/conda/lib/python3.10/site-packages (from pytest->greek-stemmer-pos) (21.3)\r\n",
      "Requirement already satisfied: pluggy<2.0,>=0.12 in /opt/conda/lib/python3.10/site-packages (from pytest->greek-stemmer-pos) (1.2.0)\r\n",
      "Requirement already satisfied: exceptiongroup>=1.0.0rc8 in /opt/conda/lib/python3.10/site-packages (from pytest->greek-stemmer-pos) (1.1.3)\r\n",
      "Requirement already satisfied: tomli>=1.0.0 in /opt/conda/lib/python3.10/site-packages (from pytest->greek-stemmer-pos) (2.0.1)\r\n",
      "Collecting coverage[toml]>=5.2.1 (from pytest-cov->greek-stemmer-pos)\r\n",
      "  Obtaining dependency information for coverage[toml]>=5.2.1 from https://files.pythonhosted.org/packages/93/41/e6e9dbb322f3c93aba7bc519b9c62846d923d7b57398bdd7eda3f0acdd11/coverage-7.4.4-cp310-cp310-manylinux_2_5_x86_64.manylinux1_x86_64.manylinux_2_17_x86_64.manylinux2014_x86_64.whl.metadata\r\n",
      "  Downloading coverage-7.4.4-cp310-cp310-manylinux_2_5_x86_64.manylinux1_x86_64.manylinux_2_17_x86_64.manylinux2014_x86_64.whl.metadata (8.2 kB)\r\n",
      "Requirement already satisfied: pyparsing!=3.0.5,>=2.0.2 in /opt/conda/lib/python3.10/site-packages (from packaging->pytest->greek-stemmer-pos) (3.0.9)\r\n",
      "Downloading greek_stemmer_pos-1.1.2-py3-none-any.whl (19 kB)\r\n",
      "Downloading pytest_cov-5.0.0-py3-none-any.whl (21 kB)\r\n",
      "Downloading coverage-7.4.4-cp310-cp310-manylinux_2_5_x86_64.manylinux1_x86_64.manylinux_2_17_x86_64.manylinux2014_x86_64.whl (233 kB)\r\n",
      "\u001b[2K   \u001b[90m━━━━━━━━━━━━━━━━━━━━━━━━━━━━━━━━━━━━━━━━\u001b[0m \u001b[32m233.5/233.5 kB\u001b[0m \u001b[31m17.9 MB/s\u001b[0m eta \u001b[36m0:00:00\u001b[0m\r\n",
      "\u001b[?25hInstalling collected packages: coverage, pytest-cov, greek-stemmer-pos\r\n",
      "Successfully installed coverage-7.4.4 greek-stemmer-pos-1.1.2 pytest-cov-5.0.0\r\n",
      "Requirement already satisfied: spacy in /opt/conda/lib/python3.10/site-packages (3.7.2)\r\n",
      "Requirement already satisfied: spacy-legacy<3.1.0,>=3.0.11 in /opt/conda/lib/python3.10/site-packages (from spacy) (3.0.12)\r\n",
      "Requirement already satisfied: spacy-loggers<2.0.0,>=1.0.0 in /opt/conda/lib/python3.10/site-packages (from spacy) (1.0.5)\r\n",
      "Requirement already satisfied: murmurhash<1.1.0,>=0.28.0 in /opt/conda/lib/python3.10/site-packages (from spacy) (1.0.10)\r\n",
      "Requirement already satisfied: cymem<2.1.0,>=2.0.2 in /opt/conda/lib/python3.10/site-packages (from spacy) (2.0.8)\r\n",
      "Requirement already satisfied: preshed<3.1.0,>=3.0.2 in /opt/conda/lib/python3.10/site-packages (from spacy) (3.0.9)\r\n",
      "Requirement already satisfied: thinc<8.3.0,>=8.1.8 in /opt/conda/lib/python3.10/site-packages (from spacy) (8.2.1)\r\n",
      "Requirement already satisfied: wasabi<1.2.0,>=0.9.1 in /opt/conda/lib/python3.10/site-packages (from spacy) (1.1.2)\r\n",
      "Requirement already satisfied: srsly<3.0.0,>=2.4.3 in /opt/conda/lib/python3.10/site-packages (from spacy) (2.4.8)\r\n",
      "Requirement already satisfied: catalogue<2.1.0,>=2.0.6 in /opt/conda/lib/python3.10/site-packages (from spacy) (2.0.10)\r\n",
      "Requirement already satisfied: weasel<0.4.0,>=0.1.0 in /opt/conda/lib/python3.10/site-packages (from spacy) (0.3.4)\r\n",
      "Requirement already satisfied: typer<0.10.0,>=0.3.0 in /opt/conda/lib/python3.10/site-packages (from spacy) (0.9.0)\r\n",
      "Requirement already satisfied: smart-open<7.0.0,>=5.2.1 in /opt/conda/lib/python3.10/site-packages (from spacy) (6.3.0)\r\n",
      "Requirement already satisfied: tqdm<5.0.0,>=4.38.0 in /opt/conda/lib/python3.10/site-packages (from spacy) (4.66.1)\r\n",
      "Requirement already satisfied: requests<3.0.0,>=2.13.0 in /opt/conda/lib/python3.10/site-packages (from spacy) (2.31.0)\r\n",
      "Requirement already satisfied: pydantic!=1.8,!=1.8.1,<3.0.0,>=1.7.4 in /opt/conda/lib/python3.10/site-packages (from spacy) (1.10.12)\r\n",
      "Requirement already satisfied: jinja2 in /opt/conda/lib/python3.10/site-packages (from spacy) (3.1.2)\r\n",
      "Requirement already satisfied: setuptools in /opt/conda/lib/python3.10/site-packages (from spacy) (68.1.2)\r\n",
      "Requirement already satisfied: packaging>=20.0 in /opt/conda/lib/python3.10/site-packages (from spacy) (21.3)\r\n",
      "Requirement already satisfied: langcodes<4.0.0,>=3.2.0 in /opt/conda/lib/python3.10/site-packages (from spacy) (3.3.0)\r\n",
      "Requirement already satisfied: numpy>=1.19.0 in /opt/conda/lib/python3.10/site-packages (from spacy) (1.24.3)\r\n",
      "Requirement already satisfied: pyparsing!=3.0.5,>=2.0.2 in /opt/conda/lib/python3.10/site-packages (from packaging>=20.0->spacy) (3.0.9)\r\n",
      "Requirement already satisfied: typing-extensions>=4.2.0 in /opt/conda/lib/python3.10/site-packages (from pydantic!=1.8,!=1.8.1,<3.0.0,>=1.7.4->spacy) (4.5.0)\r\n",
      "Requirement already satisfied: charset-normalizer<4,>=2 in /opt/conda/lib/python3.10/site-packages (from requests<3.0.0,>=2.13.0->spacy) (3.2.0)\r\n",
      "Requirement already satisfied: idna<4,>=2.5 in /opt/conda/lib/python3.10/site-packages (from requests<3.0.0,>=2.13.0->spacy) (2.10)\r\n",
      "Requirement already satisfied: urllib3<3,>=1.21.1 in /opt/conda/lib/python3.10/site-packages (from requests<3.0.0,>=2.13.0->spacy) (1.26.15)\r\n",
      "Requirement already satisfied: certifi>=2017.4.17 in /opt/conda/lib/python3.10/site-packages (from requests<3.0.0,>=2.13.0->spacy) (2023.11.17)\r\n",
      "Requirement already satisfied: blis<0.8.0,>=0.7.8 in /opt/conda/lib/python3.10/site-packages (from thinc<8.3.0,>=8.1.8->spacy) (0.7.10)\r\n",
      "Requirement already satisfied: confection<1.0.0,>=0.0.1 in /opt/conda/lib/python3.10/site-packages (from thinc<8.3.0,>=8.1.8->spacy) (0.1.4)\r\n",
      "Requirement already satisfied: click<9.0.0,>=7.1.1 in /opt/conda/lib/python3.10/site-packages (from typer<0.10.0,>=0.3.0->spacy) (8.1.7)\r\n",
      "Requirement already satisfied: cloudpathlib<0.17.0,>=0.7.0 in /opt/conda/lib/python3.10/site-packages (from weasel<0.4.0,>=0.1.0->spacy) (0.16.0)\r\n",
      "Requirement already satisfied: MarkupSafe>=2.0 in /opt/conda/lib/python3.10/site-packages (from jinja2->spacy) (2.1.3)\r\n",
      "Requirement already satisfied: torch in /opt/conda/lib/python3.10/site-packages (2.0.0)\r\n",
      "Requirement already satisfied: filelock in /opt/conda/lib/python3.10/site-packages (from torch) (3.12.2)\r\n",
      "Requirement already satisfied: typing-extensions in /opt/conda/lib/python3.10/site-packages (from torch) (4.5.0)\r\n",
      "Requirement already satisfied: sympy in /opt/conda/lib/python3.10/site-packages (from torch) (1.12)\r\n",
      "Requirement already satisfied: networkx in /opt/conda/lib/python3.10/site-packages (from torch) (3.1)\r\n",
      "Requirement already satisfied: jinja2 in /opt/conda/lib/python3.10/site-packages (from torch) (3.1.2)\r\n",
      "Requirement already satisfied: MarkupSafe>=2.0 in /opt/conda/lib/python3.10/site-packages (from jinja2->torch) (2.1.3)\r\n",
      "Requirement already satisfied: mpmath>=0.19 in /opt/conda/lib/python3.10/site-packages (from sympy->torch) (1.3.0)\r\n",
      "Requirement already satisfied: optuna in /opt/conda/lib/python3.10/site-packages (3.5.0)\r\n",
      "Requirement already satisfied: alembic>=1.5.0 in /opt/conda/lib/python3.10/site-packages (from optuna) (1.13.0)\r\n",
      "Requirement already satisfied: colorlog in /opt/conda/lib/python3.10/site-packages (from optuna) (6.8.0)\r\n",
      "Requirement already satisfied: numpy in /opt/conda/lib/python3.10/site-packages (from optuna) (1.24.3)\r\n",
      "Requirement already satisfied: packaging>=20.0 in /opt/conda/lib/python3.10/site-packages (from optuna) (21.3)\r\n",
      "Requirement already satisfied: sqlalchemy>=1.3.0 in /opt/conda/lib/python3.10/site-packages (from optuna) (2.0.20)\r\n",
      "Requirement already satisfied: tqdm in /opt/conda/lib/python3.10/site-packages (from optuna) (4.66.1)\r\n",
      "Requirement already satisfied: PyYAML in /opt/conda/lib/python3.10/site-packages (from optuna) (6.0.1)\r\n",
      "Requirement already satisfied: Mako in /opt/conda/lib/python3.10/site-packages (from alembic>=1.5.0->optuna) (1.3.0)\r\n",
      "Requirement already satisfied: typing-extensions>=4 in /opt/conda/lib/python3.10/site-packages (from alembic>=1.5.0->optuna) (4.5.0)\r\n",
      "Requirement already satisfied: pyparsing!=3.0.5,>=2.0.2 in /opt/conda/lib/python3.10/site-packages (from packaging>=20.0->optuna) (3.0.9)\r\n",
      "Requirement already satisfied: greenlet!=0.4.17 in /opt/conda/lib/python3.10/site-packages (from sqlalchemy>=1.3.0->optuna) (2.0.2)\r\n",
      "Requirement already satisfied: MarkupSafe>=0.9.2 in /opt/conda/lib/python3.10/site-packages (from Mako->alembic>=1.5.0->optuna) (2.1.3)\r\n",
      "Requirement already satisfied: torchmetrics in /opt/conda/lib/python3.10/site-packages (1.2.1)\r\n",
      "Requirement already satisfied: numpy>1.20.0 in /opt/conda/lib/python3.10/site-packages (from torchmetrics) (1.24.3)\r\n",
      "Requirement already satisfied: packaging>17.1 in /opt/conda/lib/python3.10/site-packages (from torchmetrics) (21.3)\r\n",
      "Requirement already satisfied: torch>=1.8.1 in /opt/conda/lib/python3.10/site-packages (from torchmetrics) (2.0.0)\r\n",
      "Requirement already satisfied: lightning-utilities>=0.8.0 in /opt/conda/lib/python3.10/site-packages (from torchmetrics) (0.10.0)\r\n",
      "Requirement already satisfied: setuptools in /opt/conda/lib/python3.10/site-packages (from lightning-utilities>=0.8.0->torchmetrics) (68.1.2)\r\n",
      "Requirement already satisfied: typing-extensions in /opt/conda/lib/python3.10/site-packages (from lightning-utilities>=0.8.0->torchmetrics) (4.5.0)\r\n",
      "Requirement already satisfied: pyparsing!=3.0.5,>=2.0.2 in /opt/conda/lib/python3.10/site-packages (from packaging>17.1->torchmetrics) (3.0.9)\r\n",
      "Requirement already satisfied: filelock in /opt/conda/lib/python3.10/site-packages (from torch>=1.8.1->torchmetrics) (3.12.2)\r\n",
      "Requirement already satisfied: sympy in /opt/conda/lib/python3.10/site-packages (from torch>=1.8.1->torchmetrics) (1.12)\r\n",
      "Requirement already satisfied: networkx in /opt/conda/lib/python3.10/site-packages (from torch>=1.8.1->torchmetrics) (3.1)\r\n",
      "Requirement already satisfied: jinja2 in /opt/conda/lib/python3.10/site-packages (from torch>=1.8.1->torchmetrics) (3.1.2)\r\n",
      "Requirement already satisfied: MarkupSafe>=2.0 in /opt/conda/lib/python3.10/site-packages (from jinja2->torch>=1.8.1->torchmetrics) (2.1.3)\r\n",
      "Requirement already satisfied: mpmath>=0.19 in /opt/conda/lib/python3.10/site-packages (from sympy->torch>=1.8.1->torchmetrics) (1.3.0)\r\n",
      "Requirement already satisfied: transformers in /opt/conda/lib/python3.10/site-packages (4.36.0)\r\n",
      "Requirement already satisfied: filelock in /opt/conda/lib/python3.10/site-packages (from transformers) (3.12.2)\r\n",
      "Requirement already satisfied: huggingface-hub<1.0,>=0.19.3 in /opt/conda/lib/python3.10/site-packages (from transformers) (0.19.4)\r\n",
      "Requirement already satisfied: numpy>=1.17 in /opt/conda/lib/python3.10/site-packages (from transformers) (1.24.3)\r\n",
      "Requirement already satisfied: packaging>=20.0 in /opt/conda/lib/python3.10/site-packages (from transformers) (21.3)\r\n",
      "Requirement already satisfied: pyyaml>=5.1 in /opt/conda/lib/python3.10/site-packages (from transformers) (6.0.1)\r\n",
      "Requirement already satisfied: regex!=2019.12.17 in /opt/conda/lib/python3.10/site-packages (from transformers) (2023.8.8)\r\n",
      "Requirement already satisfied: requests in /opt/conda/lib/python3.10/site-packages (from transformers) (2.31.0)\r\n",
      "Requirement already satisfied: tokenizers<0.19,>=0.14 in /opt/conda/lib/python3.10/site-packages (from transformers) (0.15.0)\r\n",
      "Requirement already satisfied: safetensors>=0.3.1 in /opt/conda/lib/python3.10/site-packages (from transformers) (0.4.1)\r\n",
      "Requirement already satisfied: tqdm>=4.27 in /opt/conda/lib/python3.10/site-packages (from transformers) (4.66.1)\r\n",
      "Requirement already satisfied: fsspec>=2023.5.0 in /opt/conda/lib/python3.10/site-packages (from huggingface-hub<1.0,>=0.19.3->transformers) (2023.12.2)\r\n",
      "Requirement already satisfied: typing-extensions>=3.7.4.3 in /opt/conda/lib/python3.10/site-packages (from huggingface-hub<1.0,>=0.19.3->transformers) (4.5.0)\r\n",
      "Requirement already satisfied: pyparsing!=3.0.5,>=2.0.2 in /opt/conda/lib/python3.10/site-packages (from packaging>=20.0->transformers) (3.0.9)\r\n",
      "Requirement already satisfied: charset-normalizer<4,>=2 in /opt/conda/lib/python3.10/site-packages (from requests->transformers) (3.2.0)\r\n",
      "Requirement already satisfied: idna<4,>=2.5 in /opt/conda/lib/python3.10/site-packages (from requests->transformers) (2.10)\r\n",
      "Requirement already satisfied: urllib3<3,>=1.21.1 in /opt/conda/lib/python3.10/site-packages (from requests->transformers) (1.26.15)\r\n",
      "Requirement already satisfied: certifi>=2017.4.17 in /opt/conda/lib/python3.10/site-packages (from requests->transformers) (2023.11.17)\r\n",
      "/opt/conda/lib/python3.10/site-packages/scipy/__init__.py:146: UserWarning: A NumPy version >=1.16.5 and <1.23.0 is required for this version of SciPy (detected version 1.24.3\r\n",
      "  warnings.warn(f\"A NumPy version >={np_minversion} and <{np_maxversion}\"\r\n",
      "Collecting el-core-news-sm==3.7.0\r\n",
      "  Downloading https://github.com/explosion/spacy-models/releases/download/el_core_news_sm-3.7.0/el_core_news_sm-3.7.0-py3-none-any.whl (12.6 MB)\r\n",
      "\u001b[2K     \u001b[90m━━━━━━━━━━━━━━━━━━━━━━━━━━━━━━━━━━━━━━━━\u001b[0m \u001b[32m12.6/12.6 MB\u001b[0m \u001b[31m74.2 MB/s\u001b[0m eta \u001b[36m0:00:00\u001b[0m\r\n",
      "\u001b[?25hRequirement already satisfied: spacy<3.8.0,>=3.7.0 in /opt/conda/lib/python3.10/site-packages (from el-core-news-sm==3.7.0) (3.7.2)\r\n",
      "Requirement already satisfied: spacy-legacy<3.1.0,>=3.0.11 in /opt/conda/lib/python3.10/site-packages (from spacy<3.8.0,>=3.7.0->el-core-news-sm==3.7.0) (3.0.12)\r\n",
      "Requirement already satisfied: spacy-loggers<2.0.0,>=1.0.0 in /opt/conda/lib/python3.10/site-packages (from spacy<3.8.0,>=3.7.0->el-core-news-sm==3.7.0) (1.0.5)\r\n",
      "Requirement already satisfied: murmurhash<1.1.0,>=0.28.0 in /opt/conda/lib/python3.10/site-packages (from spacy<3.8.0,>=3.7.0->el-core-news-sm==3.7.0) (1.0.10)\r\n",
      "Requirement already satisfied: cymem<2.1.0,>=2.0.2 in /opt/conda/lib/python3.10/site-packages (from spacy<3.8.0,>=3.7.0->el-core-news-sm==3.7.0) (2.0.8)\r\n",
      "Requirement already satisfied: preshed<3.1.0,>=3.0.2 in /opt/conda/lib/python3.10/site-packages (from spacy<3.8.0,>=3.7.0->el-core-news-sm==3.7.0) (3.0.9)\r\n",
      "Requirement already satisfied: thinc<8.3.0,>=8.1.8 in /opt/conda/lib/python3.10/site-packages (from spacy<3.8.0,>=3.7.0->el-core-news-sm==3.7.0) (8.2.1)\r\n",
      "Requirement already satisfied: wasabi<1.2.0,>=0.9.1 in /opt/conda/lib/python3.10/site-packages (from spacy<3.8.0,>=3.7.0->el-core-news-sm==3.7.0) (1.1.2)\r\n",
      "Requirement already satisfied: srsly<3.0.0,>=2.4.3 in /opt/conda/lib/python3.10/site-packages (from spacy<3.8.0,>=3.7.0->el-core-news-sm==3.7.0) (2.4.8)\r\n",
      "Requirement already satisfied: catalogue<2.1.0,>=2.0.6 in /opt/conda/lib/python3.10/site-packages (from spacy<3.8.0,>=3.7.0->el-core-news-sm==3.7.0) (2.0.10)\r\n",
      "Requirement already satisfied: weasel<0.4.0,>=0.1.0 in /opt/conda/lib/python3.10/site-packages (from spacy<3.8.0,>=3.7.0->el-core-news-sm==3.7.0) (0.3.4)\r\n",
      "Requirement already satisfied: typer<0.10.0,>=0.3.0 in /opt/conda/lib/python3.10/site-packages (from spacy<3.8.0,>=3.7.0->el-core-news-sm==3.7.0) (0.9.0)\r\n",
      "Requirement already satisfied: smart-open<7.0.0,>=5.2.1 in /opt/conda/lib/python3.10/site-packages (from spacy<3.8.0,>=3.7.0->el-core-news-sm==3.7.0) (6.3.0)\r\n",
      "Requirement already satisfied: tqdm<5.0.0,>=4.38.0 in /opt/conda/lib/python3.10/site-packages (from spacy<3.8.0,>=3.7.0->el-core-news-sm==3.7.0) (4.66.1)\r\n",
      "Requirement already satisfied: requests<3.0.0,>=2.13.0 in /opt/conda/lib/python3.10/site-packages (from spacy<3.8.0,>=3.7.0->el-core-news-sm==3.7.0) (2.31.0)\r\n",
      "Requirement already satisfied: pydantic!=1.8,!=1.8.1,<3.0.0,>=1.7.4 in /opt/conda/lib/python3.10/site-packages (from spacy<3.8.0,>=3.7.0->el-core-news-sm==3.7.0) (1.10.12)\r\n",
      "Requirement already satisfied: jinja2 in /opt/conda/lib/python3.10/site-packages (from spacy<3.8.0,>=3.7.0->el-core-news-sm==3.7.0) (3.1.2)\r\n",
      "Requirement already satisfied: setuptools in /opt/conda/lib/python3.10/site-packages (from spacy<3.8.0,>=3.7.0->el-core-news-sm==3.7.0) (68.1.2)\r\n",
      "Requirement already satisfied: packaging>=20.0 in /opt/conda/lib/python3.10/site-packages (from spacy<3.8.0,>=3.7.0->el-core-news-sm==3.7.0) (21.3)\r\n",
      "Requirement already satisfied: langcodes<4.0.0,>=3.2.0 in /opt/conda/lib/python3.10/site-packages (from spacy<3.8.0,>=3.7.0->el-core-news-sm==3.7.0) (3.3.0)\r\n",
      "Requirement already satisfied: numpy>=1.19.0 in /opt/conda/lib/python3.10/site-packages (from spacy<3.8.0,>=3.7.0->el-core-news-sm==3.7.0) (1.24.3)\r\n",
      "Requirement already satisfied: pyparsing!=3.0.5,>=2.0.2 in /opt/conda/lib/python3.10/site-packages (from packaging>=20.0->spacy<3.8.0,>=3.7.0->el-core-news-sm==3.7.0) (3.0.9)\r\n",
      "Requirement already satisfied: typing-extensions>=4.2.0 in /opt/conda/lib/python3.10/site-packages (from pydantic!=1.8,!=1.8.1,<3.0.0,>=1.7.4->spacy<3.8.0,>=3.7.0->el-core-news-sm==3.7.0) (4.5.0)\r\n",
      "Requirement already satisfied: charset-normalizer<4,>=2 in /opt/conda/lib/python3.10/site-packages (from requests<3.0.0,>=2.13.0->spacy<3.8.0,>=3.7.0->el-core-news-sm==3.7.0) (3.2.0)\r\n",
      "Requirement already satisfied: idna<4,>=2.5 in /opt/conda/lib/python3.10/site-packages (from requests<3.0.0,>=2.13.0->spacy<3.8.0,>=3.7.0->el-core-news-sm==3.7.0) (2.10)\r\n",
      "Requirement already satisfied: urllib3<3,>=1.21.1 in /opt/conda/lib/python3.10/site-packages (from requests<3.0.0,>=2.13.0->spacy<3.8.0,>=3.7.0->el-core-news-sm==3.7.0) (1.26.15)\r\n",
      "Requirement already satisfied: certifi>=2017.4.17 in /opt/conda/lib/python3.10/site-packages (from requests<3.0.0,>=2.13.0->spacy<3.8.0,>=3.7.0->el-core-news-sm==3.7.0) (2023.11.17)\r\n",
      "Requirement already satisfied: blis<0.8.0,>=0.7.8 in /opt/conda/lib/python3.10/site-packages (from thinc<8.3.0,>=8.1.8->spacy<3.8.0,>=3.7.0->el-core-news-sm==3.7.0) (0.7.10)\r\n",
      "Requirement already satisfied: confection<1.0.0,>=0.0.1 in /opt/conda/lib/python3.10/site-packages (from thinc<8.3.0,>=8.1.8->spacy<3.8.0,>=3.7.0->el-core-news-sm==3.7.0) (0.1.4)\r\n",
      "Requirement already satisfied: click<9.0.0,>=7.1.1 in /opt/conda/lib/python3.10/site-packages (from typer<0.10.0,>=0.3.0->spacy<3.8.0,>=3.7.0->el-core-news-sm==3.7.0) (8.1.7)\r\n",
      "Requirement already satisfied: cloudpathlib<0.17.0,>=0.7.0 in /opt/conda/lib/python3.10/site-packages (from weasel<0.4.0,>=0.1.0->spacy<3.8.0,>=3.7.0->el-core-news-sm==3.7.0) (0.16.0)\r\n",
      "Requirement already satisfied: MarkupSafe>=2.0 in /opt/conda/lib/python3.10/site-packages (from jinja2->spacy<3.8.0,>=3.7.0->el-core-news-sm==3.7.0) (2.1.3)\r\n",
      "Installing collected packages: el-core-news-sm\r\n",
      "Successfully installed el-core-news-sm-3.7.0\r\n",
      "\u001b[38;5;2m✔ Download and installation successful\u001b[0m\r\n",
      "You can now load the package via spacy.load('el_core_news_sm')\r\n"
     ]
    },
    {
     "name": "stderr",
     "output_type": "stream",
     "text": [
      "/opt/conda/lib/python3.10/site-packages/scipy/__init__.py:146: UserWarning: A NumPy version >=1.16.5 and <1.23.0 is required for this version of SciPy (detected version 1.24.3\n",
      "  warnings.warn(f\"A NumPy version >={np_minversion} and <{np_maxversion}\"\n"
     ]
    },
    {
     "name": "stdout",
     "output_type": "stream",
     "text": [
      "[nltk_data] Downloading package stopwords to /usr/share/nltk_data...\n",
      "[nltk_data]   Package stopwords is already up-to-date!\n"
     ]
    },
    {
     "data": {
      "text/plain": [
       "True"
      ]
     },
     "execution_count": 1,
     "metadata": {},
     "output_type": "execute_result"
    }
   ],
   "source": [
    "!pip install demoji\n",
    "!pip install emoji\n",
    "!pip install emot\n",
    "!pip install googletrans==4.0.0-rc1\n",
    "!pip install Unidecode\n",
    "!pip install greek-stemmer-pos\n",
    "!pip install spacy \n",
    "!pip install torch\n",
    "!pip install optuna\n",
    "!pip install torchmetrics\n",
    "!pip install transformers\n",
    "!python -m spacy download el_core_news_sm\n",
    "from sklearn.metrics import f1_score, confusion_matrix\n",
    "import pandas as pd\n",
    "import csv\n",
    "import torch\n",
    "import os\n",
    "import optuna\n",
    "import spacy\n",
    "import nltk\n",
    "import re\n",
    "import string\n",
    "import emoji\n",
    "import demoji\n",
    "import emot\n",
    "import itertools\n",
    "import gensim\n",
    "import multiprocessing\n",
    "import numpy as np\n",
    "import unicodedata as ud\n",
    "import random\n",
    "import torch.nn as nn\n",
    "import torch.optim as optim\n",
    "import warnings\n",
    "warnings.filterwarnings(\"ignore\")\n",
    "from matplotlib import pyplot as plt\n",
    "import seaborn as sns\n",
    "import optuna.visualization as vis\n",
    "from torch.nn.utils.rnn import pad_sequence, pack_padded_sequence,pad_packed_sequence\n",
    "from torch.utils.data import TensorDataset\n",
    "from torch.utils.data import DataLoader,Dataset\n",
    "from string import punctuation\n",
    "from nltk.corpus import stopwords\n",
    "from nltk.stem import PorterStemmer\n",
    "from sklearn.base import BaseEstimator, TransformerMixin\n",
    "from googletrans import Translator\n",
    "from emot.emo_unicode import EMOTICONS_EMO\n",
    "from sklearn.metrics import precision_score, recall_score\n",
    "from flashtext import KeywordProcessor\n",
    "from sklearn.linear_model import LogisticRegression\n",
    "from greek_stemmer import stemmer\n",
    "from spacy.lang.el.examples import sentences \n",
    "from gensim.models import Word2Vec\n",
    "from gensim.models.phrases import Phrases, Phraser\n",
    "from nltk.tokenize import word_tokenize\n",
    "from sklearn.model_selection import train_test_split\n",
    "from transformers import BertTokenizer, BertModel, BertTokenizerFast\n",
    "\n",
    "nltk.download('stopwords')"
   ]
  },
  {
   "cell_type": "code",
   "execution_count": 2,
   "id": "7bc32d65",
   "metadata": {
    "execution": {
     "iopub.execute_input": "2024-04-07T08:47:17.848546Z",
     "iopub.status.busy": "2024-04-07T08:47:17.847975Z",
     "iopub.status.idle": "2024-04-07T08:47:18.249918Z",
     "shell.execute_reply": "2024-04-07T08:47:18.249079Z"
    },
    "papermill": {
     "duration": 0.421377,
     "end_time": "2024-04-07T08:47:18.252247",
     "exception": false,
     "start_time": "2024-04-07T08:47:17.830870",
     "status": "completed"
    },
    "tags": []
   },
   "outputs": [],
   "source": [
    "#Read the datasets\n",
    "train_df = pd.read_csv(\"/kaggle/input/ys19-2023-assignment-3/train_set.csv\")\n",
    "val_df = pd.read_csv(\"/kaggle/input/ys19-2023-assignment-3/valid_set.csv\")\n",
    "\n",
    "#Concatenate train_df and val_df since they are the only ones that have a label and later split into train,validation and test set\n",
    "df = pd.concat([train_df, val_df], ignore_index=True)\n",
    "\n",
    "#Remove rows that don't have acceptable values \n",
    "acceptable_labels = ['POSITIVE','NEGATIVE','NEUTRAL']\n",
    "df = df[df['Sentiment'].isin(acceptable_labels)].reset_index(drop=True)"
   ]
  },
  {
   "cell_type": "markdown",
   "id": "a81db6b9",
   "metadata": {
    "papermill": {
     "duration": 0.016337,
     "end_time": "2024-04-07T08:47:18.286012",
     "exception": false,
     "start_time": "2024-04-07T08:47:18.269675",
     "status": "completed"
    },
    "tags": []
   },
   "source": [
    "# **Data Preprocessing & Word Embeddings Using Word2Vec:**"
   ]
  },
  {
   "cell_type": "code",
   "execution_count": 3,
   "id": "c0fa6032",
   "metadata": {
    "execution": {
     "iopub.execute_input": "2024-04-07T08:47:18.320196Z",
     "iopub.status.busy": "2024-04-07T08:47:18.319916Z",
     "iopub.status.idle": "2024-04-07T08:47:18.340955Z",
     "shell.execute_reply": "2024-04-07T08:47:18.340249Z"
    },
    "papermill": {
     "duration": 0.040416,
     "end_time": "2024-04-07T08:47:18.342852",
     "exception": false,
     "start_time": "2024-04-07T08:47:18.302436",
     "status": "completed"
    },
    "tags": []
   },
   "outputs": [],
   "source": [
    "class DataPreprocessing(BaseEstimator, TransformerMixin):\n",
    "    \n",
    "    def remove_tags(self, text):\n",
    "        return re.sub('@.*? ', '',text)\n",
    "    \n",
    "    def remove_urls(self, text):\n",
    "        return re.sub(r'http.?://[^\\s]+[\\s]?', '',text)\n",
    "    \n",
    "    def emoji_to_word(self, text):\n",
    "        #Get the map of emojis and their meaning in current text\n",
    "        emojis = demoji.findall(text)\n",
    "        #Convert the meaning to greek and add pair to keyword processor if it doesn't already exists\n",
    "        for emoji,value in emojis.items():\n",
    "            try :\n",
    "               greek_value = translator.translate(value.replace(\":\",\"\").replace(\"_\",\" \").strip(), src='en', dest='el').text\n",
    "            except :\n",
    "                greek_value = \"\"  \n",
    "                \n",
    "            # We replace emojis and emoticons with their corresponding greek words\n",
    "            kp_emojis.add_keyword(emoji, greek_value) \n",
    "            \n",
    "        return kp_emojis.replace_keywords(text)\n",
    "    def remove_emoji(self, text):\n",
    "        emoji_pattern = re.compile(\"[\"\n",
    "                                   u\"\\U0001F600-\\U0001F64F\"  # emoticons\n",
    "                                   u\"\\U0001F300-\\U0001F5FF\"  # symbols & pictographs\n",
    "                                   u\"\\U0001F680-\\U0001F6FF\"  # transport & map symbols\n",
    "                                   u\"\\U0001F1E0-\\U0001F1FF\"  # flags (iOS)\n",
    "                                   u\"\\U00002702-\\U000027B0\"\n",
    "                                   u\"\\U000024C2-\\U0001F251\"\n",
    "                                   \"]+\", flags=re.UNICODE)\n",
    "        return emoji_pattern.sub(r'', text)\n",
    "    \n",
    "    def remove_hashtags(self,text):\n",
    "        #We remove the string following the hashtag\n",
    "        words = text.split()\n",
    "        return ' '.join(word for word in words if not word.startswith('#'))\n",
    "    \n",
    "    def remove_punctuation(self, text):\n",
    "        # We leave a space in the place of every punctuation symbol to avoid mistaken concatenation between words\n",
    "        greek_punc = punctuation + '«' +'»'+'’'\n",
    "        trantab = str.maketrans(greek_punc, len(greek_punc)*' ')  \n",
    "        return text.translate(trantab)\n",
    "    \n",
    "    def remove_accents(self, text):\n",
    "        d = {ord('\\N{COMBINING ACUTE ACCENT}'):None}\n",
    "        return ud.normalize('NFD',text).translate(d)\n",
    "    \n",
    "    def remove_digits(self, input_text):\n",
    "        return re.sub('\\d+', '', input_text)    \n",
    "    \n",
    "    def remove_stopwords(self, text):\n",
    "        words = text.split() \n",
    "        #We remove strings that aren't words as well as stop words\n",
    "        filtered_words = [word for word in words if (word not in stops) and len(word) > 1] \n",
    "        return \" \".join(filtered_words) \n",
    "    \n",
    "    def to_lower(self, text):\n",
    "        return text.lower()\n",
    "    \n",
    "    def convert_greeklish(self, text):\n",
    "        return text.translate(greeklish_to_greek)\n",
    "    \n",
    "    def remove_greeklish(self,text):\n",
    "        # We replace every non-greek word with an empty string\n",
    "        latin_pattern = r'\\b[a-zA-Z]+\\b'\n",
    "        return re.sub(latin_pattern, '', text)\n",
    "        \n",
    "    def stemming(self,text):\n",
    "        words = text.split() \n",
    "        stemmed_words = [stemmer.stem_word(word,'VB') for word in words]\n",
    "        return \" \".join(stemmed_words)\n",
    "    \n",
    "    def lemmatization(self,text):\n",
    "        doc = nlp(text)\n",
    "        return ' '.join([token.lemma_ for token in doc])\n",
    "    \n",
    "    def remove_redundant(self,text):\n",
    "        words = text.split()  \n",
    "        cleaned_words = []\n",
    "\n",
    "        for word in words:\n",
    "            cleaned_word = word.rstrip('ς')  # Remove redundant ς characters from the end of the word\n",
    "            cleaned_words.append(cleaned_word)\n",
    "\n",
    "        return  ' '.join(cleaned_words) \n",
    "    \n",
    "    def fit(self, X, y=None, **fit_params):\n",
    "        return self   \n",
    "    \n",
    "    def transform(self, X, **transform_params):\n",
    "        \n",
    "        filtered_X = X.apply(self.remove_tags).apply(self.remove_urls)\n",
    "        \n",
    "        if 'remove_emojis' in transform_params:\n",
    "            filtered_X = filtered_X.apply(self.remove_emoji)\n",
    "        else :\n",
    "            filtered_X = filtered_X.apply(self.emoji_to_word)\n",
    "            \n",
    "        if 'remove_hashtags' in transform_params:\n",
    "            filtered_X = filtered_X.apply(self.remove_hashtags)            \n",
    "            \n",
    "        filtered_X = filtered_X.apply(self.remove_punctuation).apply(self.remove_greeklish)\n",
    "        \n",
    "        if 'remove_digits' in transform_params:\n",
    "            filtered_X = filtered_X.apply(self.remove_digits)\n",
    "            \n",
    "        if 'remove_greeklish' in transform_params:\n",
    "            filtered_X = filtered_X.apply(self.remove_greeklish)   \n",
    "        else :\n",
    "            filtered_X = filtered_X.apply(self.convert_greeklish)   \n",
    "            \n",
    "        if 'lemmatization'in transform_params:\n",
    "            filtered_X = filtered_X.apply(self.lemmatization)\n",
    "            \n",
    "        elif 'stemming'in transform_params:\n",
    "            filtered_X = filtered_X.apply(self.stemming)\n",
    "        \n",
    "        filtered_X = filtered_X.apply(self.remove_accents).apply(self.to_lower).apply(self.remove_redundant).apply(self.remove_stopwords)\n",
    "        return filtered_X  \n",
    "    \n",
    "    def fit_transform(self, X, **transform_params):\n",
    "        # Fit phase\n",
    "        self.fit(X)\n",
    "\n",
    "        # Transform phase using the provided transform_params\n",
    "        return self.transform(X, **transform_params)  "
   ]
  },
  {
   "cell_type": "code",
   "execution_count": 4,
   "id": "ffafef92",
   "metadata": {
    "execution": {
     "iopub.execute_input": "2024-04-07T08:47:18.376436Z",
     "iopub.status.busy": "2024-04-07T08:47:18.376124Z",
     "iopub.status.idle": "2024-04-07T08:48:51.065388Z",
     "shell.execute_reply": "2024-04-07T08:48:51.064383Z"
    },
    "papermill": {
     "duration": 92.709039,
     "end_time": "2024-04-07T08:48:51.068074",
     "exception": false,
     "start_time": "2024-04-07T08:47:18.359035",
     "status": "completed"
    },
    "tags": []
   },
   "outputs": [],
   "source": [
    "#Creating a simple function to roughly convert most greeklish to greek\n",
    "greek_alphabet = 'ΑαΒβΓγΔδΕεΖζΗηΘθΙιΚκΛλΜμΝνΞξΟοΠπΡρΣσςΤτΥυΦφΧχΨψΩω'\n",
    "latin_alphabet = 'AaBbGgDdEeZzHhJjIiKkLlMmNnXxOoPpRrSssTtUuFfQqYyWw'\n",
    "greeklish_to_greek = str.maketrans(latin_alphabet,greek_alphabet)\n",
    "\n",
    "#Creating a Keyword Processor for converting emojis and emoticons to their greek meaning\n",
    "translator = Translator()\n",
    "emoticons = {**EMOTICONS_EMO}\n",
    "kp_emojis = KeywordProcessor()\n",
    "#We will create a dictionary that maps each emoticon in each equivalent greek word. We will repeat the same for emojis\n",
    "for emoticon,value in emoticons.items() :\n",
    "    try :\n",
    "       greek_value = translator.translate(value.replace(\":\",\"\").replace(\"_\",\" \").strip(), src='en', dest='el').text\n",
    "    except :\n",
    "        greek_value = \"\"\n",
    "        \n",
    "    kp_emojis.add_keyword(emoticon, greek_value)\n",
    "    \n",
    "# Load the Greek language model for spacy\n",
    "nlp = spacy.load('el_core_news_sm')\n",
    "\n",
    "#More Greek stopwords from our custom made file\n",
    "with open('/kaggle/input/lowercasegreekstopwords/Greek-Stopwords.txt', 'r') as file:\n",
    "    # Read lines and remove '\\n' from each line\n",
    "    more_stopwords = [line.strip() for line in file.readlines()]\n",
    "    \n",
    "stops = set(stopwords.words('greek')).union(more_stopwords)"
   ]
  },
  {
   "cell_type": "markdown",
   "id": "920ad8a0",
   "metadata": {
    "papermill": {
     "duration": 0.016307,
     "end_time": "2024-04-07T08:48:51.101708",
     "exception": false,
     "start_time": "2024-04-07T08:48:51.085401",
     "status": "completed"
    },
    "tags": []
   },
   "source": [
    "# 20 Most Common Words after Text Processing:"
   ]
  },
  {
   "cell_type": "code",
   "execution_count": 5,
   "id": "077ad838",
   "metadata": {
    "execution": {
     "iopub.execute_input": "2024-04-07T08:48:51.135506Z",
     "iopub.status.busy": "2024-04-07T08:48:51.135166Z",
     "iopub.status.idle": "2024-04-07T08:48:59.902361Z",
     "shell.execute_reply": "2024-04-07T08:48:59.901536Z"
    },
    "papermill": {
     "duration": 8.786758,
     "end_time": "2024-04-07T08:48:59.904745",
     "exception": false,
     "start_time": "2024-04-07T08:48:51.117987",
     "status": "completed"
    },
    "tags": []
   },
   "outputs": [
    {
     "data": {
      "text/plain": [
       "(array([ 0,  1,  2,  3,  4,  5,  6,  7,  8,  9, 10, 11, 12, 13, 14, 15, 16,\n",
       "        17, 18, 19]),\n",
       " [Text(0, 0, 'τσιπρα'),\n",
       "  Text(1, 0, 'μητσοτακη'),\n",
       "  Text(2, 0, 'νδ'),\n",
       "  Text(3, 0, 'συριζα'),\n",
       "  Text(4, 0, 'εκλογε'),\n",
       "  Text(5, 0, 'κκε'),\n",
       "  Text(6, 0, 'εκλογες2019'),\n",
       "  Text(7, 0, '2019'),\n",
       "  Text(8, 0, 'σκαι'),\n",
       "  Text(9, 0, 'πασοκ'),\n",
       "  Text(10, 0, 'κιναλ'),\n",
       "  Text(11, 0, 'στι'),\n",
       "  Text(12, 0, 'σα'),\n",
       "  Text(13, 0, 'κανει'),\n",
       "  Text(14, 0, 'αλεξη'),\n",
       "  Text(15, 0, 'νεα'),\n",
       "  Text(16, 0, 'πω'),\n",
       "  Text(17, 0, 'ελλαδα'),\n",
       "  Text(18, 0, 'συνεντευξη'),\n",
       "  Text(19, 0, 'κυριακο')])"
      ]
     },
     "execution_count": 5,
     "metadata": {},
     "output_type": "execute_result"
    },
    {
     "data": {
      "image/png": "[encoded data removed]",
      "text/plain": [
       "<Figure size 1000x1000 with 1 Axes>"
      ]
     },
     "metadata": {},
     "output_type": "display_data"
    }
   ],
   "source": [
    "#Data Cleaning\n",
    "Processor = DataPreprocessing()\n",
    "params = {'remove_emojis' : 'y'}\n",
    "df['Text'] = Processor.fit_transform(df['Text'],**params)\n",
    "#Analysing words' frequency and statistics\n",
    "words = nltk.tokenize.word_tokenize(df['Text'].str.cat(sep=' '))\n",
    "word_dist = nltk.FreqDist(words)\n",
    "most_common = pd.Series(dict(word_dist.most_common(20)))\n",
    "fig, ax = plt.subplots(figsize=(10,10))\n",
    "all_plot = sns.barplot(x=most_common.index, y=most_common.values, ax=ax)\n",
    "plt.xticks(rotation=30)"
   ]
  },
  {
   "cell_type": "markdown",
   "id": "96d82805",
   "metadata": {
    "papermill": {
     "duration": 0.017121,
     "end_time": "2024-04-07T08:48:59.939334",
     "exception": false,
     "start_time": "2024-04-07T08:48:59.922213",
     "status": "completed"
    },
    "tags": []
   },
   "source": [
    "# **Vectorization:**"
   ]
  },
  {
   "cell_type": "code",
   "execution_count": 6,
   "id": "c1d756e3",
   "metadata": {
    "execution": {
     "iopub.execute_input": "2024-04-07T08:49:00.017882Z",
     "iopub.status.busy": "2024-04-07T08:49:00.017517Z",
     "iopub.status.idle": "2024-04-07T08:49:00.023484Z",
     "shell.execute_reply": "2024-04-07T08:49:00.022598Z"
    },
    "papermill": {
     "duration": 0.068838,
     "end_time": "2024-04-07T08:49:00.025471",
     "exception": false,
     "start_time": "2024-04-07T08:48:59.956633",
     "status": "completed"
    },
    "tags": []
   },
   "outputs": [],
   "source": [
    "def set_seed(seed = 45):\n",
    "\n",
    "    #For consistency in results we use a deterministic way to control the source of random number generator\n",
    "    random.seed(seed)\n",
    "    np.random.seed(seed)\n",
    "    torch.manual_seed(seed)\n",
    "    torch.cuda.manual_seed(seed)\n",
    "    torch.cuda.manual_seed_all(seed)\n",
    "    torch.backends.cudnn.deterministic = True\n",
    "    torch.backends.cudnn.benchmark = False\n",
    "    os.environ['PYTHONHASHSEED'] = str(seed)"
   ]
  },
  {
   "cell_type": "code",
   "execution_count": 7,
   "id": "2c3741da",
   "metadata": {
    "execution": {
     "iopub.execute_input": "2024-04-07T08:49:00.060762Z",
     "iopub.status.busy": "2024-04-07T08:49:00.060485Z",
     "iopub.status.idle": "2024-04-07T08:51:08.175241Z",
     "shell.execute_reply": "2024-04-07T08:51:08.174118Z"
    },
    "papermill": {
     "duration": 128.135281,
     "end_time": "2024-04-07T08:51:08.177861",
     "exception": false,
     "start_time": "2024-04-07T08:49:00.042580",
     "status": "completed"
    },
    "tags": []
   },
   "outputs": [
    {
     "name": "stdout",
     "output_type": "stream",
     "text": [
      "Running in  cuda\n"
     ]
    }
   ],
   "source": [
    "# Filter out rows with non-zero token count in the 'Text' column\n",
    "empty_text = df[df['Text'].apply(lambda x: len(x.split()) == 0)].index\n",
    "\n",
    "# Reset the index to make it consistent after removing rows\n",
    "df.drop(empty_text, inplace=True)\n",
    "df.reset_index(drop=True, inplace=True)\n",
    "\n",
    "labels = df['Sentiment']\n",
    "final_df = df.drop('Sentiment', axis=1)\n",
    "\n",
    "device = torch.device('cuda' if torch.cuda.is_available() else 'cpu')\n",
    "print('Running in ',device)\n",
    "\n",
    "labels_to_int = {\"POSITIVE\" : 0, \"NEGATIVE\" : 1 , \"NEUTRAL\" : 2}\n",
    "int_to_labels = {0 : \"POSITIVE\", 1 : \"NEGATIVE\", 2 : \"NEUTRAL\"}\n",
    "labels = labels.apply(lambda x: labels_to_int.get(x))\n",
    "labels_tensor = torch.tensor(labels, device=device)\n",
    "\n",
    "# Load Pretrained Greek Word2Vec model\n",
    "model = gensim.models.KeyedVectors.load_word2vec_format('/kaggle/input/greek-pretrained-word2vec/model.txt', binary=False, unicode_errors='replace')\n",
    "\n",
    "# Build a matrix of weights that will be loaded into the embedding layer.\n",
    "embed_dim = model.vector_size\n",
    "tweet_vocab = {}\n",
    "tweet_vocab = {word: idx for idx, word in enumerate(model.index_to_key)}"
   ]
  },
  {
   "cell_type": "markdown",
   "id": "38d5f7d3",
   "metadata": {
    "papermill": {
     "duration": 0.017083,
     "end_time": "2024-04-07T08:51:08.212749",
     "exception": false,
     "start_time": "2024-04-07T08:51:08.195666",
     "status": "completed"
    },
    "tags": []
   },
   "source": [
    "**Create Datasets & Dataloaders**"
   ]
  },
  {
   "cell_type": "code",
   "execution_count": 8,
   "id": "3e7c842f",
   "metadata": {
    "execution": {
     "iopub.execute_input": "2024-04-07T08:51:08.249266Z",
     "iopub.status.busy": "2024-04-07T08:51:08.248934Z",
     "iopub.status.idle": "2024-04-07T08:51:08.256458Z",
     "shell.execute_reply": "2024-04-07T08:51:08.255449Z"
    },
    "papermill": {
     "duration": 0.028228,
     "end_time": "2024-04-07T08:51:08.258370",
     "exception": false,
     "start_time": "2024-04-07T08:51:08.230142",
     "status": "completed"
    },
    "tags": []
   },
   "outputs": [],
   "source": [
    "class TweetDataset(Dataset):\n",
    "    def __init__(self, texts, vocab ,labels=None):\n",
    "        self.texts = texts\n",
    "        self.labels = labels\n",
    "        self.vocab = vocab\n",
    "        self.texts_len = [len(text.split()) for text in texts]\n",
    "        \n",
    "    def __len__(self):\n",
    "        return len(self.texts)\n",
    "\n",
    "    def __getitem__(self, idx): \n",
    "        \n",
    "        tokens = self.texts[idx].split()\n",
    "        indices = [self.vocab.get(token, self.vocab['<unk>']) for token in tokens]         \n",
    "        \n",
    "        if self.labels is not None:\n",
    "            return indices,self.texts_len[idx], self.labels[idx]\n",
    "        \n",
    "        return indices, self.texts_len[idx] "
   ]
  },
  {
   "cell_type": "code",
   "execution_count": 9,
   "id": "9e82fcf3",
   "metadata": {
    "execution": {
     "iopub.execute_input": "2024-04-07T08:51:08.293682Z",
     "iopub.status.busy": "2024-04-07T08:51:08.293351Z",
     "iopub.status.idle": "2024-04-07T08:51:08.300008Z",
     "shell.execute_reply": "2024-04-07T08:51:08.299133Z"
    },
    "papermill": {
     "duration": 0.026541,
     "end_time": "2024-04-07T08:51:08.301968",
     "exception": false,
     "start_time": "2024-04-07T08:51:08.275427",
     "status": "completed"
    },
    "tags": []
   },
   "outputs": [],
   "source": [
    "def custom_collate(batch) :\n",
    "    \n",
    "    # Sort batch by sequence length in descending order\n",
    "    batch.sort(key=lambda x: x[1], reverse=True)\n",
    "    \n",
    "    inputs = [torch.tensor(item[0]) for item in batch]  # Extract input sequences\n",
    "    texts_len = [item[1] for item in batch]  # Extract text lengths\n",
    "    \n",
    "    # Perform padding on input sequences\n",
    "    padded_inputs = pad_sequence(inputs, batch_first=True, padding_value=0)\n",
    "    \n",
    "    if(len(batch[0]) == 3) :\n",
    "        targets = [item[2] for item in batch]  # Extract targets\n",
    "        return padded_inputs,torch.tensor(texts_len),torch.tensor(targets)   \n",
    "    \n",
    "    return padded_inputs,torch.tensor(texts_len)"
   ]
  },
  {
   "cell_type": "code",
   "execution_count": 10,
   "id": "4655a44a",
   "metadata": {
    "execution": {
     "iopub.execute_input": "2024-04-07T08:51:08.337127Z",
     "iopub.status.busy": "2024-04-07T08:51:08.336843Z",
     "iopub.status.idle": "2024-04-07T08:51:08.393253Z",
     "shell.execute_reply": "2024-04-07T08:51:08.392360Z"
    },
    "papermill": {
     "duration": 0.076346,
     "end_time": "2024-04-07T08:51:08.395281",
     "exception": false,
     "start_time": "2024-04-07T08:51:08.318935",
     "status": "completed"
    },
    "tags": []
   },
   "outputs": [],
   "source": [
    "set_seed()\n",
    "\n",
    "#Splitting into Training (70), Validation & Test Set (15 each)\n",
    "train_X, remaining_X ,train_Y, remaining_Y = train_test_split(final_df['Text'], labels_tensor, test_size=0.3, random_state=28)\n",
    "val_X, test_X , val_Y, test_Y = train_test_split(remaining_X, remaining_Y, test_size=0.5, random_state=28)\n",
    "\n",
    "#Build vocabulary for TweetDataset consisting of the pretrained embeddings and some extra cases\n",
    "# Define special tokens\n",
    "PAD_TOKEN = '<pad>'\n",
    "UNK_TOKEN = '<unk>'\n",
    "SOS_TOKEN = '<sos>'\n",
    "EOS_TOKEN = '<eos>'\n",
    "\n",
    "tweet_vocab[PAD_TOKEN] = len(tweet_vocab)\n",
    "tweet_vocab[UNK_TOKEN] = len(tweet_vocab)  \n",
    "tweet_vocab[SOS_TOKEN] = len(tweet_vocab)  \n",
    "tweet_vocab[EOS_TOKEN] = len(tweet_vocab)  "
   ]
  },
  {
   "cell_type": "code",
   "execution_count": 11,
   "id": "57da82a2",
   "metadata": {
    "execution": {
     "iopub.execute_input": "2024-04-07T08:51:08.430677Z",
     "iopub.status.busy": "2024-04-07T08:51:08.430396Z",
     "iopub.status.idle": "2024-04-07T08:51:08.487628Z",
     "shell.execute_reply": "2024-04-07T08:51:08.486756Z"
    },
    "papermill": {
     "duration": 0.076915,
     "end_time": "2024-04-07T08:51:08.489525",
     "exception": false,
     "start_time": "2024-04-07T08:51:08.412610",
     "status": "completed"
    },
    "tags": []
   },
   "outputs": [],
   "source": [
    "train_set = TweetDataset(train_X.values.flatten(), tweet_vocab, train_Y)\n",
    "train_loader = DataLoader(train_set, batch_size = 32 ,shuffle=False, collate_fn=custom_collate)\n",
    "\n",
    "val_set = TweetDataset(val_X.values.flatten() ,tweet_vocab ,val_Y)\n",
    "val_loader = DataLoader(val_set, batch_size = 32 ,shuffle=False, collate_fn=custom_collate)\n",
    "\n",
    "test_set = TweetDataset(test_X.values.flatten() ,tweet_vocab, test_Y)\n",
    "test_loader = DataLoader(test_set, batch_size = 32 ,shuffle=False, collate_fn=custom_collate)\n",
    "\n",
    "#We have 3 classes\n",
    "output_dim = 3\n",
    "pad_idx = tweet_vocab[PAD_TOKEN]\n",
    "vocab_size = len(tweet_vocab)"
   ]
  },
  {
   "cell_type": "markdown",
   "id": "e70ad1c2",
   "metadata": {
    "papermill": {
     "duration": 0.017085,
     "end_time": "2024-04-07T08:51:08.523780",
     "exception": false,
     "start_time": "2024-04-07T08:51:08.506695",
     "status": "completed"
    },
    "tags": []
   },
   "source": [
    "# **Building the RNN Model**"
   ]
  },
  {
   "cell_type": "code",
   "execution_count": 12,
   "id": "a0a7322c",
   "metadata": {
    "execution": {
     "iopub.execute_input": "2024-04-07T08:51:08.559140Z",
     "iopub.status.busy": "2024-04-07T08:51:08.558863Z",
     "iopub.status.idle": "2024-04-07T08:51:08.566620Z",
     "shell.execute_reply": "2024-04-07T08:51:08.565765Z"
    },
    "papermill": {
     "duration": 0.027437,
     "end_time": "2024-04-07T08:51:08.568371",
     "exception": false,
     "start_time": "2024-04-07T08:51:08.540934",
     "status": "completed"
    },
    "tags": []
   },
   "outputs": [],
   "source": [
    "class ResidualBlock(nn.Module):\n",
    "    def __init__(self,hidden_size,input_size,cell_type,skip,drop,init_layers=True):\n",
    "        super(ResidualBlock, self).__init__()\n",
    "        \n",
    "        cells = {\"LSTM\"    : nn.LSTM,\n",
    "                  \"GRU\"    : nn.GRU}   \n",
    "        \n",
    "        self.cell = cell_type\n",
    "        self.skip = skip\n",
    "        \n",
    "        #Bidirectional RNN layer according to wanted cell type\n",
    "        self.RnnLayer = cells[cell_type]( input_size,hidden_size, 1, bidirectional=True, dropout=drop, batch_first=True)\n",
    "        \n",
    "    def forward(self, x,texts_len):\n",
    "        \n",
    "        output = self.RnnLayer(x)\n",
    "        x_out = output[0]\n",
    "            \n",
    "        if self.skip:\n",
    "\n",
    "            # Unpack the sequences\n",
    "            tensor1, _ = pad_packed_sequence(x, batch_first=True, padding_value=0)\n",
    "            tensor2, _ = pad_packed_sequence(x, batch_first=True, padding_value=0)\n",
    "\n",
    "            # Add along the sequence dimension,(the actual sequence of x is the same as the initial as layers do not affect it somehow)\n",
    "            x_out_tensor = tensor1 + tensor2\n",
    "            x = pack_padded_sequence(x_out_tensor,texts_len, batch_first=True,enforce_sorted=False)    \n",
    "\n",
    "        return x_out"
   ]
  },
  {
   "cell_type": "code",
   "execution_count": 13,
   "id": "32d280c3",
   "metadata": {
    "execution": {
     "iopub.execute_input": "2024-04-07T08:51:08.603898Z",
     "iopub.status.busy": "2024-04-07T08:51:08.603625Z",
     "iopub.status.idle": "2024-04-07T08:51:08.635806Z",
     "shell.execute_reply": "2024-04-07T08:51:08.634966Z"
    },
    "papermill": {
     "duration": 0.052367,
     "end_time": "2024-04-07T08:51:08.637685",
     "exception": false,
     "start_time": "2024-04-07T08:51:08.585318",
     "status": "completed"
    },
    "tags": []
   },
   "outputs": [],
   "source": [
    "class RNN(nn.Module):\n",
    "    \n",
    "  def __init__(self,stacked_num,hidden_size,input_size,cell_type,skip,attention,drop,output_dim,vocab_size,pad_idx):\n",
    "    super(RNN, self).__init__()\n",
    "    \n",
    "    self.attention = attention\n",
    "    \n",
    "    #Initializing Embedding Layer with our pretrained embeddings setting embedded padding vector to 0\n",
    "    self.embedding = nn.Embedding(vocab_size, embed_dim, padding_idx = pad_idx)\n",
    "\n",
    "    #Bidirectional Stacked RNN Residual Blocks\n",
    "    self.rnn_layers = nn.ModuleList(\n",
    "                    [ResidualBlock(hidden_size,\n",
    "                                   2 * hidden_size if i else input_size,\n",
    "                                   cell_type,\n",
    "                                   skip if i else False,\n",
    "                                   drop,device) for i in range(stacked_num)])\n",
    "    \n",
    "    #Attention Layer if needed\n",
    "    if attention :\n",
    "        #Ensure that number of heads divides embedding dimension,heads being smaller or equal than 10\n",
    "        divisors = [i for i in range(1, 10) if hidden_size*2 % i == 0]\n",
    "        self.AttentionLayer = nn.MultiheadAttention(hidden_size * 2,num_heads = max(divisors))    \n",
    "        self.Linear = nn.Linear(hidden_size*2,hidden_size*2, bias=False)\n",
    "    \n",
    "        \n",
    "    self.dropout = nn.Dropout(drop)\n",
    "    self.linear =  nn.Linear(hidden_size*2,output_dim)\n",
    "        \n",
    "  def forward(self, x,texts_len):\n",
    "    \n",
    "    #Pass through Embedding Layer\n",
    "    x = self.embedding(x)\n",
    "    \n",
    "    texts_len = [length for length in texts_len if length > 0]\n",
    "    \n",
    "    # Pack padded sequence\n",
    "    x = pack_padded_sequence(x,texts_len, batch_first=True,enforce_sorted=False)    \n",
    "    \n",
    "    # Forward pass through stacked RNN layers\n",
    "    for layer in self.rnn_layers :\n",
    "        x = layer(x,texts_len)\n",
    "      \n",
    "    # Unpack padded sequence\n",
    "    x, _ = pad_packed_sequence(x, batch_first=True, padding_value=0)\n",
    "    \n",
    "    #Apply Attention Layer if needed\n",
    "    if self.attention :\n",
    "        #Query,Key and Value Linear Vectors are identical\n",
    "        x = self.Linear(x) \n",
    "        x,_ = self.AttentionLayer(x,x,x)            \n",
    "        \n",
    "    #Apply Linear Layer\n",
    "    return self.linear(x)\n",
    "\n",
    "  #Returns the trained model's predictions on loader set\n",
    "  def predict(self, loader):\n",
    "    self.eval()\n",
    "    all_preds = []\n",
    "\n",
    "    with torch.no_grad():\n",
    "        for batch in loader:\n",
    "            X = batch[0].to(device)\n",
    "            x_len = batch[1]\n",
    "            pred = self(X,x_len)\n",
    "            # Accumulate predictions and labels for computing metrics after all batches\n",
    "            all_preds.extend(torch.max(pred[:, -1, :], dim=-1)[1].cpu().tolist())\n",
    "    return all_preds"
   ]
  },
  {
   "cell_type": "markdown",
   "id": "309eeaf2",
   "metadata": {
    "papermill": {
     "duration": 0.016802,
     "end_time": "2024-04-07T08:51:08.671428",
     "exception": false,
     "start_time": "2024-04-07T08:51:08.654626",
     "status": "completed"
    },
    "tags": []
   },
   "source": [
    "# **Testing**"
   ]
  },
  {
   "cell_type": "code",
   "execution_count": 14,
   "id": "1af23448",
   "metadata": {
    "execution": {
     "iopub.execute_input": "2024-04-07T08:51:08.706340Z",
     "iopub.status.busy": "2024-04-07T08:51:08.706071Z",
     "iopub.status.idle": "2024-04-07T08:51:08.714583Z",
     "shell.execute_reply": "2024-04-07T08:51:08.713743Z"
    },
    "papermill": {
     "duration": 0.028118,
     "end_time": "2024-04-07T08:51:08.716446",
     "exception": false,
     "start_time": "2024-04-07T08:51:08.688328",
     "status": "completed"
    },
    "tags": []
   },
   "outputs": [],
   "source": [
    "def evaluation(loader, loss_func, neural):\n",
    "    neural.eval()\n",
    "    total_error = 0\n",
    "    total_correct = 0\n",
    "    all_preds = []\n",
    "    all_labels = []\n",
    "\n",
    "    with torch.no_grad():\n",
    "        for batch in loader : \n",
    "            # `batch` contains three pytorch tensors:\n",
    "            #   [0]: padded sequences  \n",
    "            #   [1]: sequences' length before padding\n",
    "            #   [2]: labels             \n",
    "            X = batch[0].to(device)\n",
    "            x_len = batch[1]\n",
    "            label = batch[2].to(device)\n",
    "            pred = neural(X,x_len).to(device)\n",
    "\n",
    "            #Prediction is the max value out of the last 3 classes\n",
    "            total_correct += (torch.max(pred[:, -1, :], dim=-1)[1] == label).sum().item()\n",
    "            total_error += loss_func(pred[:, -1, :], label).item()\n",
    "\n",
    "            # Accumulate predictions and labels for computing metrics after all batches\n",
    "            all_preds.extend(torch.max(pred[:, -1, :], dim=-1)[1].cpu().tolist())\n",
    "            all_labels.extend(label.cpu().tolist())\n",
    "\n",
    "    avg_error = total_error / len(loader.dataset)\n",
    "    f1_macro = f1_score(all_labels, all_preds, average='macro')\n",
    "    accuracy = total_correct / len(loader.dataset) * 100\n",
    "    conf_matrix = confusion_matrix(all_labels, all_preds)\n",
    "\n",
    "    return avg_error , f1_macro , accuracy , conf_matrix ,all_preds"
   ]
  },
  {
   "cell_type": "markdown",
   "id": "b6de9198",
   "metadata": {
    "papermill": {
     "duration": 0.016934,
     "end_time": "2024-04-07T08:51:08.750296",
     "exception": false,
     "start_time": "2024-04-07T08:51:08.733362",
     "status": "completed"
    },
    "tags": []
   },
   "source": [
    "# **Training**"
   ]
  },
  {
   "cell_type": "code",
   "execution_count": 15,
   "id": "7940e1f5",
   "metadata": {
    "execution": {
     "iopub.execute_input": "2024-04-07T08:51:08.785273Z",
     "iopub.status.busy": "2024-04-07T08:51:08.785006Z",
     "iopub.status.idle": "2024-04-07T08:51:08.794547Z",
     "shell.execute_reply": "2024-04-07T08:51:08.793707Z"
    },
    "papermill": {
     "duration": 0.029105,
     "end_time": "2024-04-07T08:51:08.796418",
     "exception": false,
     "start_time": "2024-04-07T08:51:08.767313",
     "status": "completed"
    },
    "tags": []
   },
   "outputs": [],
   "source": [
    "#We do validation in every single epoch so it has to be combined in the training function to evaluate the efficiency of current parameters\n",
    "def train_and_val(epochs,optimizer,train_loader,val_loader,loss_func,neural,patience,clip_value) :\n",
    "\n",
    "  best_score = -1\n",
    "  continuous = 0\n",
    "  train_scores = []\n",
    "  train_loss = []\n",
    "  val_scores = []\n",
    "  val_loss = []   \n",
    "    \n",
    "  #Iterate through batches for every epoch\n",
    "  for epoch in range(epochs) :\n",
    "    neural.train()   \n",
    "    #iterating through batches\n",
    "    for batch in train_loader :      \n",
    "      # set to zero the parameter gradients\n",
    "      optimizer.zero_grad()\n",
    "      # `batch` contains three pytorch tensors:\n",
    "      #   [0]: padded sequences  \n",
    "      #   [1]: sequences' length before padding\n",
    "      #   [2]: labels             \n",
    "      X = batch[0].to(device)\n",
    "      x_len = batch[1]\n",
    "      label = batch[2].to(device)\n",
    "      pred = neural(X,x_len)\n",
    "      error = loss_func(pred[:, -1, :],label)\n",
    "      # computing gradients/the direction that fits our objective\n",
    "      error.backward()\n",
    "      #implementing gradient clipping\n",
    "      torch.nn.utils.clip_grad_norm_(neural.parameters(), clip_value)  \n",
    "      #optimizing weights/slightly adjusting parameters\n",
    "      optimizer.step()\n",
    "    #compute validation scores for each epoch\n",
    "    loss , f1 , acc , cf_matr  , preds = evaluation(val_loader,loss_func,neural)\n",
    "    val_scores += [acc]\n",
    "    val_loss += [loss]\n",
    "    loss , f1 , acc , cf_matr , preds = evaluation(train_loader,loss_func,neural)\n",
    "    train_scores += [acc]  \n",
    "    train_loss += [loss]\n",
    "    if acc > best_score :\n",
    "      wanted = neural\n",
    "      best_score = acc\n",
    "      best_epoch = epoch\n",
    "    else :\n",
    "      continuous += 1\n",
    "      if continuous == patience :\n",
    "          return wanted,best_epoch,train_scores,train_loss,val_scores,val_loss\n",
    "        \n",
    "  return wanted,best_epoch,train_scores,train_loss,val_scores,val_loss"
   ]
  },
  {
   "cell_type": "markdown",
   "id": "b59593e1",
   "metadata": {
    "papermill": {
     "duration": 0.016809,
     "end_time": "2024-04-07T08:51:08.830262",
     "exception": false,
     "start_time": "2024-04-07T08:51:08.813453",
     "status": "completed"
    },
    "tags": []
   },
   "source": [
    "# **Hyperparmeter Tuning:**"
   ]
  },
  {
   "cell_type": "code",
   "execution_count": 16,
   "id": "8cb361ba",
   "metadata": {
    "execution": {
     "iopub.execute_input": "2024-04-07T08:51:08.865912Z",
     "iopub.status.busy": "2024-04-07T08:51:08.865426Z",
     "iopub.status.idle": "2024-04-07T08:51:08.875057Z",
     "shell.execute_reply": "2024-04-07T08:51:08.874283Z"
    },
    "papermill": {
     "duration": 0.029294,
     "end_time": "2024-04-07T08:51:08.876883",
     "exception": false,
     "start_time": "2024-04-07T08:51:08.847589",
     "status": "completed"
    },
    "tags": []
   },
   "outputs": [],
   "source": [
    "import logging\n",
    "\n",
    "# Set the logging level to CRITICAL to deactivate messages\n",
    "optuna.logging.set_verbosity(optuna.logging.CRITICAL)\n",
    "\n",
    "def objective(trial):\n",
    "    \n",
    "    # Define the search space for model's hyperparameters\n",
    "    epoch = trial.suggest_categorical('epochs', [15,30, 60])\n",
    "    stacked_num = trial.suggest_int('stacked_num', 2,10)\n",
    "    hidden_size = trial.suggest_int('hidden_size', 2,256)\n",
    "    cell = trial.suggest_categorical('cell', ['LSTM','GRU'])\n",
    "    skip = trial.suggest_categorical('skip', [True, False])    \n",
    "    clip = trial.suggest_float('clip', 0, 1, step=0.1)                                                                          \n",
    "    drop = trial.suggest_float('dropout', 0.5, 0.8, step=0.1)    \n",
    "    attention = trial.suggest_categorical('attention', [True, False])     \n",
    "    \n",
    "    #Define the search space for learning hyperparameters\n",
    "    rate = trial.suggest_categorical('lr', [0.0001,0.001, 0.01, 0.1])\n",
    "    patience = trial.suggest_categorical('patience', [5, 10,15])\n",
    "\n",
    "    rnn = RNN(stacked_num,hidden_size,embed_dim,cell,skip,attention,drop,output_dim,vocab_size,pad_idx).to(device)\n",
    "    optimizer = optim.Adam(rnn.parameters(), lr=rate)\n",
    "    loss_func = nn.CrossEntropyLoss()\n",
    "    output = train_and_val(epoch, optimizer, train_loader, val_loader, loss_func,rnn,patience,clip)\n",
    "    #Compute the test accuracy of the best model (best validation accuracy out of all epochs) on the test set\n",
    "    loss, f1, acc, cf_matr , preds = evaluation(test_loader, loss_func, output[0])\n",
    "\n",
    "    return acc  # The accuracy is the metric to be maximized"
   ]
  },
  {
   "cell_type": "markdown",
   "id": "af8a1445",
   "metadata": {
    "papermill": {
     "duration": 0.016859,
     "end_time": "2024-04-07T08:51:08.910886",
     "exception": false,
     "start_time": "2024-04-07T08:51:08.894027",
     "status": "completed"
    },
    "tags": []
   },
   "source": [
    "# **Best Parameters for the Model:**"
   ]
  },
  {
   "cell_type": "code",
   "execution_count": 17,
   "id": "97dd11b0",
   "metadata": {
    "execution": {
     "iopub.execute_input": "2024-04-07T08:51:08.946294Z",
     "iopub.status.busy": "2024-04-07T08:51:08.945963Z",
     "iopub.status.idle": "2024-04-07T16:59:41.370031Z",
     "shell.execute_reply": "2024-04-07T16:59:41.369152Z"
    },
    "papermill": {
     "duration": 29312.444731,
     "end_time": "2024-04-07T16:59:41.372589",
     "exception": false,
     "start_time": "2024-04-07T08:51:08.927858",
     "status": "completed"
    },
    "tags": []
   },
   "outputs": [],
   "source": [
    "study = optuna.create_study(direction='maximize')  # maximize accuracy\n",
    "study.optimize(objective, n_trials=40)# Run optimization for 20 trials"
   ]
  },
  {
   "cell_type": "code",
   "execution_count": 18,
   "id": "423c83eb",
   "metadata": {
    "execution": {
     "iopub.execute_input": "2024-04-07T16:59:41.410342Z",
     "iopub.status.busy": "2024-04-07T16:59:41.409659Z",
     "iopub.status.idle": "2024-04-07T17:13:09.020846Z",
     "shell.execute_reply": "2024-04-07T17:13:09.019774Z"
    },
    "papermill": {
     "duration": 807.631861,
     "end_time": "2024-04-07T17:13:09.022922",
     "exception": false,
     "start_time": "2024-04-07T16:59:41.391061",
     "status": "completed"
    },
    "tags": []
   },
   "outputs": [
    {
     "name": "stdout",
     "output_type": "stream",
     "text": [
      "Best parameters  {'epochs': 60, 'stacked_num': 4, 'hidden_size': 209, 'cell': 'GRU', 'skip': True, 'clip': 0.0, 'dropout': 0.7, 'attention': True, 'lr': 0.01, 'patience': 15}\n",
      "Best epoch is :  0\n",
      "F1-score for best model is :  16.200353754622927 , best validation accuracy is  32.10132228771706\n"
     ]
    }
   ],
   "source": [
    "# Print the best hyperparameters and their corresponding accuracy\n",
    "best_parameters = study.best_params\n",
    "print(\"Best parameters \",best_parameters)\n",
    "\n",
    "rnn = RNN(best_parameters['stacked_num'],\n",
    "          best_parameters['hidden_size'],\n",
    "          embed_dim,\n",
    "          best_parameters['cell'],\n",
    "          best_parameters['skip'],\n",
    "          best_parameters['attention'],\n",
    "          best_parameters['dropout'],\n",
    "          output_dim,\n",
    "          vocab_size,\n",
    "          pad_idx).to(device)\n",
    "\n",
    "optimizer = optim.Adam(rnn.parameters(), lr=best_parameters['lr'])\n",
    "loss_func = nn.CrossEntropyLoss()\n",
    "epochs = best_parameters['epochs']\n",
    "patience = best_parameters['patience']\n",
    "clip = best_parameters['clip']\n",
    "output = train_and_val(epochs,optimizer,train_loader,val_loader,loss_func,rnn,patience,clip)\n",
    "\n",
    "#Performance of best Model\n",
    "print(\"Best epoch is : \",output[1])\n",
    "loss , f1 , best_accuracy , cf_matr , preds = evaluation(test_loader,loss_func,output[0])\n",
    "print(\"F1-score for best model is : \",f1*100 ,\", best validation accuracy is \", best_accuracy)"
   ]
  },
  {
   "cell_type": "code",
   "execution_count": 19,
   "id": "692570ad",
   "metadata": {
    "execution": {
     "iopub.execute_input": "2024-04-07T17:13:09.060638Z",
     "iopub.status.busy": "2024-04-07T17:13:09.059993Z",
     "iopub.status.idle": "2024-04-07T17:13:10.058338Z",
     "shell.execute_reply": "2024-04-07T17:13:10.057429Z"
    },
    "papermill": {
     "duration": 1.019667,
     "end_time": "2024-04-07T17:13:10.060546",
     "exception": false,
     "start_time": "2024-04-07T17:13:09.040879",
     "status": "completed"
    },
    "tags": []
   },
   "outputs": [
    {
     "data": {
      "text/html": [
       "        <script type=\"text/javascript\">\n",
       "        window.PlotlyConfig = {MathJaxConfig: 'local'};\n",
       "        if (window.MathJax && window.MathJax.Hub && window.MathJax.Hub.Config) {window.MathJax.Hub.Config({SVG: {font: \"STIX-Web\"}});}\n",
       "        if (typeof require !== 'undefined') {\n",
       "        require.undef(\"plotly\");\n",
       "        requirejs.config({\n",
       "            paths: {\n",
       "                'plotly': ['https://cdn.plot.ly/plotly-2.25.2.min']\n",
       "            }\n",
       "        });\n",
       "        require(['plotly'], function(Plotly) {\n",
       "            window._Plotly = Plotly;\n",
       "        });\n",
       "        }\n",
       "        </script>\n",
       "        "
      ]
     },
     "metadata": {},
     "output_type": "display_data"
    },
    {
     "data": {
      "text/html": [
       "<div>                            <div id=\"6de6556f-e851-45ea-9bb9-6896c1bfee28\" class=\"plotly-graph-div\" style=\"height:525px; width:100%;\"></div>            <script type=\"text/javascript\">                require([\"plotly\"], function(Plotly) {                    window.PLOTLYENV=window.PLOTLYENV || {};                                    if (document.getElementById(\"6de6556f-e851-45ea-9bb9-6896c1bfee28\")) {                    Plotly.newPlot(                        \"6de6556f-e851-45ea-9bb9-6896c1bfee28\",                        [{\"cliponaxis\":false,\"hovertemplate\":[\"dropout (FloatDistribution): 0.007234370116123677\\u003cextra\\u003e\\u003c\\u002fextra\\u003e\",\"skip (CategoricalDistribution): 0.02090135233992351\\u003cextra\\u003e\\u003c\\u002fextra\\u003e\",\"patience (CategoricalDistribution): 0.023676941861363182\\u003cextra\\u003e\\u003c\\u002fextra\\u003e\",\"attention (CategoricalDistribution): 0.031228155703864453\\u003cextra\\u003e\\u003c\\u002fextra\\u003e\",\"clip (FloatDistribution): 0.055957727562599285\\u003cextra\\u003e\\u003c\\u002fextra\\u003e\",\"stacked_num (IntDistribution): 0.06775051533830995\\u003cextra\\u003e\\u003c\\u002fextra\\u003e\",\"hidden_size (IntDistribution): 0.09953521666129084\\u003cextra\\u003e\\u003c\\u002fextra\\u003e\",\"epochs (CategoricalDistribution): 0.11834984341970664\\u003cextra\\u003e\\u003c\\u002fextra\\u003e\",\"lr (CategoricalDistribution): 0.27858048277374486\\u003cextra\\u003e\\u003c\\u002fextra\\u003e\",\"cell (CategoricalDistribution): 0.2967853942230736\\u003cextra\\u003e\\u003c\\u002fextra\\u003e\"],\"name\":\"Objective Value\",\"orientation\":\"h\",\"text\":[\"\\u003c0.01\",\"0.02\",\"0.02\",\"0.03\",\"0.06\",\"0.07\",\"0.10\",\"0.12\",\"0.28\",\"0.30\"],\"textposition\":\"outside\",\"x\":[0.007234370116123677,0.02090135233992351,0.023676941861363182,0.031228155703864453,0.055957727562599285,0.06775051533830995,0.09953521666129084,0.11834984341970664,0.27858048277374486,0.2967853942230736],\"y\":[\"dropout\",\"skip\",\"patience\",\"attention\",\"clip\",\"stacked_num\",\"hidden_size\",\"epochs\",\"lr\",\"cell\"],\"type\":\"bar\"}],                        {\"title\":{\"text\":\"Hyperparameter Importances\"},\"xaxis\":{\"title\":{\"text\":\"Hyperparameter Importance\"}},\"yaxis\":{\"title\":{\"text\":\"Hyperparameter\"}},\"template\":{\"data\":{\"histogram2dcontour\":[{\"type\":\"histogram2dcontour\",\"colorbar\":{\"outlinewidth\":0,\"ticks\":\"\"},\"colorscale\":[[0.0,\"#0d0887\"],[0.1111111111111111,\"#46039f\"],[0.2222222222222222,\"#7201a8\"],[0.3333333333333333,\"#9c179e\"],[0.4444444444444444,\"#bd3786\"],[0.5555555555555556,\"#d8576b\"],[0.6666666666666666,\"#ed7953\"],[0.7777777777777778,\"#fb9f3a\"],[0.8888888888888888,\"#fdca26\"],[1.0,\"#f0f921\"]]}],\"choropleth\":[{\"type\":\"choropleth\",\"colorbar\":{\"outlinewidth\":0,\"ticks\":\"\"}}],\"histogram2d\":[{\"type\":\"histogram2d\",\"colorbar\":{\"outlinewidth\":0,\"ticks\":\"\"},\"colorscale\":[[0.0,\"#0d0887\"],[0.1111111111111111,\"#46039f\"],[0.2222222222222222,\"#7201a8\"],[0.3333333333333333,\"#9c179e\"],[0.4444444444444444,\"#bd3786\"],[0.5555555555555556,\"#d8576b\"],[0.6666666666666666,\"#ed7953\"],[0.7777777777777778,\"#fb9f3a\"],[0.8888888888888888,\"#fdca26\"],[1.0,\"#f0f921\"]]}],\"heatmap\":[{\"type\":\"heatmap\",\"colorbar\":{\"outlinewidth\":0,\"ticks\":\"\"},\"colorscale\":[[0.0,\"#0d0887\"],[0.1111111111111111,\"#46039f\"],[0.2222222222222222,\"#7201a8\"],[0.3333333333333333,\"#9c179e\"],[0.4444444444444444,\"#bd3786\"],[0.5555555555555556,\"#d8576b\"],[0.6666666666666666,\"#ed7953\"],[0.7777777777777778,\"#fb9f3a\"],[0.8888888888888888,\"#fdca26\"],[1.0,\"#f0f921\"]]}],\"heatmapgl\":[{\"type\":\"heatmapgl\",\"colorbar\":{\"outlinewidth\":0,\"ticks\":\"\"},\"colorscale\":[[0.0,\"#0d0887\"],[0.1111111111111111,\"#46039f\"],[0.2222222222222222,\"#7201a8\"],[0.3333333333333333,\"#9c179e\"],[0.4444444444444444,\"#bd3786\"],[0.5555555555555556,\"#d8576b\"],[0.6666666666666666,\"#ed7953\"],[0.7777777777777778,\"#fb9f3a\"],[0.8888888888888888,\"#fdca26\"],[1.0,\"#f0f921\"]]}],\"contourcarpet\":[{\"type\":\"contourcarpet\",\"colorbar\":{\"outlinewidth\":0,\"ticks\":\"\"}}],\"contour\":[{\"type\":\"contour\",\"colorbar\":{\"outlinewidth\":0,\"ticks\":\"\"},\"colorscale\":[[0.0,\"#0d0887\"],[0.1111111111111111,\"#46039f\"],[0.2222222222222222,\"#7201a8\"],[0.3333333333333333,\"#9c179e\"],[0.4444444444444444,\"#bd3786\"],[0.5555555555555556,\"#d8576b\"],[0.6666666666666666,\"#ed7953\"],[0.7777777777777778,\"#fb9f3a\"],[0.8888888888888888,\"#fdca26\"],[1.0,\"#f0f921\"]]}],\"surface\":[{\"type\":\"surface\",\"colorbar\":{\"outlinewidth\":0,\"ticks\":\"\"},\"colorscale\":[[0.0,\"#0d0887\"],[0.1111111111111111,\"#46039f\"],[0.2222222222222222,\"#7201a8\"],[0.3333333333333333,\"#9c179e\"],[0.4444444444444444,\"#bd3786\"],[0.5555555555555556,\"#d8576b\"],[0.6666666666666666,\"#ed7953\"],[0.7777777777777778,\"#fb9f3a\"],[0.8888888888888888,\"#fdca26\"],[1.0,\"#f0f921\"]]}],\"mesh3d\":[{\"type\":\"mesh3d\",\"colorbar\":{\"outlinewidth\":0,\"ticks\":\"\"}}],\"scatter\":[{\"fillpattern\":{\"fillmode\":\"overlay\",\"size\":10,\"solidity\":0.2},\"type\":\"scatter\"}],\"parcoords\":[{\"type\":\"parcoords\",\"line\":{\"colorbar\":{\"outlinewidth\":0,\"ticks\":\"\"}}}],\"scatterpolargl\":[{\"type\":\"scatterpolargl\",\"marker\":{\"colorbar\":{\"outlinewidth\":0,\"ticks\":\"\"}}}],\"bar\":[{\"error_x\":{\"color\":\"#2a3f5f\"},\"error_y\":{\"color\":\"#2a3f5f\"},\"marker\":{\"line\":{\"color\":\"#E5ECF6\",\"width\":0.5},\"pattern\":{\"fillmode\":\"overlay\",\"size\":10,\"solidity\":0.2}},\"type\":\"bar\"}],\"scattergeo\":[{\"type\":\"scattergeo\",\"marker\":{\"colorbar\":{\"outlinewidth\":0,\"ticks\":\"\"}}}],\"scatterpolar\":[{\"type\":\"scatterpolar\",\"marker\":{\"colorbar\":{\"outlinewidth\":0,\"ticks\":\"\"}}}],\"histogram\":[{\"marker\":{\"pattern\":{\"fillmode\":\"overlay\",\"size\":10,\"solidity\":0.2}},\"type\":\"histogram\"}],\"scattergl\":[{\"type\":\"scattergl\",\"marker\":{\"colorbar\":{\"outlinewidth\":0,\"ticks\":\"\"}}}],\"scatter3d\":[{\"type\":\"scatter3d\",\"line\":{\"colorbar\":{\"outlinewidth\":0,\"ticks\":\"\"}},\"marker\":{\"colorbar\":{\"outlinewidth\":0,\"ticks\":\"\"}}}],\"scattermapbox\":[{\"type\":\"scattermapbox\",\"marker\":{\"colorbar\":{\"outlinewidth\":0,\"ticks\":\"\"}}}],\"scatterternary\":[{\"type\":\"scatterternary\",\"marker\":{\"colorbar\":{\"outlinewidth\":0,\"ticks\":\"\"}}}],\"scattercarpet\":[{\"type\":\"scattercarpet\",\"marker\":{\"colorbar\":{\"outlinewidth\":0,\"ticks\":\"\"}}}],\"carpet\":[{\"aaxis\":{\"endlinecolor\":\"#2a3f5f\",\"gridcolor\":\"white\",\"linecolor\":\"white\",\"minorgridcolor\":\"white\",\"startlinecolor\":\"#2a3f5f\"},\"baxis\":{\"endlinecolor\":\"#2a3f5f\",\"gridcolor\":\"white\",\"linecolor\":\"white\",\"minorgridcolor\":\"white\",\"startlinecolor\":\"#2a3f5f\"},\"type\":\"carpet\"}],\"table\":[{\"cells\":{\"fill\":{\"color\":\"#EBF0F8\"},\"line\":{\"color\":\"white\"}},\"header\":{\"fill\":{\"color\":\"#C8D4E3\"},\"line\":{\"color\":\"white\"}},\"type\":\"table\"}],\"barpolar\":[{\"marker\":{\"line\":{\"color\":\"#E5ECF6\",\"width\":0.5},\"pattern\":{\"fillmode\":\"overlay\",\"size\":10,\"solidity\":0.2}},\"type\":\"barpolar\"}],\"pie\":[{\"automargin\":true,\"type\":\"pie\"}]},\"layout\":{\"autotypenumbers\":\"strict\",\"colorway\":[\"#636efa\",\"#EF553B\",\"#00cc96\",\"#ab63fa\",\"#FFA15A\",\"#19d3f3\",\"#FF6692\",\"#B6E880\",\"#FF97FF\",\"#FECB52\"],\"font\":{\"color\":\"#2a3f5f\"},\"hovermode\":\"closest\",\"hoverlabel\":{\"align\":\"left\"},\"paper_bgcolor\":\"white\",\"plot_bgcolor\":\"#E5ECF6\",\"polar\":{\"bgcolor\":\"#E5ECF6\",\"angularaxis\":{\"gridcolor\":\"white\",\"linecolor\":\"white\",\"ticks\":\"\"},\"radialaxis\":{\"gridcolor\":\"white\",\"linecolor\":\"white\",\"ticks\":\"\"}},\"ternary\":{\"bgcolor\":\"#E5ECF6\",\"aaxis\":{\"gridcolor\":\"white\",\"linecolor\":\"white\",\"ticks\":\"\"},\"baxis\":{\"gridcolor\":\"white\",\"linecolor\":\"white\",\"ticks\":\"\"},\"caxis\":{\"gridcolor\":\"white\",\"linecolor\":\"white\",\"ticks\":\"\"}},\"coloraxis\":{\"colorbar\":{\"outlinewidth\":0,\"ticks\":\"\"}},\"colorscale\":{\"sequential\":[[0.0,\"#0d0887\"],[0.1111111111111111,\"#46039f\"],[0.2222222222222222,\"#7201a8\"],[0.3333333333333333,\"#9c179e\"],[0.4444444444444444,\"#bd3786\"],[0.5555555555555556,\"#d8576b\"],[0.6666666666666666,\"#ed7953\"],[0.7777777777777778,\"#fb9f3a\"],[0.8888888888888888,\"#fdca26\"],[1.0,\"#f0f921\"]],\"sequentialminus\":[[0.0,\"#0d0887\"],[0.1111111111111111,\"#46039f\"],[0.2222222222222222,\"#7201a8\"],[0.3333333333333333,\"#9c179e\"],[0.4444444444444444,\"#bd3786\"],[0.5555555555555556,\"#d8576b\"],[0.6666666666666666,\"#ed7953\"],[0.7777777777777778,\"#fb9f3a\"],[0.8888888888888888,\"#fdca26\"],[1.0,\"#f0f921\"]],\"diverging\":[[0,\"#8e0152\"],[0.1,\"#c51b7d\"],[0.2,\"#de77ae\"],[0.3,\"#f1b6da\"],[0.4,\"#fde0ef\"],[0.5,\"#f7f7f7\"],[0.6,\"#e6f5d0\"],[0.7,\"#b8e186\"],[0.8,\"#7fbc41\"],[0.9,\"#4d9221\"],[1,\"#276419\"]]},\"xaxis\":{\"gridcolor\":\"white\",\"linecolor\":\"white\",\"ticks\":\"\",\"title\":{\"standoff\":15},\"zerolinecolor\":\"white\",\"automargin\":true,\"zerolinewidth\":2},\"yaxis\":{\"gridcolor\":\"white\",\"linecolor\":\"white\",\"ticks\":\"\",\"title\":{\"standoff\":15},\"zerolinecolor\":\"white\",\"automargin\":true,\"zerolinewidth\":2},\"scene\":{\"xaxis\":{\"backgroundcolor\":\"#E5ECF6\",\"gridcolor\":\"white\",\"linecolor\":\"white\",\"showbackground\":true,\"ticks\":\"\",\"zerolinecolor\":\"white\",\"gridwidth\":2},\"yaxis\":{\"backgroundcolor\":\"#E5ECF6\",\"gridcolor\":\"white\",\"linecolor\":\"white\",\"showbackground\":true,\"ticks\":\"\",\"zerolinecolor\":\"white\",\"gridwidth\":2},\"zaxis\":{\"backgroundcolor\":\"#E5ECF6\",\"gridcolor\":\"white\",\"linecolor\":\"white\",\"showbackground\":true,\"ticks\":\"\",\"zerolinecolor\":\"white\",\"gridwidth\":2}},\"shapedefaults\":{\"line\":{\"color\":\"#2a3f5f\"}},\"annotationdefaults\":{\"arrowcolor\":\"#2a3f5f\",\"arrowhead\":0,\"arrowwidth\":1},\"geo\":{\"bgcolor\":\"white\",\"landcolor\":\"#E5ECF6\",\"subunitcolor\":\"white\",\"showland\":true,\"showlakes\":true,\"lakecolor\":\"white\"},\"title\":{\"x\":0.05},\"mapbox\":{\"style\":\"light\"}}}},                        {\"responsive\": true}                    ).then(function(){\n",
       "                            \n",
       "var gd = document.getElementById('6de6556f-e851-45ea-9bb9-6896c1bfee28');\n",
       "var x = new MutationObserver(function (mutations, observer) {{\n",
       "        var display = window.getComputedStyle(gd).display;\n",
       "        if (!display || display === 'none') {{\n",
       "            console.log([gd, 'removed!']);\n",
       "            Plotly.purge(gd);\n",
       "            observer.disconnect();\n",
       "        }}\n",
       "}});\n",
       "\n",
       "// Listen for the removal of the full notebook cells\n",
       "var notebookContainer = gd.closest('#notebook-container');\n",
       "if (notebookContainer) {{\n",
       "    x.observe(notebookContainer, {childList: true});\n",
       "}}\n",
       "\n",
       "// Listen for the clearing of the current output cell\n",
       "var outputEl = gd.closest('.output');\n",
       "if (outputEl) {{\n",
       "    x.observe(outputEl, {childList: true});\n",
       "}}\n",
       "\n",
       "                        })                };                });            </script>        </div>"
      ]
     },
     "metadata": {},
     "output_type": "display_data"
    }
   ],
   "source": [
    "fig = vis.plot_param_importances(study)\n",
    "fig.show()"
   ]
  },
  {
   "cell_type": "markdown",
   "id": "12d1218d",
   "metadata": {
    "papermill": {
     "duration": 0.018194,
     "end_time": "2024-04-07T17:13:10.097356",
     "exception": false,
     "start_time": "2024-04-07T17:13:10.079162",
     "status": "completed"
    },
    "tags": []
   },
   "source": [
    "# **Metrics & Plots for Best Model:**"
   ]
  },
  {
   "cell_type": "code",
   "execution_count": 20,
   "id": "15f3dc1f",
   "metadata": {
    "execution": {
     "iopub.execute_input": "2024-04-07T17:13:10.136685Z",
     "iopub.status.busy": "2024-04-07T17:13:10.136285Z",
     "iopub.status.idle": "2024-04-07T17:13:10.454165Z",
     "shell.execute_reply": "2024-04-07T17:13:10.453208Z"
    },
    "papermill": {
     "duration": 0.339296,
     "end_time": "2024-04-07T17:13:10.456163",
     "exception": false,
     "start_time": "2024-04-07T17:13:10.116867",
     "status": "completed"
    },
    "tags": []
   },
   "outputs": [
    {
     "data": {
      "image/png": "[encoded data removed]",
      "text/plain": [
       "<Figure size 500x400 with 2 Axes>"
      ]
     },
     "metadata": {},
     "output_type": "display_data"
    }
   ],
   "source": [
    "cm_df = pd.DataFrame(cf_matr,\n",
    "                     index = acceptable_labels, \n",
    "                     columns = acceptable_labels)\n",
    "#Plotting the confusion matrix\n",
    "plt.figure(figsize=(5,4))\n",
    "sns.heatmap(cm_df, annot=True)\n",
    "plt.title('Confusion Matrix')\n",
    "plt.ylabel('Actual Values')\n",
    "plt.xlabel('Predicted Values')\n",
    "plt.show()"
   ]
  },
  {
   "cell_type": "code",
   "execution_count": 21,
   "id": "eb1e3232",
   "metadata": {
    "execution": {
     "iopub.execute_input": "2024-04-07T17:13:10.496052Z",
     "iopub.status.busy": "2024-04-07T17:13:10.495706Z",
     "iopub.status.idle": "2024-04-07T17:51:03.553140Z",
     "shell.execute_reply": "2024-04-07T17:51:03.552149Z"
    },
    "papermill": {
     "duration": 2273.099431,
     "end_time": "2024-04-07T17:51:03.574880",
     "exception": false,
     "start_time": "2024-04-07T17:13:10.475449",
     "status": "completed"
    },
    "tags": []
   },
   "outputs": [
    {
     "data": {
      "image/png": "[encoded data removed]",
      "text/plain": [
       "<Figure size 640x480 with 1 Axes>"
      ]
     },
     "metadata": {},
     "output_type": "display_data"
    }
   ],
   "source": [
    "#Plotting Learning Curve\n",
    "#Splitting into training (80%) & Validation (20%) Set Only this time to get a clearer picture of the performances\n",
    "train_X, val_X ,train_Y, val_Y = train_test_split(final_df['Text'], labels, test_size=0.2, random_state=28)\n",
    "\n",
    "train_set = TweetDataset(train_X.values.flatten(),tweet_vocab, train_Y.values.flatten())\n",
    "train_loader = DataLoader(train_set, batch_size = 32 ,shuffle=False, collate_fn=custom_collate)\n",
    "\n",
    "val_set = TweetDataset(val_X.values.flatten(),tweet_vocab, val_Y.values.flatten())\n",
    "val_loader = DataLoader(val_set, batch_size = 32 ,shuffle=False, collate_fn=custom_collate)\n",
    "\n",
    "#Training again \n",
    "rnn = RNN(best_parameters['stacked_num'],\n",
    "          best_parameters['hidden_size'],\n",
    "          embed_dim,\n",
    "          best_parameters['cell'],\n",
    "          best_parameters['skip'],\n",
    "          best_parameters['attention'],\n",
    "          best_parameters['dropout'],\n",
    "          output_dim,\n",
    "          vocab_size,\n",
    "          pad_idx).to(device)\n",
    "\n",
    "#Train for all epochs\n",
    "patience = epochs\n",
    "best_model,best_epoch,train_scores,train_loss,val_scores,val_loss = train_and_val(epochs,optimizer,train_loader,val_loader,loss_func,rnn,patience,clip)\n",
    "\n",
    "epoch_list = range(1, epochs + 1)\n",
    "plt.grid()\n",
    "plt.ylabel('Accuracy')\n",
    "plt.xlabel('Epochs')\n",
    "plt.plot(epoch_list, train_scores, label=\"Train Score\")\n",
    "plt.plot(epoch_list, val_scores, label=\"Validation Score\")\n",
    "plt.show()"
   ]
  },
  {
   "cell_type": "code",
   "execution_count": 22,
   "id": "36f9c74c",
   "metadata": {
    "execution": {
     "iopub.execute_input": "2024-04-07T17:51:03.615237Z",
     "iopub.status.busy": "2024-04-07T17:51:03.614403Z",
     "iopub.status.idle": "2024-04-07T17:51:03.849344Z",
     "shell.execute_reply": "2024-04-07T17:51:03.848461Z"
    },
    "papermill": {
     "duration": 0.257412,
     "end_time": "2024-04-07T17:51:03.851505",
     "exception": false,
     "start_time": "2024-04-07T17:51:03.594093",
     "status": "completed"
    },
    "tags": []
   },
   "outputs": [
    {
     "data": {
      "image/png": "[encoded data removed]",
      "text/plain": [
       "<Figure size 640x480 with 1 Axes>"
      ]
     },
     "metadata": {},
     "output_type": "display_data"
    }
   ],
   "source": [
    "plt.grid()\n",
    "plt.ylabel('Loss')\n",
    "plt.xlabel('Epochs')\n",
    "plt.plot(epoch_list, train_loss, label=\"Training Loss\")\n",
    "plt.plot(epoch_list, val_loss, label=\"Validation Loss\")\n",
    "plt.show()"
   ]
  },
  {
   "cell_type": "markdown",
   "id": "f7c24ec5",
   "metadata": {
    "papermill": {
     "duration": 0.019123,
     "end_time": "2024-04-07T17:51:03.890417",
     "exception": false,
     "start_time": "2024-04-07T17:51:03.871294",
     "status": "completed"
    },
    "tags": []
   },
   "source": [
    "# **Implementing best model on actual test set:**"
   ]
  },
  {
   "cell_type": "code",
   "execution_count": 23,
   "id": "df472f71",
   "metadata": {
    "execution": {
     "iopub.execute_input": "2024-04-07T17:51:03.930225Z",
     "iopub.status.busy": "2024-04-07T17:51:03.929876Z",
     "iopub.status.idle": "2024-04-07T18:01:13.135272Z",
     "shell.execute_reply": "2024-04-07T18:01:13.134364Z"
    },
    "papermill": {
     "duration": 609.228304,
     "end_time": "2024-04-07T18:01:13.137775",
     "exception": false,
     "start_time": "2024-04-07T17:51:03.909471",
     "status": "completed"
    },
    "tags": []
   },
   "outputs": [],
   "source": [
    "#Read Actual Test Set \n",
    "test_df = pd.read_csv(\"/kaggle/input/ys19-2023-assignment-3/test_set.csv\")\n",
    "\n",
    "#Perform best Data Preprocessing Technique \n",
    "params = {'remove_emojis' : 'y'}\n",
    "test_df['Text'] = Processor.fit_transform(test_df['Text'],**params)\n",
    "\n",
    "# Filter out rows with non-zero token count in the 'Text' column\n",
    "empty_text = test_df[test_df['Text'].apply(lambda x: len(x.split()) == 0)].index\n",
    "\n",
    "# Reset the index to make it consistent after removing rows\n",
    "test_df.drop(empty_text, inplace=True)\n",
    "\n",
    "#Create Dataset & Dataloader for test_df\n",
    "test_set = TweetDataset(test_df['Text'].values.flatten(),tweet_vocab)\n",
    "test_loader = DataLoader(test_set, batch_size = 32 ,shuffle=False, collate_fn=custom_collate)\n",
    "\n",
    "#Train the model with the entire dataset this time\n",
    "rnn = RNN(best_parameters['stacked_num'],\n",
    "          best_parameters['hidden_size'],\n",
    "          embed_dim,\n",
    "          best_parameters['cell'],\n",
    "          best_parameters['skip'],\n",
    "          best_parameters['attention'],\n",
    "          best_parameters['dropout'],\n",
    "          output_dim,\n",
    "          vocab_size,\n",
    "          pad_idx).to(device)\n",
    "\n",
    "patience = best_parameters['patience']\n",
    "output = train_and_val(epochs,optimizer, train_loader, val_loader, loss_func, rnn,patience,clip)\n",
    "\n",
    "#Predict using best model\n",
    "test_pred = output[0].predict(test_loader)\n",
    "\n",
    "# Create submission.csv output file\n",
    "with open(\"submission.csv\", \"w\", newline='') as output_file:\n",
    "    # Create a CSV writer\n",
    "    submission = csv.writer(output_file)\n",
    "\n",
    "    # Write the header row\n",
    "    submission.writerow([\"Id\", \"Predicted\"])\n",
    "\n",
    "    # Write the data rows\n",
    "    for idx, predicted_value in zip(test_df['New_ID'], test_pred):\n",
    "        submission.writerow([idx, int_to_labels[predicted_value]])"
   ]
  }
 ],
 "metadata": {
  "kaggle": {
   "accelerator": "gpu",
   "dataSources": [
    {
     "databundleVersionId": 7351814,
     "sourceId": 66593,
     "sourceType": "competition"
    },
    {
     "datasetId": 3987315,
     "sourceId": 6943103,
     "sourceType": "datasetVersion"
    },
    {
     "datasetId": 4261797,
     "sourceId": 7340355,
     "sourceType": "datasetVersion"
    }
   ],
   "dockerImageVersionId": 30626,
   "isGpuEnabled": true,
   "isInternetEnabled": true,
   "language": "python",
   "sourceType": "notebook"
  },
  "kernelspec": {
   "display_name": "Python 3",
   "language": "python",
   "name": "python3"
  },
  "language_info": {
   "codemirror_mode": {
    "name": "ipython",
    "version": 3
   },
   "file_extension": ".py",
   "mimetype": "text/x-python",
   "name": "python",
   "nbconvert_exporter": "python",
   "pygments_lexer": "ipython3",
   "version": "3.10.12"
  },
  "papermill": {
   "default_parameters": {},
   "duration": 33420.357948,
   "end_time": "2024-04-07T18:01:16.551919",
   "environment_variables": {},
   "exception": null,
   "input_path": "__notebook__.ipynb",
   "output_path": "__notebook__.ipynb",
   "parameters": {},
   "start_time": "2024-04-07T08:44:16.193971",
   "version": "2.4.0"
  }
 },
 "nbformat": 4,
 "nbformat_minor": 5
}

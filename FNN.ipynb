{
 "cells": [
  {
   "cell_type": "code",
   "execution_count": 1,
   "id": "766f368a",
   "metadata": {
    "execution": {
     "iopub.execute_input": "2024-01-01T11:35:46.307989Z",
     "iopub.status.busy": "2024-01-01T11:35:46.307007Z",
     "iopub.status.idle": "2024-01-01T11:35:49.183875Z",
     "shell.execute_reply": "2024-01-01T11:35:49.182517Z"
    },
    "papermill": {
     "duration": 2.894232,
     "end_time": "2024-01-01T11:35:49.187101",
     "exception": false,
     "start_time": "2024-01-01T11:35:46.292869",
     "status": "completed"
    },
    "tags": []
   },
   "outputs": [],
   "source": [
    "import pandas as pd\n",
    "import csv\n",
    "from sklearn.model_selection import train_test_split\n",
    "\n",
    "#Read the datasets\n",
    "train_df = pd.read_csv(\"/kaggle/input/ys19-2023-assignment-2/train_set.csv\")\n",
    "val_df = pd.read_csv(\"/kaggle/input/ys19-2023-assignment-2/valid_set.csv\")\n",
    "\n",
    "#Concatenate train_df and val_df since they are the only ones that have a label and later split into train,validation and test set\n",
    "#80% for training,10% validation,10% test\n",
    "df = pd.concat([train_df, val_df], ignore_index=True)\n",
    "#Remove rows that don't have acceptable values and seperate labels from data\n",
    "acceptable_labels = ['POSITIVE','NEGATIVE','NEUTRAL']\n",
    "df = df[df['Sentiment'].isin(acceptable_labels)]\n",
    "labels = df['Sentiment']\n",
    "original_df = df.drop('Sentiment', axis=1)"
   ]
  },
  {
   "cell_type": "markdown",
   "id": "5b3966ee",
   "metadata": {
    "papermill": {
     "duration": 0.011222,
     "end_time": "2024-01-01T11:35:49.210122",
     "exception": false,
     "start_time": "2024-01-01T11:35:49.198900",
     "status": "completed"
    },
    "tags": []
   },
   "source": [
    "Import Libraries & Install Packages & Initialize Structures for Preprocessing:"
   ]
  },
  {
   "cell_type": "code",
   "execution_count": 2,
   "id": "10be2a46",
   "metadata": {
    "execution": {
     "iopub.execute_input": "2024-01-01T11:35:49.235810Z",
     "iopub.status.busy": "2024-01-01T11:35:49.235055Z",
     "iopub.status.idle": "2024-01-01T11:39:03.105843Z",
     "shell.execute_reply": "2024-01-01T11:39:03.104582Z"
    },
    "papermill": {
     "duration": 193.886679,
     "end_time": "2024-01-01T11:39:03.108236",
     "exception": false,
     "start_time": "2024-01-01T11:35:49.221557",
     "status": "completed"
    },
    "tags": []
   },
   "outputs": [
    {
     "name": "stdout",
     "output_type": "stream",
     "text": [
      "Collecting demoji\r\n",
      "  Downloading demoji-1.1.0-py3-none-any.whl (42 kB)\r\n",
      "\u001b[2K     \u001b[90m━━━━━━━━━━━━━━━━━━━━━━━━━━━━━━━━━━━━━━━━\u001b[0m \u001b[32m42.9/42.9 kB\u001b[0m \u001b[31m3.4 MB/s\u001b[0m eta \u001b[36m0:00:00\u001b[0m\r\n",
      "\u001b[?25hInstalling collected packages: demoji\r\n",
      "Successfully installed demoji-1.1.0\r\n",
      "Note: you may need to restart the kernel to use updated packages.\n",
      "Requirement already satisfied: emoji in /opt/conda/lib/python3.10/site-packages (2.8.0)\r\n",
      "Note: you may need to restart the kernel to use updated packages.\n",
      "Collecting emot\r\n",
      "  Downloading emot-3.1-py3-none-any.whl (61 kB)\r\n",
      "\u001b[2K     \u001b[90m━━━━━━━━━━━━━━━━━━━━━━━━━━━━━━━━━━━━━━━━\u001b[0m \u001b[32m61.5/61.5 kB\u001b[0m \u001b[31m4.3 MB/s\u001b[0m eta \u001b[36m0:00:00\u001b[0m\r\n",
      "\u001b[?25hInstalling collected packages: emot\r\n",
      "Successfully installed emot-3.1\r\n",
      "Note: you may need to restart the kernel to use updated packages.\n",
      "Collecting googletrans==4.0.0-rc1\r\n",
      "  Downloading googletrans-4.0.0rc1.tar.gz (20 kB)\r\n",
      "  Preparing metadata (setup.py) ... \u001b[?25l-\b \b\\\b \b|\b \bdone\r\n",
      "\u001b[?25hCollecting httpx==0.13.3 (from googletrans==4.0.0-rc1)\r\n",
      "  Downloading httpx-0.13.3-py3-none-any.whl (55 kB)\r\n",
      "\u001b[2K     \u001b[90m━━━━━━━━━━━━━━━━━━━━━━━━━━━━━━━━━━━━━━━━\u001b[0m \u001b[32m55.1/55.1 kB\u001b[0m \u001b[31m4.3 MB/s\u001b[0m eta \u001b[36m0:00:00\u001b[0m\r\n",
      "\u001b[?25hRequirement already satisfied: certifi in /opt/conda/lib/python3.10/site-packages (from httpx==0.13.3->googletrans==4.0.0-rc1) (2023.7.22)\r\n",
      "Collecting hstspreload (from httpx==0.13.3->googletrans==4.0.0-rc1)\r\n",
      "  Downloading hstspreload-2023.1.1-py3-none-any.whl (1.5 MB)\r\n",
      "\u001b[2K     \u001b[90m━━━━━━━━━━━━━━━━━━━━━━━━━━━━━━━━━━━━━━━━\u001b[0m \u001b[32m1.5/1.5 MB\u001b[0m \u001b[31m50.6 MB/s\u001b[0m eta \u001b[36m0:00:00\u001b[0m\r\n",
      "\u001b[?25hRequirement already satisfied: sniffio in /opt/conda/lib/python3.10/site-packages (from httpx==0.13.3->googletrans==4.0.0-rc1) (1.3.0)\r\n",
      "Collecting chardet==3.* (from httpx==0.13.3->googletrans==4.0.0-rc1)\r\n",
      "  Downloading chardet-3.0.4-py2.py3-none-any.whl (133 kB)\r\n",
      "\u001b[2K     \u001b[90m━━━━━━━━━━━━━━━━━━━━━━━━━━━━━━━━━━━━━━\u001b[0m \u001b[32m133.4/133.4 kB\u001b[0m \u001b[31m11.3 MB/s\u001b[0m eta \u001b[36m0:00:00\u001b[0m\r\n",
      "\u001b[?25hCollecting idna==2.* (from httpx==0.13.3->googletrans==4.0.0-rc1)\r\n",
      "  Downloading idna-2.10-py2.py3-none-any.whl (58 kB)\r\n",
      "\u001b[2K     \u001b[90m━━━━━━━━━━━━━━━━━━━━━━━━━━━━━━━━━━━━━━━━\u001b[0m \u001b[32m58.8/58.8 kB\u001b[0m \u001b[31m6.2 MB/s\u001b[0m eta \u001b[36m0:00:00\u001b[0m\r\n",
      "\u001b[?25hCollecting rfc3986<2,>=1.3 (from httpx==0.13.3->googletrans==4.0.0-rc1)\r\n",
      "  Downloading rfc3986-1.5.0-py2.py3-none-any.whl (31 kB)\r\n",
      "Collecting httpcore==0.9.* (from httpx==0.13.3->googletrans==4.0.0-rc1)\r\n",
      "  Downloading httpcore-0.9.1-py3-none-any.whl (42 kB)\r\n",
      "\u001b[2K     \u001b[90m━━━━━━━━━━━━━━━━━━━━━━━━━━━━━━━━━━━━━━━━\u001b[0m \u001b[32m42.6/42.6 kB\u001b[0m \u001b[31m4.6 MB/s\u001b[0m eta \u001b[36m0:00:00\u001b[0m\r\n",
      "\u001b[?25hCollecting h11<0.10,>=0.8 (from httpcore==0.9.*->httpx==0.13.3->googletrans==4.0.0-rc1)\r\n",
      "  Downloading h11-0.9.0-py2.py3-none-any.whl (53 kB)\r\n",
      "\u001b[2K     \u001b[90m━━━━━━━━━━━━━━━━━━━━━━━━━━━━━━━━━━━━━━━━\u001b[0m \u001b[32m53.6/53.6 kB\u001b[0m \u001b[31m5.6 MB/s\u001b[0m eta \u001b[36m0:00:00\u001b[0m\r\n",
      "\u001b[?25hCollecting h2==3.* (from httpcore==0.9.*->httpx==0.13.3->googletrans==4.0.0-rc1)\r\n",
      "  Downloading h2-3.2.0-py2.py3-none-any.whl (65 kB)\r\n",
      "\u001b[2K     \u001b[90m━━━━━━━━━━━━━━━━━━━━━━━━━━━━━━━━━━━━━━━━\u001b[0m \u001b[32m65.0/65.0 kB\u001b[0m \u001b[31m6.0 MB/s\u001b[0m eta \u001b[36m0:00:00\u001b[0m\r\n",
      "\u001b[?25hCollecting hyperframe<6,>=5.2.0 (from h2==3.*->httpcore==0.9.*->httpx==0.13.3->googletrans==4.0.0-rc1)\r\n",
      "  Downloading hyperframe-5.2.0-py2.py3-none-any.whl (12 kB)\r\n",
      "Collecting hpack<4,>=3.0 (from h2==3.*->httpcore==0.9.*->httpx==0.13.3->googletrans==4.0.0-rc1)\r\n",
      "  Downloading hpack-3.0.0-py2.py3-none-any.whl (38 kB)\r\n",
      "Building wheels for collected packages: googletrans\r\n",
      "  Building wheel for googletrans (setup.py) ... \u001b[?25l-\b \b\\\b \b|\b \b/\b \bdone\r\n",
      "\u001b[?25h  Created wheel for googletrans: filename=googletrans-4.0.0rc1-py3-none-any.whl size=17396 sha256=de6d13ce55f6a889e1607364cdd036a7a891a0d0346703b484eeeb9e35e4b068\r\n",
      "  Stored in directory: /root/.cache/pip/wheels/c0/59/9f/7372f0cf70160fe61b528532e1a7c8498c4becd6bcffb022de\r\n",
      "Successfully built googletrans\r\n",
      "Installing collected packages: rfc3986, hyperframe, hpack, h11, chardet, idna, hstspreload, h2, httpcore, httpx, googletrans\r\n",
      "  Attempting uninstall: h11\r\n",
      "    Found existing installation: h11 0.14.0\r\n",
      "    Uninstalling h11-0.14.0:\r\n",
      "      Successfully uninstalled h11-0.14.0\r\n",
      "  Attempting uninstall: idna\r\n",
      "    Found existing installation: idna 3.4\r\n",
      "    Uninstalling idna-3.4:\r\n",
      "      Successfully uninstalled idna-3.4\r\n",
      "\u001b[31mERROR: pip's dependency resolver does not currently take into account all the packages that are installed. This behaviour is the source of the following dependency conflicts.\r\n",
      "jupyterlab 4.0.5 requires jupyter-lsp>=2.0.0, but you have jupyter-lsp 1.5.1 which is incompatible.\r\n",
      "jupyterlab-lsp 5.0.0 requires jupyter-lsp>=2.0.0, but you have jupyter-lsp 1.5.1 which is incompatible.\r\n",
      "jupyterlab-lsp 5.0.0 requires jupyterlab<5.0.0a0,>=4.0.6, but you have jupyterlab 4.0.5 which is incompatible.\r\n",
      "tensorflowjs 4.13.0 requires packaging~=23.1, but you have packaging 21.3 which is incompatible.\r\n",
      "ydata-profiling 4.5.1 requires numpy<1.24,>=1.16.0, but you have numpy 1.24.3 which is incompatible.\u001b[0m\u001b[31m\r\n",
      "\u001b[0mSuccessfully installed chardet-3.0.4 googletrans-4.0.0rc1 h11-0.9.0 h2-3.2.0 hpack-3.0.0 hstspreload-2023.1.1 httpcore-0.9.1 httpx-0.13.3 hyperframe-5.2.0 idna-2.10 rfc3986-1.5.0\r\n",
      "Note: you may need to restart the kernel to use updated packages.\n",
      "Requirement already satisfied: Unidecode in /opt/conda/lib/python3.10/site-packages (1.3.7)\r\n",
      "Note: you may need to restart the kernel to use updated packages.\n",
      "Collecting greek-stemmer-pos\r\n",
      "  Downloading greek_stemmer_pos-1.1.2-py3-none-any.whl (19 kB)\r\n",
      "Requirement already satisfied: pytest in /opt/conda/lib/python3.10/site-packages (from greek-stemmer-pos) (7.4.3)\r\n",
      "Collecting pytest-cov (from greek-stemmer-pos)\r\n",
      "  Obtaining dependency information for pytest-cov from https://files.pythonhosted.org/packages/a7/4b/8b78d126e275efa2379b1c2e09dc52cf70df16fc3b90613ef82531499d73/pytest_cov-4.1.0-py3-none-any.whl.metadata\r\n",
      "  Downloading pytest_cov-4.1.0-py3-none-any.whl.metadata (26 kB)\r\n",
      "Requirement already satisfied: iniconfig in /opt/conda/lib/python3.10/site-packages (from pytest->greek-stemmer-pos) (2.0.0)\r\n",
      "Requirement already satisfied: packaging in /opt/conda/lib/python3.10/site-packages (from pytest->greek-stemmer-pos) (21.3)\r\n",
      "Requirement already satisfied: pluggy<2.0,>=0.12 in /opt/conda/lib/python3.10/site-packages (from pytest->greek-stemmer-pos) (1.2.0)\r\n",
      "Requirement already satisfied: exceptiongroup>=1.0.0rc8 in /opt/conda/lib/python3.10/site-packages (from pytest->greek-stemmer-pos) (1.1.3)\r\n",
      "Requirement already satisfied: tomli>=1.0.0 in /opt/conda/lib/python3.10/site-packages (from pytest->greek-stemmer-pos) (2.0.1)\r\n",
      "Collecting coverage[toml]>=5.2.1 (from pytest-cov->greek-stemmer-pos)\r\n",
      "  Obtaining dependency information for coverage[toml]>=5.2.1 from https://files.pythonhosted.org/packages/b3/91/1f1c7f3351e4c996558e67bfe4f04084b7d01878e2bb55640652e1ee908f/coverage-7.4.0-cp310-cp310-manylinux_2_5_x86_64.manylinux1_x86_64.manylinux_2_17_x86_64.manylinux2014_x86_64.whl.metadata\r\n",
      "  Downloading coverage-7.4.0-cp310-cp310-manylinux_2_5_x86_64.manylinux1_x86_64.manylinux_2_17_x86_64.manylinux2014_x86_64.whl.metadata (8.1 kB)\r\n",
      "Requirement already satisfied: pyparsing!=3.0.5,>=2.0.2 in /opt/conda/lib/python3.10/site-packages (from packaging->pytest->greek-stemmer-pos) (3.0.9)\r\n",
      "Downloading pytest_cov-4.1.0-py3-none-any.whl (21 kB)\r\n",
      "Downloading coverage-7.4.0-cp310-cp310-manylinux_2_5_x86_64.manylinux1_x86_64.manylinux_2_17_x86_64.manylinux2014_x86_64.whl (233 kB)\r\n",
      "\u001b[2K   \u001b[90m━━━━━━━━━━━━━━━━━━━━━━━━━━━━━━━━━━━━━━━━\u001b[0m \u001b[32m233.2/233.2 kB\u001b[0m \u001b[31m7.2 MB/s\u001b[0m eta \u001b[36m0:00:00\u001b[0m\r\n",
      "\u001b[?25hInstalling collected packages: coverage, pytest-cov, greek-stemmer-pos\r\n",
      "Successfully installed coverage-7.4.0 greek-stemmer-pos-1.1.2 pytest-cov-4.1.0\r\n",
      "Note: you may need to restart the kernel to use updated packages.\n",
      "Requirement already satisfied: spacy in /opt/conda/lib/python3.10/site-packages (3.7.2)\r\n",
      "Requirement already satisfied: spacy-legacy<3.1.0,>=3.0.11 in /opt/conda/lib/python3.10/site-packages (from spacy) (3.0.12)\r\n",
      "Requirement already satisfied: spacy-loggers<2.0.0,>=1.0.0 in /opt/conda/lib/python3.10/site-packages (from spacy) (1.0.5)\r\n",
      "Requirement already satisfied: murmurhash<1.1.0,>=0.28.0 in /opt/conda/lib/python3.10/site-packages (from spacy) (1.0.10)\r\n",
      "Requirement already satisfied: cymem<2.1.0,>=2.0.2 in /opt/conda/lib/python3.10/site-packages (from spacy) (2.0.8)\r\n",
      "Requirement already satisfied: preshed<3.1.0,>=3.0.2 in /opt/conda/lib/python3.10/site-packages (from spacy) (3.0.9)\r\n",
      "Requirement already satisfied: thinc<8.3.0,>=8.1.8 in /opt/conda/lib/python3.10/site-packages (from spacy) (8.2.1)\r\n",
      "Requirement already satisfied: wasabi<1.2.0,>=0.9.1 in /opt/conda/lib/python3.10/site-packages (from spacy) (1.1.2)\r\n",
      "Requirement already satisfied: srsly<3.0.0,>=2.4.3 in /opt/conda/lib/python3.10/site-packages (from spacy) (2.4.8)\r\n",
      "Requirement already satisfied: catalogue<2.1.0,>=2.0.6 in /opt/conda/lib/python3.10/site-packages (from spacy) (2.0.10)\r\n",
      "Requirement already satisfied: weasel<0.4.0,>=0.1.0 in /opt/conda/lib/python3.10/site-packages (from spacy) (0.3.4)\r\n",
      "Requirement already satisfied: typer<0.10.0,>=0.3.0 in /opt/conda/lib/python3.10/site-packages (from spacy) (0.9.0)\r\n",
      "Requirement already satisfied: smart-open<7.0.0,>=5.2.1 in /opt/conda/lib/python3.10/site-packages (from spacy) (6.3.0)\r\n",
      "Requirement already satisfied: tqdm<5.0.0,>=4.38.0 in /opt/conda/lib/python3.10/site-packages (from spacy) (4.66.1)\r\n",
      "Requirement already satisfied: requests<3.0.0,>=2.13.0 in /opt/conda/lib/python3.10/site-packages (from spacy) (2.31.0)\r\n",
      "Requirement already satisfied: pydantic!=1.8,!=1.8.1,<3.0.0,>=1.7.4 in /opt/conda/lib/python3.10/site-packages (from spacy) (1.10.12)\r\n",
      "Requirement already satisfied: jinja2 in /opt/conda/lib/python3.10/site-packages (from spacy) (3.1.2)\r\n",
      "Requirement already satisfied: setuptools in /opt/conda/lib/python3.10/site-packages (from spacy) (68.1.2)\r\n",
      "Requirement already satisfied: packaging>=20.0 in /opt/conda/lib/python3.10/site-packages (from spacy) (21.3)\r\n",
      "Requirement already satisfied: langcodes<4.0.0,>=3.2.0 in /opt/conda/lib/python3.10/site-packages (from spacy) (3.3.0)\r\n",
      "Requirement already satisfied: numpy>=1.19.0 in /opt/conda/lib/python3.10/site-packages (from spacy) (1.24.3)\r\n",
      "Requirement already satisfied: pyparsing!=3.0.5,>=2.0.2 in /opt/conda/lib/python3.10/site-packages (from packaging>=20.0->spacy) (3.0.9)\r\n",
      "Requirement already satisfied: typing-extensions>=4.2.0 in /opt/conda/lib/python3.10/site-packages (from pydantic!=1.8,!=1.8.1,<3.0.0,>=1.7.4->spacy) (4.5.0)\r\n",
      "Requirement already satisfied: charset-normalizer<4,>=2 in /opt/conda/lib/python3.10/site-packages (from requests<3.0.0,>=2.13.0->spacy) (3.2.0)\r\n",
      "Requirement already satisfied: idna<4,>=2.5 in /opt/conda/lib/python3.10/site-packages (from requests<3.0.0,>=2.13.0->spacy) (2.10)\r\n",
      "Requirement already satisfied: urllib3<3,>=1.21.1 in /opt/conda/lib/python3.10/site-packages (from requests<3.0.0,>=2.13.0->spacy) (1.26.15)\r\n",
      "Requirement already satisfied: certifi>=2017.4.17 in /opt/conda/lib/python3.10/site-packages (from requests<3.0.0,>=2.13.0->spacy) (2023.7.22)\r\n",
      "Requirement already satisfied: blis<0.8.0,>=0.7.8 in /opt/conda/lib/python3.10/site-packages (from thinc<8.3.0,>=8.1.8->spacy) (0.7.11)\r\n",
      "Requirement already satisfied: confection<1.0.0,>=0.0.1 in /opt/conda/lib/python3.10/site-packages (from thinc<8.3.0,>=8.1.8->spacy) (0.1.3)\r\n",
      "Requirement already satisfied: click<9.0.0,>=7.1.1 in /opt/conda/lib/python3.10/site-packages (from typer<0.10.0,>=0.3.0->spacy) (8.1.7)\r\n",
      "Requirement already satisfied: cloudpathlib<0.17.0,>=0.7.0 in /opt/conda/lib/python3.10/site-packages (from weasel<0.4.0,>=0.1.0->spacy) (0.16.0)\r\n",
      "Requirement already satisfied: MarkupSafe>=2.0 in /opt/conda/lib/python3.10/site-packages (from jinja2->spacy) (2.1.3)\r\n",
      "Note: you may need to restart the kernel to use updated packages.\n",
      "Requirement already satisfied: torch in /opt/conda/lib/python3.10/site-packages (2.0.0+cpu)\r\n",
      "Requirement already satisfied: filelock in /opt/conda/lib/python3.10/site-packages (from torch) (3.12.2)\r\n",
      "Requirement already satisfied: typing-extensions in /opt/conda/lib/python3.10/site-packages (from torch) (4.5.0)\r\n",
      "Requirement already satisfied: sympy in /opt/conda/lib/python3.10/site-packages (from torch) (1.12)\r\n",
      "Requirement already satisfied: networkx in /opt/conda/lib/python3.10/site-packages (from torch) (3.1)\r\n",
      "Requirement already satisfied: jinja2 in /opt/conda/lib/python3.10/site-packages (from torch) (3.1.2)\r\n",
      "Requirement already satisfied: MarkupSafe>=2.0 in /opt/conda/lib/python3.10/site-packages (from jinja2->torch) (2.1.3)\r\n",
      "Requirement already satisfied: mpmath>=0.19 in /opt/conda/lib/python3.10/site-packages (from sympy->torch) (1.3.0)\r\n",
      "Requirement already satisfied: optuna in /opt/conda/lib/python3.10/site-packages (3.4.0)\r\n",
      "Requirement already satisfied: alembic>=1.5.0 in /opt/conda/lib/python3.10/site-packages (from optuna) (1.12.1)\r\n",
      "Requirement already satisfied: colorlog in /opt/conda/lib/python3.10/site-packages (from optuna) (6.7.0)\r\n",
      "Requirement already satisfied: numpy in /opt/conda/lib/python3.10/site-packages (from optuna) (1.24.3)\r\n",
      "Requirement already satisfied: packaging>=20.0 in /opt/conda/lib/python3.10/site-packages (from optuna) (21.3)\r\n",
      "Requirement already satisfied: sqlalchemy>=1.3.0 in /opt/conda/lib/python3.10/site-packages (from optuna) (2.0.20)\r\n",
      "Requirement already satisfied: tqdm in /opt/conda/lib/python3.10/site-packages (from optuna) (4.66.1)\r\n",
      "Requirement already satisfied: PyYAML in /opt/conda/lib/python3.10/site-packages (from optuna) (6.0.1)\r\n",
      "Requirement already satisfied: Mako in /opt/conda/lib/python3.10/site-packages (from alembic>=1.5.0->optuna) (1.3.0)\r\n",
      "Requirement already satisfied: typing-extensions>=4 in /opt/conda/lib/python3.10/site-packages (from alembic>=1.5.0->optuna) (4.5.0)\r\n",
      "Requirement already satisfied: pyparsing!=3.0.5,>=2.0.2 in /opt/conda/lib/python3.10/site-packages (from packaging>=20.0->optuna) (3.0.9)\r\n",
      "Requirement already satisfied: greenlet!=0.4.17 in /opt/conda/lib/python3.10/site-packages (from sqlalchemy>=1.3.0->optuna) (2.0.2)\r\n",
      "Requirement already satisfied: MarkupSafe>=0.9.2 in /opt/conda/lib/python3.10/site-packages (from Mako->alembic>=1.5.0->optuna) (2.1.3)\r\n",
      "Requirement already satisfied: torchmetrics in /opt/conda/lib/python3.10/site-packages (1.2.0)\r\n",
      "Requirement already satisfied: numpy>1.20.0 in /opt/conda/lib/python3.10/site-packages (from torchmetrics) (1.24.3)\r\n",
      "Requirement already satisfied: torch>=1.8.1 in /opt/conda/lib/python3.10/site-packages (from torchmetrics) (2.0.0+cpu)\r\n",
      "Requirement already satisfied: lightning-utilities>=0.8.0 in /opt/conda/lib/python3.10/site-packages (from torchmetrics) (0.9.0)\r\n",
      "Requirement already satisfied: packaging>=17.1 in /opt/conda/lib/python3.10/site-packages (from lightning-utilities>=0.8.0->torchmetrics) (21.3)\r\n",
      "Requirement already satisfied: typing-extensions in /opt/conda/lib/python3.10/site-packages (from lightning-utilities>=0.8.0->torchmetrics) (4.5.0)\r\n",
      "Requirement already satisfied: filelock in /opt/conda/lib/python3.10/site-packages (from torch>=1.8.1->torchmetrics) (3.12.2)\r\n",
      "Requirement already satisfied: sympy in /opt/conda/lib/python3.10/site-packages (from torch>=1.8.1->torchmetrics) (1.12)\r\n",
      "Requirement already satisfied: networkx in /opt/conda/lib/python3.10/site-packages (from torch>=1.8.1->torchmetrics) (3.1)\r\n",
      "Requirement already satisfied: jinja2 in /opt/conda/lib/python3.10/site-packages (from torch>=1.8.1->torchmetrics) (3.1.2)\r\n",
      "Requirement already satisfied: pyparsing!=3.0.5,>=2.0.2 in /opt/conda/lib/python3.10/site-packages (from packaging>=17.1->lightning-utilities>=0.8.0->torchmetrics) (3.0.9)\r\n",
      "Requirement already satisfied: MarkupSafe>=2.0 in /opt/conda/lib/python3.10/site-packages (from jinja2->torch>=1.8.1->torchmetrics) (2.1.3)\r\n",
      "Requirement already satisfied: mpmath>=0.19 in /opt/conda/lib/python3.10/site-packages (from sympy->torch>=1.8.1->torchmetrics) (1.3.0)\r\n",
      "Note: you may need to restart the kernel to use updated packages.\n",
      "Collecting el-core-news-sm==3.7.0\r\n",
      "  Downloading https://github.com/explosion/spacy-models/releases/download/el_core_news_sm-3.7.0/el_core_news_sm-3.7.0-py3-none-any.whl (12.6 MB)\r\n",
      "\u001b[2K     \u001b[90m━━━━━━━━━━━━━━━━━━━━━━━━━━━━━━━━━━━━━━━━\u001b[0m \u001b[32m12.6/12.6 MB\u001b[0m \u001b[31m45.7 MB/s\u001b[0m eta \u001b[36m0:00:00\u001b[0m\r\n",
      "\u001b[?25hRequirement already satisfied: spacy<3.8.0,>=3.7.0 in /opt/conda/lib/python3.10/site-packages (from el-core-news-sm==3.7.0) (3.7.2)\r\n",
      "Requirement already satisfied: spacy-legacy<3.1.0,>=3.0.11 in /opt/conda/lib/python3.10/site-packages (from spacy<3.8.0,>=3.7.0->el-core-news-sm==3.7.0) (3.0.12)\r\n",
      "Requirement already satisfied: spacy-loggers<2.0.0,>=1.0.0 in /opt/conda/lib/python3.10/site-packages (from spacy<3.8.0,>=3.7.0->el-core-news-sm==3.7.0) (1.0.5)\r\n",
      "Requirement already satisfied: murmurhash<1.1.0,>=0.28.0 in /opt/conda/lib/python3.10/site-packages (from spacy<3.8.0,>=3.7.0->el-core-news-sm==3.7.0) (1.0.10)\r\n",
      "Requirement already satisfied: cymem<2.1.0,>=2.0.2 in /opt/conda/lib/python3.10/site-packages (from spacy<3.8.0,>=3.7.0->el-core-news-sm==3.7.0) (2.0.8)\r\n",
      "Requirement already satisfied: preshed<3.1.0,>=3.0.2 in /opt/conda/lib/python3.10/site-packages (from spacy<3.8.0,>=3.7.0->el-core-news-sm==3.7.0) (3.0.9)\r\n",
      "Requirement already satisfied: thinc<8.3.0,>=8.1.8 in /opt/conda/lib/python3.10/site-packages (from spacy<3.8.0,>=3.7.0->el-core-news-sm==3.7.0) (8.2.1)\r\n",
      "Requirement already satisfied: wasabi<1.2.0,>=0.9.1 in /opt/conda/lib/python3.10/site-packages (from spacy<3.8.0,>=3.7.0->el-core-news-sm==3.7.0) (1.1.2)\r\n",
      "Requirement already satisfied: srsly<3.0.0,>=2.4.3 in /opt/conda/lib/python3.10/site-packages (from spacy<3.8.0,>=3.7.0->el-core-news-sm==3.7.0) (2.4.8)\r\n",
      "Requirement already satisfied: catalogue<2.1.0,>=2.0.6 in /opt/conda/lib/python3.10/site-packages (from spacy<3.8.0,>=3.7.0->el-core-news-sm==3.7.0) (2.0.10)\r\n",
      "Requirement already satisfied: weasel<0.4.0,>=0.1.0 in /opt/conda/lib/python3.10/site-packages (from spacy<3.8.0,>=3.7.0->el-core-news-sm==3.7.0) (0.3.4)\r\n",
      "Requirement already satisfied: typer<0.10.0,>=0.3.0 in /opt/conda/lib/python3.10/site-packages (from spacy<3.8.0,>=3.7.0->el-core-news-sm==3.7.0) (0.9.0)\r\n",
      "Requirement already satisfied: smart-open<7.0.0,>=5.2.1 in /opt/conda/lib/python3.10/site-packages (from spacy<3.8.0,>=3.7.0->el-core-news-sm==3.7.0) (6.3.0)\r\n",
      "Requirement already satisfied: tqdm<5.0.0,>=4.38.0 in /opt/conda/lib/python3.10/site-packages (from spacy<3.8.0,>=3.7.0->el-core-news-sm==3.7.0) (4.66.1)\r\n",
      "Requirement already satisfied: requests<3.0.0,>=2.13.0 in /opt/conda/lib/python3.10/site-packages (from spacy<3.8.0,>=3.7.0->el-core-news-sm==3.7.0) (2.31.0)\r\n",
      "Requirement already satisfied: pydantic!=1.8,!=1.8.1,<3.0.0,>=1.7.4 in /opt/conda/lib/python3.10/site-packages (from spacy<3.8.0,>=3.7.0->el-core-news-sm==3.7.0) (1.10.12)\r\n",
      "Requirement already satisfied: jinja2 in /opt/conda/lib/python3.10/site-packages (from spacy<3.8.0,>=3.7.0->el-core-news-sm==3.7.0) (3.1.2)\r\n",
      "Requirement already satisfied: setuptools in /opt/conda/lib/python3.10/site-packages (from spacy<3.8.0,>=3.7.0->el-core-news-sm==3.7.0) (68.1.2)\r\n",
      "Requirement already satisfied: packaging>=20.0 in /opt/conda/lib/python3.10/site-packages (from spacy<3.8.0,>=3.7.0->el-core-news-sm==3.7.0) (21.3)\r\n",
      "Requirement already satisfied: langcodes<4.0.0,>=3.2.0 in /opt/conda/lib/python3.10/site-packages (from spacy<3.8.0,>=3.7.0->el-core-news-sm==3.7.0) (3.3.0)\r\n",
      "Requirement already satisfied: numpy>=1.19.0 in /opt/conda/lib/python3.10/site-packages (from spacy<3.8.0,>=3.7.0->el-core-news-sm==3.7.0) (1.24.3)\r\n",
      "Requirement already satisfied: pyparsing!=3.0.5,>=2.0.2 in /opt/conda/lib/python3.10/site-packages (from packaging>=20.0->spacy<3.8.0,>=3.7.0->el-core-news-sm==3.7.0) (3.0.9)\r\n",
      "Requirement already satisfied: typing-extensions>=4.2.0 in /opt/conda/lib/python3.10/site-packages (from pydantic!=1.8,!=1.8.1,<3.0.0,>=1.7.4->spacy<3.8.0,>=3.7.0->el-core-news-sm==3.7.0) (4.5.0)\r\n",
      "Requirement already satisfied: charset-normalizer<4,>=2 in /opt/conda/lib/python3.10/site-packages (from requests<3.0.0,>=2.13.0->spacy<3.8.0,>=3.7.0->el-core-news-sm==3.7.0) (3.2.0)\r\n",
      "Requirement already satisfied: idna<4,>=2.5 in /opt/conda/lib/python3.10/site-packages (from requests<3.0.0,>=2.13.0->spacy<3.8.0,>=3.7.0->el-core-news-sm==3.7.0) (2.10)\r\n",
      "Requirement already satisfied: urllib3<3,>=1.21.1 in /opt/conda/lib/python3.10/site-packages (from requests<3.0.0,>=2.13.0->spacy<3.8.0,>=3.7.0->el-core-news-sm==3.7.0) (1.26.15)\r\n",
      "Requirement already satisfied: certifi>=2017.4.17 in /opt/conda/lib/python3.10/site-packages (from requests<3.0.0,>=2.13.0->spacy<3.8.0,>=3.7.0->el-core-news-sm==3.7.0) (2023.7.22)\r\n",
      "Requirement already satisfied: blis<0.8.0,>=0.7.8 in /opt/conda/lib/python3.10/site-packages (from thinc<8.3.0,>=8.1.8->spacy<3.8.0,>=3.7.0->el-core-news-sm==3.7.0) (0.7.11)\r\n",
      "Requirement already satisfied: confection<1.0.0,>=0.0.1 in /opt/conda/lib/python3.10/site-packages (from thinc<8.3.0,>=8.1.8->spacy<3.8.0,>=3.7.0->el-core-news-sm==3.7.0) (0.1.3)\r\n",
      "Requirement already satisfied: click<9.0.0,>=7.1.1 in /opt/conda/lib/python3.10/site-packages (from typer<0.10.0,>=0.3.0->spacy<3.8.0,>=3.7.0->el-core-news-sm==3.7.0) (8.1.7)\r\n",
      "Requirement already satisfied: cloudpathlib<0.17.0,>=0.7.0 in /opt/conda/lib/python3.10/site-packages (from weasel<0.4.0,>=0.1.0->spacy<3.8.0,>=3.7.0->el-core-news-sm==3.7.0) (0.16.0)\r\n",
      "Requirement already satisfied: MarkupSafe>=2.0 in /opt/conda/lib/python3.10/site-packages (from jinja2->spacy<3.8.0,>=3.7.0->el-core-news-sm==3.7.0) (2.1.3)\r\n",
      "Installing collected packages: el-core-news-sm\r\n",
      "Successfully installed el-core-news-sm-3.7.0\r\n",
      "\u001b[38;5;2m✔ Download and installation successful\u001b[0m\r\n",
      "You can now load the package via spacy.load('el_core_news_sm')\r\n",
      "[nltk_data] Downloading package stopwords to /usr/share/nltk_data...\n",
      "[nltk_data]   Package stopwords is already up-to-date!\n"
     ]
    },
    {
     "data": {
      "text/plain": [
       "True"
      ]
     },
     "execution_count": 2,
     "metadata": {},
     "output_type": "execute_result"
    }
   ],
   "source": [
    "%pip install demoji\n",
    "%pip install emoji\n",
    "%pip install emot\n",
    "%pip install googletrans==4.0.0-rc1\n",
    "%pip install Unidecode\n",
    "%pip install greek-stemmer-pos\n",
    "%pip install spacy \n",
    "!pip install torch\n",
    "!pip install optuna\n",
    "%pip install torchmetrics\n",
    "from sklearn.metrics import f1_score, confusion_matrix\n",
    "!python -m spacy download el_core_news_sm\n",
    "import torch\n",
    "import optuna\n",
    "import spacy\n",
    "import nltk\n",
    "import re\n",
    "import string\n",
    "import emoji\n",
    "import demoji\n",
    "import emot\n",
    "import itertools\n",
    "import gensim\n",
    "import multiprocessing\n",
    "import numpy as np\n",
    "import unicodedata as ud\n",
    "import random\n",
    "import torch.nn as nn\n",
    "import warnings\n",
    "warnings.filterwarnings(\"ignore\")\n",
    "from matplotlib import pyplot as plt\n",
    "import seaborn as sns\n",
    "from torch.utils.data import Dataset\n",
    "from torch.utils.data import DataLoader\n",
    "from string import punctuation\n",
    "from nltk.corpus import stopwords\n",
    "from nltk.stem import PorterStemmer\n",
    "from sklearn.base import BaseEstimator, TransformerMixin\n",
    "from googletrans import Translator\n",
    "from emot.emo_unicode import EMOTICONS_EMO\n",
    "from flashtext import KeywordProcessor\n",
    "from sklearn.linear_model import LogisticRegression\n",
    "from greek_stemmer import stemmer\n",
    "from spacy.lang.el.examples import sentences \n",
    "from gensim.models import Word2Vec\n",
    "from gensim.models.phrases import Phrases, Phraser\n",
    "from nltk.tokenize import word_tokenize\n",
    "\n",
    "nltk.download('stopwords')"
   ]
  },
  {
   "cell_type": "code",
   "execution_count": 3,
   "id": "2d2344a3",
   "metadata": {
    "execution": {
     "iopub.execute_input": "2024-01-01T11:39:03.150287Z",
     "iopub.status.busy": "2024-01-01T11:39:03.149558Z",
     "iopub.status.idle": "2024-01-01T11:40:33.036243Z",
     "shell.execute_reply": "2024-01-01T11:40:33.035041Z"
    },
    "papermill": {
     "duration": 89.911005,
     "end_time": "2024-01-01T11:40:33.039515",
     "exception": false,
     "start_time": "2024-01-01T11:39:03.128510",
     "status": "completed"
    },
    "tags": []
   },
   "outputs": [],
   "source": [
    "#Creating a simple function to roughly convert most greeklish to greek\n",
    "greek_alphabet = 'ΑαΒβΓγΔδΕεΖζΗηΘθΙιΚκΛλΜμΝνΞξΟοΠπΡρΣσςΤτΥυΦφΧχΨψΩω'\n",
    "latin_alphabet = 'AaBbGgDdEeZzHhJjIiKkLlMmNnXxOoPpRrSssTtUuFfQqYyWw'\n",
    "greeklish_to_greek = str.maketrans(latin_alphabet,greek_alphabet)\n",
    "\n",
    "#Creating a Keyword Processor for converting emojis and emoticons to their greek meaning\n",
    "translator = Translator()\n",
    "emoticons = {**EMOTICONS_EMO}\n",
    "kp_emojis = KeywordProcessor()\n",
    "#We will create a dictionary that maps each emoticon in each equivalent greek word. We will repeat the same for emojis\n",
    "for emoticon,value in emoticons.items() :\n",
    "    try :\n",
    "       greek_value = translator.translate(value.replace(\":\",\"\").replace(\"_\",\" \").strip(), src='en', dest='el').text\n",
    "    except :\n",
    "        greek_value = \"\"\n",
    "        \n",
    "    kp_emojis.add_keyword(emoticon, greek_value)\n",
    "    \n",
    "# Load the Greek language model for spacy\n",
    "nlp = spacy.load('el_core_news_sm')\n",
    "\n",
    "#More Greek stopwords from our custom made file\n",
    "with open('/kaggle/input/lowercasegreekstopwords/Greek-Stopwords.txt', 'r') as file:\n",
    "    # Read lines and remove '\\n' from each line\n",
    "    more_stopwords = [line.strip() for line in file.readlines()]\n",
    "    \n",
    "stops = set(stopwords.words('greek')).union(more_stopwords)"
   ]
  },
  {
   "cell_type": "markdown",
   "id": "f2d1d0b6",
   "metadata": {
    "papermill": {
     "duration": 0.019653,
     "end_time": "2024-01-01T11:40:33.079982",
     "exception": false,
     "start_time": "2024-01-01T11:40:33.060329",
     "status": "completed"
    },
    "tags": []
   },
   "source": [
    "Data Preprocessing & Word Embeddings Using Word2Vec:"
   ]
  },
  {
   "cell_type": "code",
   "execution_count": 4,
   "id": "40319c6f",
   "metadata": {
    "execution": {
     "iopub.execute_input": "2024-01-01T11:40:33.122777Z",
     "iopub.status.busy": "2024-01-01T11:40:33.122357Z",
     "iopub.status.idle": "2024-01-01T11:40:33.149964Z",
     "shell.execute_reply": "2024-01-01T11:40:33.149015Z"
    },
    "papermill": {
     "duration": 0.052586,
     "end_time": "2024-01-01T11:40:33.152616",
     "exception": false,
     "start_time": "2024-01-01T11:40:33.100030",
     "status": "completed"
    },
    "tags": []
   },
   "outputs": [],
   "source": [
    "class DataPreprocessing(BaseEstimator, TransformerMixin):\n",
    "    \n",
    "    def remove_tags(self, text):\n",
    "        return re.sub('@.*? ', '',text)\n",
    "    \n",
    "    def remove_urls(self, text):\n",
    "        return re.sub(r'http.?://[^\\s]+[\\s]?', '',text)\n",
    "    \n",
    "    def emoji_to_word(self, text):\n",
    "        #Get the map of emojis and their meaning in current text\n",
    "        emojis = demoji.findall(text)\n",
    "        #Convert the meaning to greek and add pair to keyword processor if it doesn't already exists\n",
    "        for emoji,value in emojis.items():\n",
    "            try :\n",
    "               greek_value = translator.translate(value.replace(\":\",\"\").replace(\"_\",\" \").strip(), src='en', dest='el').text\n",
    "            except :\n",
    "                greek_value = \"\"  \n",
    "                \n",
    "            # We replace emojis and emoticons with their corresponding greek words\n",
    "            kp_emojis.add_keyword(emoji, greek_value) \n",
    "            \n",
    "        return kp_emojis.replace_keywords(text)\n",
    "    def remove_emoji(self, text):\n",
    "        emoji_pattern = re.compile(\"[\"\n",
    "                               u\"U0001F600-U0001F64F\"  # emoticons\n",
    "                               u\"U0001F300-U0001F5FF\"  # symbols & pictographs\n",
    "                               u\"U0001F680-U0001F6FF\"  # transport & map symbols\n",
    "                               u\"U0001F1E0-U0001F1FF\"  # flags (iOS)\n",
    "                               u\"U00002702-U000027B0\"\n",
    "                               u\"U000024C2-U0001F251\"\n",
    "                               \"]+\", flags=re.UNICODE)\n",
    "        return emoji_pattern.sub(r'', text)\n",
    "    \n",
    "    def remove_hashtags(self,text):\n",
    "        #We remove the string following the hashtag\n",
    "        words = text.split()\n",
    "        return ' '.join(word for word in words if not word.startswith('#'))\n",
    "    \n",
    "    def remove_punctuation(self, text):\n",
    "        # We leave a space in the place of every punctuation symbol to avoid mistaken concatenation between words\n",
    "        greek_punc = punctuation + '«' +'»'+'’'\n",
    "        trantab = str.maketrans(greek_punc, len(greek_punc)*' ')  \n",
    "        return text.translate(trantab)\n",
    "    \n",
    "    def remove_accents(self, text):\n",
    "        d = {ord('\\N{COMBINING ACUTE ACCENT}'):None}\n",
    "        return ud.normalize('NFD',text).translate(d)\n",
    "    \n",
    "    def remove_digits(self, input_text):\n",
    "        return re.sub('\\d+', '', input_text)    \n",
    "    \n",
    "    def remove_stopwords(self, text):\n",
    "        words = text.split() \n",
    "        #We remove strings that aren't words as well as stop words\n",
    "        filtered_words = [word for word in words if (word not in stops) and len(word) > 1] \n",
    "        return \" \".join(filtered_words) \n",
    "    \n",
    "    def to_lower(self, text):\n",
    "        return text.lower()\n",
    "    \n",
    "    def convert_greeklish(self, text):\n",
    "        return text.translate(greeklish_to_greek)\n",
    "    \n",
    "    def remove_greeklish(self,text):\n",
    "        # We replace every non-greek word with an empty string\n",
    "        latin_pattern = r'\\b[a-zA-Z]+\\b'\n",
    "        return re.sub(latin_pattern, '', text)\n",
    "        \n",
    "    def stemming(self,text):\n",
    "        words = text.split() \n",
    "        stemmed_words = [stemmer.stem_word(word,'VB') for word in words]\n",
    "        return \" \".join(stemmed_words)\n",
    "    \n",
    "    def lemmatization(self,text):\n",
    "        doc = nlp(text)\n",
    "        return ' '.join([token.lemma_ for token in doc])\n",
    "    \n",
    "    def remove_redundant(self,text):\n",
    "        words = text.split()  \n",
    "        cleaned_words = []\n",
    "\n",
    "        for word in words:\n",
    "            cleaned_word = word.rstrip('ς')  # Remove redundant ς characters from the end of the word\n",
    "            cleaned_words.append(cleaned_word)\n",
    "\n",
    "        return  ' '.join(cleaned_words) \n",
    "    \n",
    "    def fit(self, X, y=None, **fit_params):\n",
    "        return self   \n",
    "    \n",
    "    def transform(self, X, **transform_params):\n",
    "        \n",
    "        filtered_X = X.apply(self.remove_tags).apply(self.remove_urls)\n",
    "        \n",
    "        if 'remove_emojis' in transform_params:\n",
    "            filtered_X = filtered_X.apply(self.remove_emoji)\n",
    "        else :\n",
    "            filtered_X = filtered_X.apply(self.emoji_to_word)\n",
    "            \n",
    "        if 'remove_hashtags' in transform_params:\n",
    "            filtered_X = filtered_X.apply(self.remove_hashtags)            \n",
    "            \n",
    "        filtered_X = filtered_X.apply(self.remove_punctuation).apply(self.remove_greeklish)\n",
    "        \n",
    "        if 'remove_digits' in transform_params:\n",
    "            filtered_X = filtered_X.apply(self.remove_digits)\n",
    "            \n",
    "        if 'remove_greeklish' in transform_params:\n",
    "            filtered_X = filtered_X.apply(self.remove_greeklish)   \n",
    "        else :\n",
    "            filtered_X = filtered_X.apply(self.convert_greeklish)   \n",
    "            \n",
    "        if 'lemmatization'in transform_params:\n",
    "            filtered_X = filtered_X.apply(self.lemmatization)\n",
    "            \n",
    "        elif 'stemming'in transform_params:\n",
    "            filtered_X = filtered_X.apply(self.stemming)\n",
    "        \n",
    "        filtered_X = filtered_X.apply(self.remove_accents).apply(self.to_lower).apply(self.remove_redundant).apply(self.remove_stopwords)\n",
    "        return filtered_X  \n",
    "    \n",
    "    def fit_transform(self, X, **transform_params):\n",
    "        # Fit phase\n",
    "        self.fit(X)\n",
    "\n",
    "        # Transform phase using the provided transform_params\n",
    "        return self.transform(X, **transform_params)  "
   ]
  },
  {
   "cell_type": "code",
   "execution_count": 5,
   "id": "509eb7cf",
   "metadata": {
    "execution": {
     "iopub.execute_input": "2024-01-01T11:40:33.196265Z",
     "iopub.status.busy": "2024-01-01T11:40:33.195602Z",
     "iopub.status.idle": "2024-01-01T11:40:33.202269Z",
     "shell.execute_reply": "2024-01-01T11:40:33.201464Z"
    },
    "papermill": {
     "duration": 0.031087,
     "end_time": "2024-01-01T11:40:33.204750",
     "exception": false,
     "start_time": "2024-01-01T11:40:33.173663",
     "status": "completed"
    },
    "tags": []
   },
   "outputs": [],
   "source": [
    "#Tweets have different number of vectors according to the words they contain\n",
    "#We calculate the average of all vectors per tweet as an output for the model\n",
    "def avg_w2v_vector(w2v_dict, tweet):\n",
    "    word_vectors = [w2v_dict[w] for w in tweet if w in w2v_dict.key_to_index.keys()]\n",
    "    \n",
    "    if len(word_vectors) == 0:\n",
    "        result = [0.0]*210       #210 is the vector size of the model\n",
    "    else:\n",
    "        result = np.sum(word_vectors, axis=0) / len(word_vectors)\n",
    "        \n",
    "    return result"
   ]
  },
  {
   "cell_type": "markdown",
   "id": "640ce10f",
   "metadata": {
    "papermill": {
     "duration": 0.019639,
     "end_time": "2024-01-01T11:40:33.244259",
     "exception": false,
     "start_time": "2024-01-01T11:40:33.224620",
     "status": "completed"
    },
    "tags": []
   },
   "source": [
    "20 Most Common Words after Text Processing:"
   ]
  },
  {
   "cell_type": "code",
   "execution_count": 6,
   "id": "d8e5e68b",
   "metadata": {
    "execution": {
     "iopub.execute_input": "2024-01-01T11:40:33.287716Z",
     "iopub.status.busy": "2024-01-01T11:40:33.287261Z",
     "iopub.status.idle": "2024-01-01T11:40:44.007975Z",
     "shell.execute_reply": "2024-01-01T11:40:44.006686Z"
    },
    "papermill": {
     "duration": 10.745887,
     "end_time": "2024-01-01T11:40:44.010985",
     "exception": false,
     "start_time": "2024-01-01T11:40:33.265098",
     "status": "completed"
    },
    "tags": []
   },
   "outputs": [
    {
     "data": {
      "text/plain": [
       "(array([ 0,  1,  2,  3,  4,  5,  6,  7,  8,  9, 10, 11, 12, 13, 14, 15, 16,\n",
       "        17, 18, 19]),\n",
       " [Text(0, 0, 'τσιπρα'),\n",
       "  Text(1, 0, 'μητσοτακη'),\n",
       "  Text(2, 0, 'νδ'),\n",
       "  Text(3, 0, 'συριζα'),\n",
       "  Text(4, 0, 'εκλογε'),\n",
       "  Text(5, 0, 'κκε'),\n",
       "  Text(6, 0, 'σκαι'),\n",
       "  Text(7, 0, 'πασοκ'),\n",
       "  Text(8, 0, 'κιναλ'),\n",
       "  Text(9, 0, 'στι'),\n",
       "  Text(10, 0, 'σα'),\n",
       "  Text(11, 0, 'κανει'),\n",
       "  Text(12, 0, 'αλεξη'),\n",
       "  Text(13, 0, 'νεα'),\n",
       "  Text(14, 0, 'πω'),\n",
       "  Text(15, 0, 'ελλαδα'),\n",
       "  Text(16, 0, 'συνεντευξη'),\n",
       "  Text(17, 0, 'κυριακο'),\n",
       "  Text(18, 0, 'ξεφτιλε'),\n",
       "  Text(19, 0, 'δημοκρατια')])"
      ]
     },
     "execution_count": 6,
     "metadata": {},
     "output_type": "execute_result"
    },
    {
     "data": {
      "image/png": "[encoded data removed]",
      "text/plain": [
       "<Figure size 2500x2500 with 1 Axes>"
      ]
     },
     "metadata": {},
     "output_type": "display_data"
    }
   ],
   "source": [
    "#Data Cleaning\n",
    "Processor = DataPreprocessing()\n",
    "params = {'remove_emojis' : 'y'}\n",
    "original_df['Text'] = Processor.fit_transform(original_df['Text'],**params)\n",
    "#Analysing words' frequency and statistics\n",
    "words = nltk.tokenize.word_tokenize(original_df['Text'].str.cat(sep=' '))\n",
    "word_dist = nltk.FreqDist(words)\n",
    "most_common = pd.Series(dict(word_dist.most_common(20)))\n",
    "fig, ax = plt.subplots(figsize=(25,25))\n",
    "all_plot = sns.barplot(x=most_common.index, y=most_common.values, ax=ax)\n",
    "plt.xticks(rotation=30)"
   ]
  },
  {
   "cell_type": "markdown",
   "id": "a8d6511e",
   "metadata": {
    "papermill": {
     "duration": 0.020877,
     "end_time": "2024-01-01T11:40:44.053129",
     "exception": false,
     "start_time": "2024-01-01T11:40:44.032252",
     "status": "completed"
    },
    "tags": []
   },
   "source": [
    "Vectorization:"
   ]
  },
  {
   "cell_type": "code",
   "execution_count": 7,
   "id": "c8a1685c",
   "metadata": {
    "execution": {
     "iopub.execute_input": "2024-01-01T11:40:44.168938Z",
     "iopub.status.busy": "2024-01-01T11:40:44.168074Z",
     "iopub.status.idle": "2024-01-01T11:41:02.343543Z",
     "shell.execute_reply": "2024-01-01T11:41:02.342432Z"
    },
    "papermill": {
     "duration": 18.271681,
     "end_time": "2024-01-01T11:41:02.346412",
     "exception": false,
     "start_time": "2024-01-01T11:40:44.074731",
     "status": "completed"
    },
    "tags": []
   },
   "outputs": [],
   "source": [
    "#Drop rows from database where column has been left empty\n",
    "final_df = original_df.dropna(axis=0, how='any')\n",
    "\n",
    "#Word Embeddings Using Word2Vec\n",
    "final_df['Text'] = final_df['Text'].apply(lambda x: word_tokenize(x))\n",
    "\n",
    "# Train Word2Vec model\n",
    "cores = multiprocessing.cpu_count() # Utilize all the computer's cores\n",
    "model = Word2Vec(final_df['Text'], \n",
    "                 vector_size=210, \n",
    "                 window=10, \n",
    "                 min_count=1, \n",
    "                 workers=cores-1)\n",
    "\n",
    "final_df['Text'] = final_df['Text'].apply(lambda x: avg_w2v_vector(model.wv,x))\n",
    "labels_to_int = {\"POSITIVE\" : 0, \"NEGATIVE\" : 1 , \"NEUTRAL\" : 2}\n",
    "int_to_labels = {0 : \"POSITIVE\", 1 : \"NEGATIVE\", 2 : \"NEUTRAL\"}\n",
    "labels = labels.apply(lambda x: labels_to_int.get(x))"
   ]
  },
  {
   "cell_type": "markdown",
   "id": "c773e68b",
   "metadata": {
    "papermill": {
     "duration": 0.021057,
     "end_time": "2024-01-01T11:41:02.389050",
     "exception": false,
     "start_time": "2024-01-01T11:41:02.367993",
     "status": "completed"
    },
    "tags": []
   },
   "source": [
    "Creating Sets:"
   ]
  },
  {
   "cell_type": "code",
   "execution_count": 8,
   "id": "4a305f30",
   "metadata": {
    "execution": {
     "iopub.execute_input": "2024-01-01T11:41:02.434514Z",
     "iopub.status.busy": "2024-01-01T11:41:02.433264Z",
     "iopub.status.idle": "2024-01-01T11:41:02.446117Z",
     "shell.execute_reply": "2024-01-01T11:41:02.444891Z"
    },
    "papermill": {
     "duration": 0.038643,
     "end_time": "2024-01-01T11:41:02.449203",
     "exception": false,
     "start_time": "2024-01-01T11:41:02.410560",
     "status": "completed"
    },
    "tags": []
   },
   "outputs": [],
   "source": [
    "#For consistency in results we use a deterministic way to control the source of random number generator\n",
    "random.seed(45)\n",
    "np.random.seed(45)\n",
    "torch.manual_seed(45)\n",
    "torch.backends.cudnn.deterministic = True\n",
    "torch.backends.cudnn.benchmark = False\n",
    "torch.cuda.manual_seed_all(45)"
   ]
  },
  {
   "cell_type": "code",
   "execution_count": 9,
   "id": "bdd5f5ba",
   "metadata": {
    "execution": {
     "iopub.execute_input": "2024-01-01T11:41:02.494746Z",
     "iopub.status.busy": "2024-01-01T11:41:02.493989Z",
     "iopub.status.idle": "2024-01-01T11:41:05.486695Z",
     "shell.execute_reply": "2024-01-01T11:41:05.485410Z"
    },
    "papermill": {
     "duration": 3.018881,
     "end_time": "2024-01-01T11:41:05.489610",
     "exception": false,
     "start_time": "2024-01-01T11:41:02.470729",
     "status": "completed"
    },
    "tags": []
   },
   "outputs": [],
   "source": [
    "device = torch.device('cuda' if torch.cuda.is_available() else 'cpu')\n",
    "\n",
    "X = torch.tensor(final_df['Text'], dtype=torch.float, device=device)\n",
    "Y = torch.tensor(labels, dtype=torch.float, device=device)\n",
    "\n",
    "#Splitting into Training & Test Set\n",
    "train_X, remaining_X ,train_Y, remaining_Y = train_test_split(X, Y, test_size=0.2, random_state=28)\n",
    "val_X, test_X , val_Y, test_Y = train_test_split(remaining_X, remaining_Y, test_size=0.5, random_state=28)\n",
    "\n",
    "train_set = torch.utils.data.TensorDataset(train_X, train_Y)\n",
    "train_loader = torch.utils.data.DataLoader(train_set, batch_size = 32 ,shuffle=True)\n",
    "val_set = torch.utils.data.TensorDataset(val_X, val_Y)\n",
    "val_loader = torch.utils.data.DataLoader(val_set, batch_size = val_X.shape[0] ,shuffle=True)\n",
    "test_set = torch.utils.data.TensorDataset(test_X, test_Y)\n",
    "test_loader = torch.utils.data.DataLoader(test_set, batch_size = test_X.shape[0] ,shuffle=True)"
   ]
  },
  {
   "cell_type": "markdown",
   "id": "109a5e52",
   "metadata": {
    "papermill": {
     "duration": 0.021746,
     "end_time": "2024-01-01T11:41:05.533585",
     "exception": false,
     "start_time": "2024-01-01T11:41:05.511839",
     "status": "completed"
    },
    "tags": []
   },
   "source": [
    "Deep Neural Network :"
   ]
  },
  {
   "cell_type": "code",
   "execution_count": 10,
   "id": "0a69a043",
   "metadata": {
    "execution": {
     "iopub.execute_input": "2024-01-01T11:41:05.580418Z",
     "iopub.status.busy": "2024-01-01T11:41:05.579976Z",
     "iopub.status.idle": "2024-01-01T11:41:05.589451Z",
     "shell.execute_reply": "2024-01-01T11:41:05.588502Z"
    },
    "papermill": {
     "duration": 0.036091,
     "end_time": "2024-01-01T11:41:05.591780",
     "exception": false,
     "start_time": "2024-01-01T11:41:05.555689",
     "status": "completed"
    },
    "tags": []
   },
   "outputs": [],
   "source": [
    "class DNN(nn.Module):\n",
    "  def __init__(self, drop, activation):\n",
    "    super(DNN, self).__init__()\n",
    "        \n",
    "    self.input_layer = nn.Linear(210,90)\n",
    "    self.hidden_1 = nn.Linear(90,30)\n",
    "    self.hidden_2 = nn.Linear(30,10)\n",
    "    self.output = nn.Linear(10,3)\n",
    "    self.activation = activation()\n",
    "    self.dropout = nn.Dropout(drop)\n",
    "    self.final = nn.Softmax(dim=1)\n",
    "    \n",
    "  def forward(self, x):\n",
    "    x = self.activation(self.input_layer(x))\n",
    "    x = self.dropout(x)\n",
    "    x = self.activation(self.hidden_1(x))\n",
    "    x = self.dropout(x)\n",
    "    x = self.output(self.hidden_2(x))\n",
    "    x = self.dropout(x)\n",
    "    return self.final(x)"
   ]
  },
  {
   "cell_type": "markdown",
   "id": "a9db8eba",
   "metadata": {
    "papermill": {
     "duration": 0.021659,
     "end_time": "2024-01-01T11:41:05.634842",
     "exception": false,
     "start_time": "2024-01-01T11:41:05.613183",
     "status": "completed"
    },
    "tags": []
   },
   "source": [
    "Training and assessing the model's parameters on each epoch on the validation set to keep the one with the best f1-score and the best epoch (avoiding overfitting)"
   ]
  },
  {
   "cell_type": "code",
   "execution_count": 11,
   "id": "71709be5",
   "metadata": {
    "execution": {
     "iopub.execute_input": "2024-01-01T11:41:05.682136Z",
     "iopub.status.busy": "2024-01-01T11:41:05.681094Z",
     "iopub.status.idle": "2024-01-01T11:41:05.691552Z",
     "shell.execute_reply": "2024-01-01T11:41:05.690550Z"
    },
    "papermill": {
     "duration": 0.037008,
     "end_time": "2024-01-01T11:41:05.694233",
     "exception": false,
     "start_time": "2024-01-01T11:41:05.657225",
     "status": "completed"
    },
    "tags": []
   },
   "outputs": [],
   "source": [
    "def evaluation(loader, loss_func, neural):\n",
    "    neural.eval()\n",
    "    total_error = 0\n",
    "    total_correct = 0\n",
    "    all_preds = []\n",
    "    all_labels = []\n",
    "\n",
    "    with torch.no_grad():\n",
    "        for i, (X, label) in enumerate(loader):\n",
    "            X = X.to(device)\n",
    "            label = label.to(device).type(torch.LongTensor)\n",
    "            pred = neural(X)\n",
    "            total_correct += (pred.argmax(1) == label).type(torch.LongTensor).sum().item()\n",
    "            total_error += loss_func(pred, label).item()\n",
    "\n",
    "            # Accumulate predictions and labels for computing metrics after all batches\n",
    "            all_preds.extend(pred.argmax(1).cpu().tolist())\n",
    "            all_labels.extend(label.cpu().tolist())\n",
    "\n",
    "    avg_error = total_error / len(loader.dataset)\n",
    "    f1_macro = f1_score(all_labels, all_preds, average='macro')\n",
    "    accuracy = total_correct / len(loader.dataset) * 100\n",
    "    conf_matrix = confusion_matrix(all_labels, all_preds)\n",
    "\n",
    "    return avg_error , f1_macro , accuracy , conf_matrix ,all_preds"
   ]
  },
  {
   "cell_type": "code",
   "execution_count": 12,
   "id": "fc241d15",
   "metadata": {
    "execution": {
     "iopub.execute_input": "2024-01-01T11:41:05.739638Z",
     "iopub.status.busy": "2024-01-01T11:41:05.738918Z",
     "iopub.status.idle": "2024-01-01T11:41:05.748096Z",
     "shell.execute_reply": "2024-01-01T11:41:05.746940Z"
    },
    "papermill": {
     "duration": 0.035441,
     "end_time": "2024-01-01T11:41:05.750852",
     "exception": false,
     "start_time": "2024-01-01T11:41:05.715411",
     "status": "completed"
    },
    "tags": []
   },
   "outputs": [],
   "source": [
    "#We do validation in every single epoch so it has to be combined in the training function to evaluate the efficiency of current parameters\n",
    "def train_and_val(epochs,optimizer,train_loader,val_loader,loss_func,neural,patience) :\n",
    "\n",
    "  neural.train()\n",
    "  best_score = -1\n",
    "  continuous = 0\n",
    "  #Iterate through batches for every epoch\n",
    "  for epoch in range(epochs) :\n",
    "    #iterating through batches\n",
    "    for i , (X,label) in enumerate(train_loader) :\n",
    "      # set to zero the parameter gradients\n",
    "      optimizer.zero_grad()\n",
    "      # computing loss\n",
    "      #input data and neural network must be in the same device\n",
    "      X = X.to(device)\n",
    "      label = label.type(torch.LongTensor).to(device)\n",
    "      pred = neural(X)\n",
    "      error = loss_func(pred,label)\n",
    "      # computing gradients/the direction that fits our objective\n",
    "      error.backward()\n",
    "      #optimizing weights/slightly adjusting parameters\n",
    "      optimizer.step()\n",
    "    #compute validation scores for each epoch\n",
    "    loss , f1 , acc , cf_matr  , preds = evaluation(val_loader,loss_func,neural)\n",
    "\n",
    "    if acc > best_score :\n",
    "      wanted = neural\n",
    "      best_score = acc\n",
    "      best_epoch = epoch\n",
    "    else :\n",
    "      continuous += 1\n",
    "      if continuous == patience :\n",
    "          return wanted,best_epoch\n",
    "        \n",
    "  return wanted,best_epoch"
   ]
  },
  {
   "cell_type": "markdown",
   "id": "3678ef7e",
   "metadata": {
    "papermill": {
     "duration": 0.021008,
     "end_time": "2024-01-01T11:41:05.793595",
     "exception": false,
     "start_time": "2024-01-01T11:41:05.772587",
     "status": "completed"
    },
    "tags": []
   },
   "source": [
    "Experiments:"
   ]
  },
  {
   "cell_type": "code",
   "execution_count": 13,
   "id": "01f3db7d",
   "metadata": {
    "execution": {
     "iopub.execute_input": "2024-01-01T11:41:05.839007Z",
     "iopub.status.busy": "2024-01-01T11:41:05.838603Z",
     "iopub.status.idle": "2024-01-01T11:41:05.848988Z",
     "shell.execute_reply": "2024-01-01T11:41:05.847859Z"
    },
    "papermill": {
     "duration": 0.036371,
     "end_time": "2024-01-01T11:41:05.851609",
     "exception": false,
     "start_time": "2024-01-01T11:41:05.815238",
     "status": "completed"
    },
    "tags": []
   },
   "outputs": [],
   "source": [
    "import logging\n",
    "\n",
    "# Set the logging level to CRITICAL to deactivate messages\n",
    "optuna.logging.set_verbosity(optuna.logging.CRITICAL)\n",
    "\n",
    "def objective(trial):\n",
    "    # Define the search space for hyperparameters\n",
    "    epoch = trial.suggest_categorical('epochs', [30, 60])\n",
    "    func = trial.suggest_categorical('activation_function', [nn.ReLU, nn.Tanh, nn.LeakyReLU, nn.CELU, nn.Hardshrink])\n",
    "    drop = trial.suggest_categorical('dropout_rate', [0.5, 0.6, 0.7, 0.8])\n",
    "    opt = trial.suggest_categorical('optimizer', [\"SGD\", \"Adam\", \"Adagrad\", \"Adadelta\", \"Adamax\"])\n",
    "    rate = trial.suggest_categorical('learning_rate', [0.0001,0.001, 0.01, 0.1])\n",
    "    patience = trial.suggest_categorical('patience', [5, 10,15])\n",
    "\n",
    "    dnn = DNN(drop, func).to(device)\n",
    "    optimizer = getattr(torch.optim, opt)(dnn.parameters(), lr=rate)\n",
    "    loss_func = nn.CrossEntropyLoss()\n",
    "    best_model,best_epoch = train_and_val(epoch, optimizer, train_loader, val_loader, loss_func, dnn,patience)\n",
    "    loss, f1, acc, cf_matr , preds = evaluation(test_loader, loss_func, best_model)\n",
    "\n",
    "    return acc  # The accuracy is the metric to be maximized"
   ]
  },
  {
   "cell_type": "markdown",
   "id": "b3a70611",
   "metadata": {
    "papermill": {
     "duration": 0.021074,
     "end_time": "2024-01-01T11:41:05.894630",
     "exception": false,
     "start_time": "2024-01-01T11:41:05.873556",
     "status": "completed"
    },
    "tags": []
   },
   "source": [
    "Best Parameters for the Model:"
   ]
  },
  {
   "cell_type": "code",
   "execution_count": 14,
   "id": "a4f92278",
   "metadata": {
    "execution": {
     "iopub.execute_input": "2024-01-01T11:41:05.939376Z",
     "iopub.status.busy": "2024-01-01T11:41:05.938868Z",
     "iopub.status.idle": "2024-01-01T16:53:21.561517Z",
     "shell.execute_reply": "2024-01-01T16:53:21.560286Z"
    },
    "papermill": {
     "duration": 18735.648758,
     "end_time": "2024-01-01T16:53:21.564738",
     "exception": false,
     "start_time": "2024-01-01T11:41:05.915980",
     "status": "completed"
    },
    "tags": []
   },
   "outputs": [],
   "source": [
    "study = optuna.create_study(direction='maximize')  # maximize accuracy\n",
    "study.optimize(objective, n_trials=350)# Run optimization for 350 trials"
   ]
  },
  {
   "cell_type": "code",
   "execution_count": 15,
   "id": "61f86902",
   "metadata": {
    "execution": {
     "iopub.execute_input": "2024-01-01T16:53:21.610240Z",
     "iopub.status.busy": "2024-01-01T16:53:21.609817Z",
     "iopub.status.idle": "2024-01-01T16:54:16.158432Z",
     "shell.execute_reply": "2024-01-01T16:54:16.157326Z"
    },
    "papermill": {
     "duration": 54.573892,
     "end_time": "2024-01-01T16:54:16.160992",
     "exception": false,
     "start_time": "2024-01-01T16:53:21.587100",
     "status": "completed"
    },
    "tags": []
   },
   "outputs": [
    {
     "name": "stdout",
     "output_type": "stream",
     "text": [
      "Best parameters  {'epochs': 30, 'activation_function': <class 'torch.nn.modules.activation.ReLU'>, 'dropout_rate': 0.6, 'optimizer': 'Adam', 'learning_rate': 0.0001, 'patience': 15}\n",
      "Best epoch is :  14\n",
      "Best f1-score is :  38.14906757437173 best accuracy is  39.479340816813945\n"
     ]
    }
   ],
   "source": [
    "# Print the best hyperparameters and their corresponding accuracy\n",
    "best_parameters = study.best_params\n",
    "print(\"Best parameters \",best_parameters)\n",
    "\n",
    "epochs = best_parameters['epochs']\n",
    "patience = best_parameters['patience']\n",
    "dnn = DNN(best_parameters['dropout_rate'],best_parameters['activation_function']).to(device)\n",
    "optimizer = getattr(torch.optim, best_parameters['optimizer'])(dnn.parameters(), lr=best_parameters['learning_rate'])\n",
    "loss_func = nn.CrossEntropyLoss()\n",
    "best_model,best_epoch = train_and_val(epochs,optimizer,train_loader,val_loader,loss_func,dnn,patience)\n",
    "print(\"Best epoch is : \",best_epoch)\n",
    "loss , f1 , best_accuracy , cf_matr , preds = evaluation(test_loader,loss_func,best_model)\n",
    "print(\"Best f1-score is : \",f1*100 ,\"best accuracy is \", best_accuracy)"
   ]
  },
  {
   "cell_type": "markdown",
   "id": "37205f2d",
   "metadata": {
    "papermill": {
     "duration": 0.020716,
     "end_time": "2024-01-01T16:54:16.202992",
     "exception": false,
     "start_time": "2024-01-01T16:54:16.182276",
     "status": "completed"
    },
    "tags": []
   },
   "source": [
    "Test Training with schedulers:"
   ]
  },
  {
   "cell_type": "code",
   "execution_count": 16,
   "id": "8593f817",
   "metadata": {
    "execution": {
     "iopub.execute_input": "2024-01-01T16:54:16.247578Z",
     "iopub.status.busy": "2024-01-01T16:54:16.246908Z",
     "iopub.status.idle": "2024-01-01T16:54:16.256728Z",
     "shell.execute_reply": "2024-01-01T16:54:16.255839Z"
    },
    "papermill": {
     "duration": 0.035139,
     "end_time": "2024-01-01T16:54:16.258997",
     "exception": false,
     "start_time": "2024-01-01T16:54:16.223858",
     "status": "completed"
    },
    "tags": []
   },
   "outputs": [],
   "source": [
    "#We do validation in every single epoch so it has to be combined in the training function to evaluate the efficiency of current parameters\n",
    "def train_with_sched(epochs,optimizer,train_loader,val_loader,loss_func,neural,patience,scheduler) :\n",
    "\n",
    "  neural.train()\n",
    "  best_score = -1\n",
    "  continuous = 0\n",
    "  #Iterate through batches for every epoch\n",
    "  for epoch in range(epochs) :\n",
    "    #iterating through batches\n",
    "    for i , (X,label) in enumerate(train_loader) :\n",
    "      # set to zero the parameter gradients\n",
    "      optimizer.zero_grad()\n",
    "      # computing loss\n",
    "      #input data and neural network must be in the same device\n",
    "      X = X.to(device)\n",
    "      label = label.type(torch.LongTensor).to(device)\n",
    "      pred = neural(X)\n",
    "      error = loss_func(pred,label)\n",
    "      # computing gradients/the direction that fits our objective\n",
    "      error.backward()\n",
    "      #optimizing weights/slightly adjusting parameters\n",
    "      optimizer.step()\n",
    "    #compute validation scores for each epoch\n",
    "    loss , f1 , acc , cf_matr  , preds = evaluation(val_loader,loss_func,neural)\n",
    "    if scheduler != None :\n",
    "        scheduler.step()\n",
    "\n",
    "    if acc > best_score :\n",
    "      wanted = neural\n",
    "      best_score = acc\n",
    "      best_epoch = epoch\n",
    "    else :\n",
    "      continuous += 1\n",
    "      if continuous == patience :\n",
    "          return wanted,best_epoch\n",
    "        \n",
    "  return wanted,best_epoch"
   ]
  },
  {
   "cell_type": "code",
   "execution_count": 17,
   "id": "45299ea9",
   "metadata": {
    "execution": {
     "iopub.execute_input": "2024-01-01T16:54:16.302694Z",
     "iopub.status.busy": "2024-01-01T16:54:16.302045Z",
     "iopub.status.idle": "2024-01-01T16:54:16.308670Z",
     "shell.execute_reply": "2024-01-01T16:54:16.307941Z"
    },
    "papermill": {
     "duration": 0.030649,
     "end_time": "2024-01-01T16:54:16.310722",
     "exception": false,
     "start_time": "2024-01-01T16:54:16.280073",
     "status": "completed"
    },
    "tags": []
   },
   "outputs": [],
   "source": [
    "def test_sched(epochs,optimizer,train_loader,val_loader,test_loader,best_accuracy,best_sched,loss_func,neural,patience,scheduler) :\n",
    "\n",
    "    best_model,best_epoch = train_with_sched(epochs,optimizer,train_loader,val_loader,loss_func,neural,patience,scheduler)\n",
    "    loss , f1 , acc , cf_matr , preds = evaluation(test_loader,loss_func,best_model)\n",
    "    if(acc > best_accuracy) :\n",
    "        return acc,scheduler\n",
    "    return best_accuracy,best_sched"
   ]
  },
  {
   "cell_type": "code",
   "execution_count": 18,
   "id": "c222db02",
   "metadata": {
    "execution": {
     "iopub.execute_input": "2024-01-01T16:54:16.354695Z",
     "iopub.status.busy": "2024-01-01T16:54:16.354276Z",
     "iopub.status.idle": "2024-01-01T16:55:40.434841Z",
     "shell.execute_reply": "2024-01-01T16:55:40.433408Z"
    },
    "papermill": {
     "duration": 84.129553,
     "end_time": "2024-01-01T16:55:40.461434",
     "exception": false,
     "start_time": "2024-01-01T16:54:16.331881",
     "status": "completed"
    },
    "tags": []
   },
   "outputs": [
    {
     "name": "stdout",
     "output_type": "stream",
     "text": [
      "Best Accuracy is 39.479340816813945 with scheduler : None\n"
     ]
    }
   ],
   "source": [
    "from torch.optim import lr_scheduler\n",
    "\n",
    "best_sched = None\n",
    "step_sched = lr_scheduler.StepLR(optimizer, step_size=10, gamma=0.1)\n",
    "exp_sched = lr_scheduler.ExponentialLR(optimizer, gamma=0.1)\n",
    "\n",
    "#Check schedulers'effect on accuracy\n",
    "best_accuracy,best_sched = test_sched(epochs,optimizer,train_loader,val_loader,test_loader,best_accuracy,best_sched,loss_func,dnn,patience,step_sched)\n",
    "best_accuracy,best_sched = test_sched(epochs,optimizer,train_loader,val_loader,test_loader,best_accuracy,best_sched,loss_func,dnn,patience,exp_sched)\n",
    "print(\"Best Accuracy is\",best_accuracy,\"with scheduler :\",best_sched)"
   ]
  },
  {
   "cell_type": "markdown",
   "id": "e3acc4b1",
   "metadata": {
    "papermill": {
     "duration": 0.028248,
     "end_time": "2024-01-01T16:55:40.514902",
     "exception": false,
     "start_time": "2024-01-01T16:55:40.486654",
     "status": "completed"
    },
    "tags": []
   },
   "source": [
    "Confusion Matrix for Best Model:"
   ]
  },
  {
   "cell_type": "code",
   "execution_count": 19,
   "id": "6598b603",
   "metadata": {
    "execution": {
     "iopub.execute_input": "2024-01-01T16:55:40.582496Z",
     "iopub.status.busy": "2024-01-01T16:55:40.582045Z",
     "iopub.status.idle": "2024-01-01T16:55:40.943401Z",
     "shell.execute_reply": "2024-01-01T16:55:40.941805Z"
    },
    "papermill": {
     "duration": 0.394631,
     "end_time": "2024-01-01T16:55:40.946240",
     "exception": false,
     "start_time": "2024-01-01T16:55:40.551609",
     "status": "completed"
    },
    "tags": []
   },
   "outputs": [
    {
     "data": {
      "image/png": "[encoded data removed]",
      "text/plain": [
       "<Figure size 500x400 with 2 Axes>"
      ]
     },
     "metadata": {},
     "output_type": "display_data"
    }
   ],
   "source": [
    "cm_df = pd.DataFrame(cf_matr,\n",
    "                     index = acceptable_labels, \n",
    "                     columns = acceptable_labels)\n",
    "#Plotting the confusion matrix\n",
    "plt.figure(figsize=(5,4))\n",
    "sns.heatmap(cm_df, annot=True)\n",
    "plt.title('Confusion Matrix')\n",
    "plt.ylabel('Actual Values')\n",
    "plt.xlabel('Predicted Values')\n",
    "plt.show()"
   ]
  },
  {
   "cell_type": "markdown",
   "id": "cb7b72ed",
   "metadata": {
    "papermill": {
     "duration": 0.022881,
     "end_time": "2024-01-01T16:55:40.991964",
     "exception": false,
     "start_time": "2024-01-01T16:55:40.969083",
     "status": "completed"
    },
    "tags": []
   },
   "source": [
    "Training & Validation Accuracy Curve:"
   ]
  },
  {
   "cell_type": "code",
   "execution_count": 20,
   "id": "2cb80ac1",
   "metadata": {
    "execution": {
     "iopub.execute_input": "2024-01-01T16:55:41.040585Z",
     "iopub.status.busy": "2024-01-01T16:55:41.039728Z",
     "iopub.status.idle": "2024-01-01T16:57:28.132814Z",
     "shell.execute_reply": "2024-01-01T16:57:28.131605Z"
    },
    "papermill": {
     "duration": 107.142412,
     "end_time": "2024-01-01T16:57:28.157986",
     "exception": false,
     "start_time": "2024-01-01T16:55:41.015574",
     "status": "completed"
    },
    "tags": []
   },
   "outputs": [
    {
     "data": {
      "image/png": "[encoded data removed]",
      "text/plain": [
       "<Figure size 640x480 with 1 Axes>"
      ]
     },
     "metadata": {},
     "output_type": "display_data"
    }
   ],
   "source": [
    "#Plotting Learning Curve\n",
    "X = torch.tensor(final_df['Text'], dtype=torch.float, device=device)\n",
    "Y = torch.tensor(labels, dtype=torch.float, device=device)\n",
    "\n",
    "#Splitting into training (80%) & Validation (20%) Set Only\n",
    "train_X, val_X ,train_Y, val_Y = train_test_split(X, Y, test_size=0.2, random_state=28)\n",
    "train_set = torch.utils.data.TensorDataset(train_X, train_Y)\n",
    "train_loader = torch.utils.data.DataLoader(train_set, batch_size = 32 ,shuffle=True)   \n",
    "val_set = torch.utils.data.TensorDataset(val_X, val_Y)\n",
    "val_loader = torch.utils.data.DataLoader(val_set, batch_size = val_X.shape[0] ,shuffle=True)\n",
    "\n",
    "train_scores = []\n",
    "train_loss = []\n",
    "val_scores = []\n",
    "val_loss = []\n",
    "\n",
    "dnn = DNN(best_parameters['dropout_rate'],best_parameters['activation_function']).to(device)\n",
    "optimizer = getattr(torch.optim, best_parameters['optimizer'])(dnn.parameters(), lr=best_parameters['learning_rate'])\n",
    "dnn.train()\n",
    "\n",
    "#Iterate through batches for every epoch\n",
    "for epoch in range(epochs) :\n",
    "    #iterating through batches\n",
    "    for i , (X,label) in enumerate(train_loader) :\n",
    "        # set to zero the parameter gradients\n",
    "        optimizer.zero_grad()\n",
    "        # computing loss\n",
    "        #input data and neural network must be in the same device\n",
    "        X = X.to(device)\n",
    "        label = label.type(torch.LongTensor).to(device)\n",
    "        pred = dnn(X)\n",
    "        error = loss_func(pred,label)\n",
    "        # computing gradients/the direction that fits our objective\n",
    "        error.backward()\n",
    "        #optimizing weights/slightly adjusting parameters\n",
    "        optimizer.step()\n",
    "    #compute validation & training scores for each epoch\n",
    "    loss , f1 , acc , cf_matr , preds = evaluation(val_loader,loss_func,dnn)\n",
    "    val_scores += [acc]\n",
    "    val_loss += [loss]\n",
    "    loss , f1 , acc , cf_matr , preds = evaluation(train_loader,loss_func,dnn)\n",
    "    train_scores += [acc]  \n",
    "    train_loss += [loss]\n",
    "    if step_sched != None :\n",
    "        step_sched.step()\n",
    "\n",
    "epoch_list = range(1, epochs + 1)\n",
    "plt.grid()\n",
    "plt.ylabel('Accuracy')\n",
    "plt.xlabel('Epochs')\n",
    "plt.plot(epoch_list, train_scores, label=\"Train Score\", color='blue')\n",
    "plt.plot(epoch_list, val_scores, label=\"Validation Score\", color='orange')\n",
    "plt.legend()\n",
    "plt.show()"
   ]
  },
  {
   "cell_type": "markdown",
   "id": "5028dea1",
   "metadata": {
    "papermill": {
     "duration": 0.024307,
     "end_time": "2024-01-01T16:57:28.205523",
     "exception": false,
     "start_time": "2024-01-01T16:57:28.181216",
     "status": "completed"
    },
    "tags": []
   },
   "source": [
    "Training & Validation Loss Curve :"
   ]
  },
  {
   "cell_type": "code",
   "execution_count": 21,
   "id": "758d1b15",
   "metadata": {
    "execution": {
     "iopub.execute_input": "2024-01-01T16:57:28.254302Z",
     "iopub.status.busy": "2024-01-01T16:57:28.253846Z",
     "iopub.status.idle": "2024-01-01T16:57:28.563253Z",
     "shell.execute_reply": "2024-01-01T16:57:28.561994Z"
    },
    "papermill": {
     "duration": 0.33692,
     "end_time": "2024-01-01T16:57:28.565945",
     "exception": false,
     "start_time": "2024-01-01T16:57:28.229025",
     "status": "completed"
    },
    "tags": []
   },
   "outputs": [
    {
     "data": {
      "image/png": "[encoded data removed]",
      "text/plain": [
       "<Figure size 640x480 with 1 Axes>"
      ]
     },
     "metadata": {},
     "output_type": "display_data"
    }
   ],
   "source": [
    "plt.grid()\n",
    "plt.ylabel('Loss')\n",
    "plt.xlabel('Epochs')\n",
    "\n",
    "# Setting colors for the training and validation loss curves\n",
    "plt.plot(epoch_list, train_loss, label=\"Training Loss\", color='blue')  # Set the color for training loss to blue\n",
    "plt.plot(epoch_list, val_loss, label=\"Validation Loss\", color='orange')  # Set the color for validation loss to orange\n",
    "\n",
    "# Show the legend\n",
    "plt.legend()\n",
    "plt.show()"
   ]
  },
  {
   "cell_type": "code",
   "execution_count": 22,
   "id": "d4ae34e5",
   "metadata": {
    "execution": {
     "iopub.execute_input": "2024-01-01T16:57:28.616153Z",
     "iopub.status.busy": "2024-01-01T16:57:28.615488Z",
     "iopub.status.idle": "2024-01-01T16:57:28.622179Z",
     "shell.execute_reply": "2024-01-01T16:57:28.621096Z"
    },
    "papermill": {
     "duration": 0.034161,
     "end_time": "2024-01-01T16:57:28.624497",
     "exception": false,
     "start_time": "2024-01-01T16:57:28.590336",
     "status": "completed"
    },
    "tags": []
   },
   "outputs": [],
   "source": [
    "def predict(loader, neural):\n",
    "    neural.eval()\n",
    "    all_preds = []\n",
    "\n",
    "    with torch.no_grad():\n",
    "        for i, (X ) in enumerate(loader):\n",
    "            X = X.to(device)\n",
    "            pred = neural(X)\n",
    "            # Accumulate predictions and labels for computing metrics after all batches\n",
    "            all_preds.extend(pred.argmax(1).cpu().tolist())\n",
    "\n",
    "    return all_preds"
   ]
  },
  {
   "cell_type": "markdown",
   "id": "17747495",
   "metadata": {
    "papermill": {
     "duration": 0.023673,
     "end_time": "2024-01-01T16:57:28.673273",
     "exception": false,
     "start_time": "2024-01-01T16:57:28.649600",
     "status": "completed"
    },
    "tags": []
   },
   "source": [
    "Implementing best model on actual test set:"
   ]
  },
  {
   "cell_type": "code",
   "execution_count": 23,
   "id": "7579d8bc",
   "metadata": {
    "execution": {
     "iopub.execute_input": "2024-01-01T16:57:28.724710Z",
     "iopub.status.busy": "2024-01-01T16:57:28.724103Z",
     "iopub.status.idle": "2024-01-01T16:58:34.187750Z",
     "shell.execute_reply": "2024-01-01T16:58:34.186824Z"
    },
    "papermill": {
     "duration": 65.491779,
     "end_time": "2024-01-01T16:58:34.190519",
     "exception": false,
     "start_time": "2024-01-01T16:57:28.698740",
     "status": "completed"
    },
    "tags": []
   },
   "outputs": [],
   "source": [
    "#Read Actual Test Set \n",
    "test_df = pd.read_csv(\"/kaggle/input/ys19-2023-assignment-2/test_set.csv\")\n",
    "\n",
    "#Perform best Data Preprocessing Technique \n",
    "params = {'remove_emojis' : 'y'}\n",
    "test_df['Text'] = Processor.fit_transform(test_df['Text'],**params)\n",
    "\n",
    "#Word Embeddings Using Word2Vec\n",
    "test_df['Text'] = test_df['Text'].apply(lambda x: word_tokenize(x))\n",
    "test_df['Text'] = test_df['Text'].apply(lambda x: avg_w2v_vector(model.wv,x))\n",
    "test_X = torch.tensor(test_df['Text'], dtype=torch.float, device=device)\n",
    "test_loader = torch.utils.data.DataLoader(test_X, batch_size = test_X.shape[0] ,shuffle=True)\n",
    "\n",
    "#Train the model in the entire dataset this time\n",
    "dnn = DNN(best_parameters['dropout_rate'],best_parameters['activation_function']).to(device)\n",
    "optimizer = getattr(torch.optim, best_parameters['optimizer'])(dnn.parameters(), lr=best_parameters['learning_rate'])\n",
    "best_model,best_epoch = train_with_sched(epochs,optimizer, train_loader, val_loader, loss_func, dnn,patience,best_sched)\n",
    "test_pred = predict(test_loader,dnn)\n",
    "\n",
    "# Create submission.csv output file\n",
    "with open(\"submission.csv\", \"w\", newline='') as output_file:\n",
    "    # Create a CSV writer\n",
    "    submission = csv.writer(output_file)\n",
    "\n",
    "    # Write the header row\n",
    "    submission.writerow([\"Id\", \"Predicted\"])\n",
    "\n",
    "    # Write the data rows\n",
    "    for idx, predicted_value in zip(test_df['New_ID'], test_pred):\n",
    "        submission.writerow([idx, int_to_labels[predicted_value]])"
   ]
  }
 ],
 "metadata": {
  "kaggle": {
   "accelerator": "none",
   "dataSources": [
    {
     "databundleVersionId": 7104041,
     "sourceId": 64789,
     "sourceType": "competition"
    },
    {
     "datasetId": 3987315,
     "sourceId": 6943103,
     "sourceType": "datasetVersion"
    }
   ],
   "dockerImageVersionId": 30587,
   "isGpuEnabled": false,
   "isInternetEnabled": true,
   "language": "python",
   "sourceType": "notebook"
  },
  "kernelspec": {
   "display_name": "Python 3",
   "language": "python",
   "name": "python3"
  },
  "language_info": {
   "codemirror_mode": {
    "name": "ipython",
    "version": 3
   },
   "file_extension": ".py",
   "mimetype": "text/x-python",
   "name": "python",
   "nbconvert_exporter": "python",
   "pygments_lexer": "ipython3",
   "version": "3.10.12"
  },
  "papermill": {
   "default_parameters": {},
   "duration": 19374.70163,
   "end_time": "2024-01-01T16:58:37.133562",
   "environment_variables": {},
   "exception": null,
   "input_path": "__notebook__.ipynb",
   "output_path": "__notebook__.ipynb",
   "parameters": {},
   "start_time": "2024-01-01T11:35:42.431932",
   "version": "2.4.0"
  }
 },
 "nbformat": 4,
 "nbformat_minor": 5
}
